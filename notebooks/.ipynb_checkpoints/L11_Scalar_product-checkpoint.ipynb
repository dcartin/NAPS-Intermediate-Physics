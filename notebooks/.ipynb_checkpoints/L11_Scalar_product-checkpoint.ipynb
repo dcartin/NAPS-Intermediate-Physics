{
 "cells": [
  {
   "cell_type": "markdown",
   "metadata": {
    "slideshow": {
     "slide_type": "slide"
    }
   },
   "source": [
    "(scal-prod)=\n",
    "# Scalar product\n",
    "\n",
    "## Overview\n",
    "\n",
    "There are many times where a mathematical object allows us to greatly simplify a calculation, where it would be tedious otherwise. Hopefully, you have seen that this is true with vectors -- they nicely codify many physical properties in three dimensions, and summarize this information in one equation (rather than three!). So, as we have recently seen, all the possible situations in relation motion are condensed into two vector equations.\n",
    "\n",
    "A similar idea motivates the definition of the \"scalar product\". A major use of the scalar product for us will be identifying the angle between two vectors, and specifically when they are parallel or perpendicular. The scalar product will be used several times in the rest of the course. In Lesson 12, we will use it when simulating 2D collisions in vPython. In Lesson 14, it helps define unit vectors for describing motion along a ramp, or perpendicular to it. In Lesson 21, the notion of \"work\" -- defined as a scalar product between force and displacement -- will be our gateway into the powerful methods of energy conservation.\n",
    "\n",
    "![Squash ball bouncing off of wall](../img/INT_AY20_MP1_L19_Fig01_Ball_bouncing_off_wall_small.png)\n",
    "\n",
    "We are defining it now so that we can use what we have covered in the previous few lessons to deal with two-dimensional collisions. To motivate this, let's consider an example we looked at before. Suppose we have a ball bouncing against a wall, where the wall is along the $x$ axis; this is shown in the figure above, taken from Lesson 08. We found there what is hopefully intuitive: the force of the wall does nothing to the $x$ component of the ball's velocity, but reverses the direction of the $y$ component, keeping its size the same.\n",
    "\n",
    "Notice that the same thing would happen if the wall were replaced by another ball! So this is a special example of a 2D collision. Now the question arises, what if the wall were *not* along the $x$ axis, but at some arbitrary angle? How do we \"reverse the direction\" of only one of the ball's velocity components? This is what would occur in a general 2D collision. You could work out the new velocity for any orientation of the wall, but it would be a trigonometric hassle. Instead, in Lesson 12, we will use the scalar product to find the perpendicular piece of the incoming velocity. So, let's now define the scalar product, and see it in action.\n",
    "\n",
    "Here are the objectives for this lesson:\n",
    "\n",
    "* Calculate the scalar product of two vectors.\n",
    "* Given a vector ${\\vec V}$, find a second vector that is perpendicular to ${\\vec V}$.\n",
    "* Given a vector ${\\vec V}$ and a set of vector equations, find the equation for the components parallel to ${\\vec V}$, and the equation for the components perpendicular to ${\\vec V}$.\n",
    "* Use the vPython functions `sin()`, `cos()`, and `radians()` to calculate the value of the trigonometric functions for an angle given in degrees."
   ]
  },
  {
   "cell_type": "markdown",
   "metadata": {
    "slideshow": {
     "slide_type": "slide"
    }
   },
   "source": [
    "## Scalar product\n",
    "\n",
    "### A new mathematical concept\n",
    "\n",
    "As we have seen in physics class, there are several times where mathematical tools are necessary to properly explain and understand physics concepts. For example, so far, you have seen trigonometry and vectors. These have helped us describe the motion of projectiles, see what happens when objects collide, and understand how moving objects appear to one another.\n",
    "\n",
    "Focusing on vectors, up to this point, you have seen how to add and subtract vectors (*vector addition*) and to make them bigger or smaller in size (*scalar multiplication*), possibly flipping their direction 180$^\\circ$ at the same time. Is there anything else we can do with vectors?\n",
    "\n",
    "It turns out that, given two vectors, there are two other mathematical operations we will see in this course. The first is called the **scalar product** (although often I will say \"dot product\", because of the symbol used!), which takes two vectors ${\\vec A}, {\\vec B}$ and outputs a scalar ${\\vec A} \\cdot {\\vec B}$.\n",
    "\n",
    "```{admonition} Pay attention to the name\n",
    ":class: warning\n",
    "The scalar product gives you a *scalar*, not a vector!\n",
    "```\n",
    "\n",
    "As with all math ideas we use in this course, the scalar product is helpful in summing up an important physical idea:\n",
    "\n",
    "> The scalar product ${\\vec A} \\cdot {\\vec B}$ depends on the size $A$ and $B$ of the two vectors, and the angle $\\theta$ between them.\n",
    "\n",
    "This will be useful for:\n",
    "\t\t\n",
    "* given a vector ${\\vec V}$, find a second vector that is perpendicular to ${\\vec V}$</li>\n",
    "* given a vector ${\\vec V}$ and vector equation, find the components of that equation parallel to ${\\vec V}$ (we have already done this secretly!)\n",
    "\n",
    "You will see at different points that this gives you important information about the physics in a particular situation. In the next lesson after this one, we will use the scalar product to find the motion of a block along a ramp (or *inclined plane*) by separating the forces that are parallel and perpendicular to the incline. Later on, you will see the scalar product when we find the *work* done on an object by a force; this will be the first step in finding the mechanical energy of the object as it moves along.\n",
    "\t\t\n",
    "There is a second operation, we will see the **vector product** (or \"cross product\", again from the sign used to denote the operation), which takes two vectors and outputs a third vector that is perpendicular to the first two."
   ]
  },
  {
   "cell_type": "markdown",
   "metadata": {
    "slideshow": {
     "slide_type": "slide"
    }
   },
   "source": [
    "### Definition of scalar product\n",
    "\n",
    "The easiest way to define what the scalar product does to the two vectors involved is to see what it does to the unit vectors ${\\hat x}, {\\hat y},$ and ${\\hat z}$ that point along each of the three axes. Remember that any vector in three-dimensional space can be written as the *vector* sum of scalar multiples of these vectors. It will be easy to see this, since the scalar product is defined so that it \"strips off\" the components of the vector. For example, if you have an arbitrary vector ${\\vec A}$, then it can be written as the vector sum\n",
    "\n",
    "$$\n",
    "    {\\vec A} = A_x {\\hat x} + A_y {\\hat y} + A_z {\\hat z}\n",
    "$$\n",
    "\n",
    "where $A_x, A_y,$ and $A_z$ are its three components. If we take the scalar product of this vector with the unit vector ${\\hat x}$, say, then the resulting scalar is just the $x$ component of the vector!\n",
    "\n",
    "$$\n",
    "    A_x = {\\vec A} \\cdot {\\hat x} = {\\hat x} \\cdot {\\vec A}\n",
    "$$\n",
    "\n",
    "The same would hold true for the other two components -- the scalar product ${\\vec A} \\cdot {\\hat y}$ would give the $y$ component $A_y$, for example. Note that it does not matter in which order you write the vectors; this is important to remember, since when we get to the vector product later in the class, this will not be true!\n",
    "\n",
    "So what definition is necessary in order for this to happen? Again, the idea is that the scalar product with a unit vector is \"stripping off\" the piece of the other vector in that direction. In other words, only the part of the vector ${\\vec A}$ that is *parallel* to the unit vector remains. A little bit of thought leads to the following definition:\n",
    "\t\t\n",
    "$$\n",
    "    {\\hat x} \\cdot {\\hat x} = {\\hat y} \\cdot {\\hat y} = {\\hat z} \\cdot {\\hat z} = 1\n",
    "$$\n",
    "\t\t\n",
    "The unit vectors ${\\hat x}, {\\hat y}$ and ${\\hat z}$ are all perpendicular to each other -- each of the three has no component along the other two -- so that\n",
    "\t\t\n",
    "$$\n",
    "    {\\hat x} \\cdot {\\hat y} = {\\hat x} \\cdot {\\hat z} = {\\hat y} \\cdot {\\hat z} = 0\n",
    "$$\n",
    "\t\t\n",
    "These relations define the scalar product. The scalar product of two generic vectors can be found from these. For example, by using distribution,\n",
    "\n",
    "$$\n",
    "\t{\\vec C} \\cdot {\\vec D} = (C_x {\\hat x} + C_y {\\hat y} + C_z {\\hat z}) \\cdot (D_x {\\hat x} + D_y {\\hat y} + D_z {\\hat z}) = C_x D_x + C_y D_y + C_z D_z\n",
    "$$\n",
    "\n",
    "```{admonition} Problem\n",
    ":class: hint\n",
    "Write a vPython procedure `scalarProduct()` that takes two vPython vectors as arguments. It should return the scalar product, using the definition given above. Do this *without* using any built-in vPython functions!\n",
    "```\n",
    "\n",
    "````{toggle}\n",
    "*Answer:* Here is an example function.\n",
    "\n",
    "```python\n",
    "def scalarProduct(vec1, vec2):\n",
    "    return vec1.x * vec2.x + vec1.y * vec2.y + vec1.z + vec2.z\n",
    "```\n",
    "````\n",
    "\n",
    "```{admonition} Problem\n",
    ":class: hint\n",
    "Find the scalar product of the two vectors ${\\vec F} = -3 {\\hat x} + 5 {\\hat y} + 6 {\\hat z}$ and ${\\vec G} = -2 {\\hat x} + 4 {\\hat y}  - {\\hat z}$.\n",
    "```\n",
    "\n",
    "```{toggle}\n",
    "*Answer:* The scalar product ${\\vec F} \\cdot {\\vec G} = 20$.\n",
    "```\n",
    "\n",
    "```{admonition} Problem\n",
    ":class: hint\n",
    "Can the scalar product ever be negative? Zero? See if you can find two vectors ${\\vec G}$ and ${\\vec H}$ that have ${\\vec G} \\cdot {\\vec H} < 0$, or ${\\vec G} \\cdot {\\vec H} = 0$.\n",
    "```\n",
    "\n",
    "```{toggle}\n",
    "*Answer:* As two easy cases, the vectors ${\\vec H} = {\\hat x}, {\\vec J} = -{\\hat x}$ have scalar product ${\\vec H} \\cdot {\\vec J} = -1$, while with ${\\vec K} = {\\hat y}$, then ${\\vec H} \\cdot {\\vec K} = 0$. The geometric meaning of these cases will be explained below.\n",
    "```"
   ]
  },
  {
   "cell_type": "markdown",
   "metadata": {
    "slideshow": {
     "slide_type": "slide"
    }
   },
   "source": [
    "(scal-prod:vPy)=\n",
    "### The scalar product in vPython\n",
    "\n",
    "You can easily calculate the scalar product of two vectors in vPython -- you can simply write `dot(Avec, Bvec)` for previously defined vectors `Avec` and `Bvec`. An example is shown below."
   ]
  },
  {
   "cell_type": "code",
   "execution_count": 2,
   "metadata": {
    "slideshow": {
     "slide_type": "fragment"
    },
    "tags": [
     "remove-input"
    ]
   },
   "outputs": [
    {
     "data": {
      "text/html": [
       "\n",
       "        <iframe\n",
       "            width=\"100%\"\n",
       "            height=\"600\"\n",
       "            src=\"https://trinket.io/embed/glowscript/9ec93c39a8?showInstructions=true\"\n",
       "            frameborder=\"0\"\n",
       "            allowfullscreen\n",
       "        ></iframe>\n",
       "        "
      ],
      "text/plain": [
       "<IPython.lib.display.IFrame at 0x195f05f8b70>"
      ]
     },
     "execution_count": 2,
     "metadata": {},
     "output_type": "execute_result"
    }
   ],
   "source": [
    "from IPython.display import IFrame\n",
    "\n",
    "IFrame(src=\"https://trinket.io/embed/glowscript/9ec93c39a8?showInstructions=true\", width=\"100%\", height=\"600\")"
   ]
  },
  {
   "cell_type": "markdown",
   "metadata": {},
   "source": [
    "```{admonition} Problem\n",
    ":class: hint\n",
    "In the space provided in the app above, create two `arrow` objects `Arr` and `Barr`, with positions `Arr.pos` and `Barr.pos` at the origin, and axes `Arr.axis` and `Barr.axis` given by `aVec` and `bVec`, respectively. Notice the relative direction of the two arrows. Then, change the vectors `Avec` and `Bvec` to have the vector components you found for the last problem, where the scalar product was negative or zero. Do you notice a relationship between the value of the scalar product, and the relative directions of the two vectors?\n",
    "```\n",
    "\n",
    "````{toggle}\n",
    "*Answer:* Here is some example code that will create the arrow objects.\n",
    "\n",
    "```python\n",
    "Aarr = arrow(pos = vector(0, 0, 0), axis = Avec, color = color.red, \\\n",
    "             shaftwidth = 0.1)\n",
    "Barr = arrow(pos = vector(0, 0, 0), axis = Bvec, color = color.blue, \\\n",
    "             shaftwidth = 0.1)\n",
    "```\n",
    "````"
   ]
  },
  {
   "cell_type": "markdown",
   "metadata": {
    "slideshow": {
     "slide_type": "slide"
    }
   },
   "source": [
    "### Geometry of the scalar product\n",
    "\n",
    "As you remember from previously in the class, there are two ways to describe a vector: either in terms of its components (which we just saw above), or in terms of a magnitude and direction. We will now define two vectors using the latter method, and build up more intuition about the scalar product.\n",
    "\n",
    "```{admonition} Angles in vPython\n",
    ":class: warning\n",
    "To use `sin()` and `cos()` in vPython, the units of the angle are not in degrees, but in *radians*. The $360^\\circ$ in a complete circle are the same as $2 \\pi$ radians. This means that there is a conversion factor of $2 \\pi / 360^\\circ = \\pi / 180^\\circ$ between degrees and radians -- for example, $30^\\circ$ is the same as $30^\\circ (\\pi / 180^\\circ) = \\pi / 6$ radians. The `radians()` function converts from degrees to radians for you, so you do not have to do it yourself. Thus, if you have an angle `Q` in degrees, then `radians(Q)` will give you the same angle in radians. We will talk more about radians in class when we cover rotational motion.\n",
    "\n",
    "To convert from radians back to degrees, you can use the vPython function `degrees()`. Thus, `degrees(pi)` is $180^\\circ$.\n",
    "```\n",
    "\n",
    "```{margin}\n",
    "Note that I said the functions `sin()`, `cos()`, and the like are *vPython* functions, not Python functions. Thus, you need to use Glowscript if you are using these in Trinket. You can use Python, but you would have to import these functions from the `math` module. As an example, if you wanted to use `sin()` in a Python program, then you would need to write `from math import sin` to import the function from the `math` module. Since Trinket does this for you if you use Glowscript, it is easier to just use that!\n",
    "```\n",
    "\n",
    "Now, we can define vectors in terms of their magnitudes and angle. We will stick to the $x-y$ plane so it does not get too complicated. This means that the only two vector components will be the $x$ and $y$ components of the vector, while the $z$ component will be zero. In this case, a vector ${\\vec V}$ with magnitude $V$ (the variable `V` in Python) and angle $\\theta$ (I will use the variable `Q` for this) would be defined as\n",
    "\n",
    "```python\n",
    "V = vector(V * cos(Q), V * sin(Q), 0)\n",
    "```\n",
    "\n",
    "Remember that the variable `Q` will be between zero and $2 \\pi$ radians, while the magnitude `V` must be positive!\n",
    "\n",
    "```{admonition} Problem\n",
    ":class: hint\n",
    "In the program below, two magnitudes `R` and `S` are given, along with the angles `Q_R` and `Q_S` in radians. Define the vectors `Rvec` and `Svec` in vPython, and then run the cell to calculate their scalar product.\n",
    "```\n",
    "\n",
    "````{toggle}\n",
    "*Answer:* To define the vector objects `Rvec` and `Svec`, one possibility is to use the commands\n",
    "\n",
    "```python\n",
    "Rvec = R * vector(cos(Q_R), sin(Q_R), 0)\n",
    "Svec = S * vector(cos(Q_S), sin(Q_S), 0)\n",
    "```\n",
    "\n",
    "Then, the scalar product ${\\vec R} \\cdot {\\vec S} = 5.43537$.\n",
    "````"
   ]
  },
  {
   "cell_type": "code",
   "execution_count": 4,
   "metadata": {
    "tags": [
     "remove-input"
    ]
   },
   "outputs": [
    {
     "data": {
      "text/html": [
       "\n",
       "        <iframe\n",
       "            width=\"100%\"\n",
       "            height=\"600\"\n",
       "            src=\"https://trinket.io/embed/glowscript/ec82ec0b66?showInstructions=true\"\n",
       "            frameborder=\"0\"\n",
       "            allowfullscreen\n",
       "        ></iframe>\n",
       "        "
      ],
      "text/plain": [
       "<IPython.lib.display.IFrame at 0x195f05f8e10>"
      ]
     },
     "execution_count": 4,
     "metadata": {},
     "output_type": "execute_result"
    }
   ],
   "source": [
    "from IPython.display import IFrame\n",
    "\n",
    "IFrame(src=\"https://trinket.io/embed/glowscript/ec82ec0b66?showInstructions=true\", width=\"100%\", height=\"600\")"
   ]
  },
  {
   "cell_type": "markdown",
   "metadata": {},
   "source": [
    "```{admonition} Problem\n",
    ":class: hint\n",
    "Keep the angles the same, and change the magnitude of one of the two vectors. What happens to the scalar product? Does the scalar product ever become zero? Negative? \n",
    "```\n",
    "\n",
    "```{admonition} Problem\n",
    ":class: hint\n",
    "Now put the magnitudes back to their original values of $R = 5$ and $S = 3$, and change the angle of one of the two vectors. What happens to the scalar product now?  Does the scalar product ever become zero? Negative? If you want, you can import the vPython module `pi` if you want to define your angles using a multiple of $\\pi$.\n",
    "```\n",
    "\n",
    "Hopefully you have found that changing the magnitudes of the vectors only changes the *size* of the scalar product -- the sign stays the same. However, if you change the angles, you can change *both* the size and the sign of the scalar product. What is going on?\n",
    "\n",
    "The picture below helps us understand the scalar product of two vectors ${\\vec A} \\cdot {\\vec B}$.\n",
    "\n",
    "![Finding the scalar product of two vectors](../img/INT_AY20_MP2_L15_Fig01a_small.png)\n",
    "\n",
    "For this illustration, we have done the following (much like what you just did in vPython!):\n",
    "\n",
    "* Choose the $+x$ axis so that it points along the first vector ${\\vec A}$, and the $+y$ axis so that the second vector ${\\vec B}$ is in the $x-y$ plane.\n",
    "* This means that ${\\vec A} = A {\\hat x}$ and ${\\vec B} = (B \\cos \\theta) {\\hat x} + (B \\sin \\theta) {\\hat y}$.\n",
    "* Using the rule for the scalar product, ${\\vec A} \\cdot {\\vec B} = AB \\cos \\theta$.\n",
    "\n",
    "Thus, as we said at the beginning, the scalar product depends on the magnitudes $A$ and $B$ of the two vectors, as well as the angle $\\theta$ between them. If you made your two vectors above have a negative scalar product, it was because $\\cos \\theta < 0$, while $\\cos \\theta = 0$ gives a zero scalar product.\n",
    "\n",
    "```{admonition} Problem\n",
    ":class: hint\n",
    "What range of angles $\\theta$ gives you $\\cos \\theta < 0$? What angles give you $\\cos \\theta = 0$? How would you describe the relative orientations of these vectors in each of those two situations?\n",
    "```\n",
    "\n",
    "```{toggle}\n",
    "*Answer:* $\\cos \\theta < 0$ when $\\pi / 2 < \\theta < \\pi$ (in radians), and $\\cos \\theta = 0$ when $\\theta = \\pi / 2$.\n",
    "```\n",
    "\n",
    "```{admonition} Problem\n",
    ":class: hint\n",
    "Using the picture below, how does the value ${\\vec A} \\cdot {\\vec B}$ change does the angle $\\theta$ increases in size?\n",
    "\n",
    "1. The value decreases in size.\n",
    "1. The value increases in size.\n",
    "1. The value stays the same.\n",
    "```\n",
    "\n",
    "![Changing the angle $\\theta$ between two vectors](../img/INT_AY20_MP2_L01_Fig04_small.png)\n",
    "\n",
    "```{toggle}\n",
    "*Answer:* Increasing the angle decreases the size of $\\cos \\theta$, which has a maximum value of 1 when $\\theta = 0$.\n",
    "```\n",
    "\n",
    "```{admonition} Problem\n",
    ":class: hint\n",
    "Rank the pictures shown below according to the size of the value ${\\vec A} \\cdot {\\vec B}$. Assume that all vectors have the same magnitude. Give your answer using the \"$<$\" and \"$=$\" signs, and the letters for each choice. For example, a possible answer would be \"$A = B < C < D$\".\n",
    "```\n",
    "\n",
    "![Changing the angle $\\theta$ between two vectors](../img/INT_AY20_MP2_L01_Fig05_small.png)\n",
    "\n",
    "```{toggle}\n",
    "*Answer:* $C > D > B > A$\n",
    "```\n",
    "\n",
    "```{admonition} Problem\n",
    ":class: hint\n",
    "Suppose you are given a vector ${\\vec A} = 4 {\\hat x} - 7 {\\hat y}$, shown in the diagram below.\n",
    "\n",
    "1. **Review:** Find the unit vector ${\\hat A}$ in the same direction as ${\\vec A}$.\n",
    "1. Suppose you want to find a second vector ${\\vec B} = B_x {\\hat x} + B_y {\\hat y}$ that is perpendicular to ${\\vec A}$. What equation must be true for the two components $B_x$ and $B_y$?\n",
    "1. Using this equation, find a unit vector ${\\hat B}$ in the first quadrant that has unit magnitude and is perpendicular to ${\\vec A}$.\n",
    "```\n",
    "\n",
    "![Finding a vector perpendicular to a given vector](../img/INT_AY20_MP2_L01_Fig01a_small.png)\n",
    "\n",
    "```{toggle}\n",
    "*Answer:* ${\\hat A} = (4 / \\sqrt{65} {\\hat x} - 7 / \\sqrt{65} {\\hat y}$; $4 B_x - 7 B_y = 0$; ${\\hat b} = 7 / \\sqrt{65} {\\hat x} + 4 / \\sqrt{65} {\\hat y}$\n",
    "```\n",
    "\n",
    "```{admonition} Problem\n",
    ":class: hint\n",
    "Above, you were given two vectors ${\\vec F} = -3 {\\hat x} + 5 {\\hat y} + 6 {\\hat z}$ and ${\\vec G} = -2 {\\hat x} + 4 {\\hat y}  - {\\hat z}$. What is the angle between these two vectors (in degrees)?\n",
    "```\n",
    "\n",
    "```{toggle}\n",
    "*Answer:* The angle between ${\\vec F}$ and ${\\vec G}$ is 1.022 radians, or $58.6^\\circ$.\n",
    "```"
   ]
  },
  {
   "cell_type": "markdown",
   "metadata": {},
   "source": [
    "### Extra: Breaking a vector into components\n",
    "\n",
    "Now that we can use the scalar product to find the angle between two vectors, let's use it in a different way. Suppose we have two vectors ${\\vec V}$ and ${\\vec W}$ at some arbitrary angle between each other, and we want to break the vector ${\\vec V}$ into two pieces -- one parallel to ${\\vec W}$ and the other perpendicular to ${\\vec W}$. We will call these pieces ${\\vec V}_{||}$ and ${\\vec V}_\\perp$, respectively. How can we do this?\n",
    "\n",
    "If ${\\vec W}$ is along one of the coordinate axes, then this is relatively easy to do: we just write ${\\vec V}$ in unit vector notation, and identify which of the components are along ${\\vec W}$. For example, if ${\\vec W} = W {\\hat y}$, then the component $V_y {\\hat y}$ is along ${\\vec W}$, and the rest of ${\\vec V}$ is perpendicular. Let's be pedantic here, and spell out exactly what is going on; this will help in the general case. Suppose we have vectors\n",
    "\n",
    "$$\n",
    "    {\\vec V} = V_x {\\hat x} + V_y {\\hat y} \\qquad\n",
    "    {\\vec W} = W {\\hat y}\n",
    "$$\n",
    "\n",
    "An example would be ${\\vec W}$ is the normal vector pointing away from a wall, and ${\\vec V}$ is the velocity of a ball moving towards the wall.\n",
    "\n",
    "![Finding the components of velocity ${\\vec V}$ relative to the normal vectors ${\\vec W}$ for the wall](../img/INT_AY21_L11_Fig01_Velocity_components_small.png)\n",
    "\n",
    "By the definition of vector components in terms of the scalar product,\n",
    "\n",
    "$$\n",
    "    V_y = {\\vec V} \\cdot {\\hat y}\n",
    "$$\n",
    "\n",
    "so the vector parallel to ${\\vec W}$ is\n",
    "\n",
    "$$\n",
    "    {\\vec V}_{||} = V_y {\\hat y} = ({\\vec V} \\cdot {\\hat y}) {\\hat y}\n",
    "$$\n",
    "\n",
    "Then, since we want the vector sum of the components to add up to ${\\vec V}$, or\n",
    "\n",
    "$$\n",
    "    {\\vec V} = {\\vec V}_{||} + {\\vec V}_\\perp\n",
    "$$\n",
    "\n",
    "this gives that the perpendicular component ${\\vec V}_\\perp$ is\n",
    "\n",
    "$$\n",
    "    {\\vec V}_\\perp = {\\vec V} - {\\vec V}_{||} = {\\vec V} - ({\\vec V} \\cdot {\\hat y}) {\\hat y} \n",
    "$$\n",
    "\n",
    "Now, how do we make this general? Well, notice that the unit vector ${\\vec y}$ in this specific case is just the unit vector ${\\hat W}$ in the direction of ${\\vec W}$! This comes from our definition of the unit vector ${\\hat W}$:\n",
    "\n",
    "$$\n",
    "    {\\hat W} = \\frac{{\\vec W}}{W} = \\frac{W_y {\\hat y}}{W} = {\\hat y}\n",
    "$$\n",
    "\n",
    "Since the vector ${\\vec W}$ only points in the $y$ direction here, then the magnitude is just the $y$ component, or $W = W_y$. Thus, we can rewrite the equations above as\n",
    "\n",
    "$$\n",
    "    {\\vec V}_{||} = ({\\vec V} \\cdot {\\hat W}) {\\hat W} \\qquad\n",
    "    {\\vec V}_\\perp = {\\vec V} - ({\\vec V} \\cdot {\\hat W}) {\\hat W} \n",
    "$$\n",
    "\n",
    "This gives the vector decomposition of ${\\vec V}$ into two pieces, the part ${\\vec V}_{||}$ parallel to ${\\vec W}$, and the second ${\\vec V}_\\perp$ perpendicular to ${\\vec W}$. This works for any two vectors! This will be very helpful in Lesson 12, when we consider the collision of two objects in two dimensions.\n",
    "\n",
    "```{admonition} Problem\n",
    ":class: hint\n",
    "**Challenge:** Using algebra and the appropriate definitions, show that ${\\vec V}_{||}$ is parallel to ${\\vec W}$ by showing that ${\\vec V}_{||} \\cdot {\\vec W} = {\\vec V} \\cdot {\\vec W}$. Similarly, show that ${\\vec V}_\\perp$ is perpendicular to ${\\vec W}$ by showing that ${\\vec V}_\\perp \\cdot {\\vec W} = 0$.\n",
    "```\n",
    "\n",
    "```{admonition} Problem\n",
    ":class: hint\n",
    "Write a vPython function `vecComponents()` which, given a first vector ${\\vec W}$, finds the two vectors ${\\vec V}_{||}$ and ${\\vec V}_\\perp$ such that (1) they add up to a second vector ${\\vec V}$, i.e. ${\\vec V}_{||} + {\\vec V}_\\perp = {\\vec V}$ and (2) ${\\vec V}_\\perp \\cdot {\\vec W} = 0$. Thus, the two arguments of `vecComponents()` should be `W` and `V`, and the function should return a list made of two vectors `vPar` and `vPerp` (in that order), such that `vPar + vPerp = V` and `dot(vPerp, W) = 0`.\n",
    "```\n",
    "\n",
    "````{toggle}\n",
    "*Answer:* Here is a possible vPython program to break ${\\vec V}$ into two vectors parallel and perpendicular to ${\\vec W}$.\n",
    "\n",
    "```python\n",
    "def vecComponents(V, W):\n",
    "    \n",
    "    hatW = norm(W)             # Find unit vector in same direction as vector W\n",
    "    \n",
    "    vPar = dot(V, W) * hatW    # Find vector parallel to W\n",
    "    vPerp = V - vPar           # Find vector perpendicular to W\n",
    "    \n",
    "    return [vPar, vPerp]\n",
    "```\n",
    "````"
   ]
  },
  {
   "cell_type": "markdown",
   "metadata": {},
   "source": [
    "### Isn't this just \"vector multiplication\"?\n",
    "\n",
    "One question I get asked a lot is whether this is all just \"multiplying\" vectors. To answer that, let's think about what multiplication means. Here are two perspectives:\n",
    "\n",
    "* The simplest way to understand multiplication is to combine groups of objects. If I have two baskets, and each basket has three oranges in it, then I have $(2)(3) = 6$ oranges total. In other words, the total number of oranges is twice as big as the amount in each basket.\n",
    "* Another way of thinking about multiplication is as the inverse of division. To say that $(2)(3) = 6$ means that I can divide 6 into two groups of three ($6 / 2 = 3$), or I can also divide it into three groups of two ($6 / 3 = 2)$.\n",
    "\n",
    "Now we return to vectors. First, when I think of \"making a vector bigger\", what am I saying? If I have a vector ${\\vec V}$, and make it twice as big, I can imagine this means making the magnitude $V$ twice as big. But this is the idea behind *scalar multiplication*, where we multiply each component of the vector by the same scalar. I could also imagine that I \"make the angle bigger\", but that quickly leads to weird thinking -- if an acceleration vector has a magnitude of 3.00 m/s$^2$ at 40.0$^\\circ$ west of south, and I triple it, is the new vector now at 120$^\\circ$ west of south? What does that mean? (It might help to try and draw a picture, to see that this description of an angle is not useful!)\n",
    "\n",
    "If I turn to division, what does it mean to divide a vector by another? If I wanted to \"divide\" the vector ${\\vec A}$ by the vector ${\\vec B}$, I could guess that I divide the components of ${\\vec A}$ by those of ${\\vec B}$. But what if one of the components of ${\\vec A}$ is zero? Or of ${\\vec B}$? Do I get a unique answer for this division, or are there multiple possibilities?\n",
    "\n",
    "This is why the scalar product defined here is different than ordinary multiplication of numbers. We have seen that there are vectors whose scalar product is zero -- those vectors must be perpendicular to each other. But we can't imagine \"undoing\" the scalar product (as division \"undoes\" multiplication) in a case like that. It is not helpful to think of the scalar product as \"multiplying vectors\", it is something different!"
   ]
  },
  {
   "cell_type": "markdown",
   "metadata": {},
   "source": [
    "## Summary\n",
    "\n",
    "We now have defined the scalar product, a \"mathematical machine\" that takes two vectors and gives a number proportional to their magnitudes, and the cosine of the angle between them. This allows us to easily find out whether a pair of vectors are parallel or perpendicular, and to break a vector up into components. We will use this next when we consider 2D collisions in Lesson 12.\n",
    "\n",
    "After this lesson, you should be able to:\n",
    "\n",
    "* Calculate the scalar product of two vectors.\n",
    "* Find the angle between two arbitrary three-dimensional vectors.\n",
    "* Given a vector, find a second vector perpendicular to it."
   ]
  }
 ],
 "metadata": {
  "celltoolbar": "Tags",
  "kernelspec": {
   "display_name": "Python 3",
   "language": "python",
   "name": "python3"
  },
  "language_info": {
   "codemirror_mode": {
    "name": "ipython",
    "version": 3
   },
   "file_extension": ".py",
   "mimetype": "text/x-python",
   "name": "python",
   "nbconvert_exporter": "python",
   "pygments_lexer": "ipython3",
   "version": "3.7.1"
  },
  "toc": {
   "base_numbering": 1,
   "nav_menu": {},
   "number_sections": true,
   "sideBar": true,
   "skip_h1_title": false,
   "title_cell": "Table of Contents",
   "title_sidebar": "Contents",
   "toc_cell": false,
   "toc_position": {},
   "toc_section_display": true,
   "toc_window_display": false
  }
 },
 "nbformat": 4,
 "nbformat_minor": 2
}
