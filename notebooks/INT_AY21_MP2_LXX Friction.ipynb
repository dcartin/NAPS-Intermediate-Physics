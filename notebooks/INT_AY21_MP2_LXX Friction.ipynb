{
 "cells": [
  {
   "cell_type": "markdown",
   "metadata": {},
   "source": [
    "# Objectives\n",
    "\n",
    "* Describe the difference between the static frictional force and the kinetic frictional force.\n",
    "* State the relationship between the frictional force and the normal force.\n",
    "* State the maximum value of the static frictional force.\n",
    "* Given an object moving along a surface with friction, calculate the acceleration of the object."
   ]
  },
  {
   "cell_type": "markdown",
   "metadata": {},
   "source": [
    "# Friction\n",
    "\n",
    "## A brief history of friction\n",
    "\n",
    "![A self-portrait of Leonardo da Vinci from his notebooks](img/INT_AY20_MP2_L04_Fig01-Leonardo_da_Vinci_small.png)\n",
    "\n",
    "Leonardo da Vinci was one of the first people to systematically examine the size of the frictional force. In a series of experiments, he showed that friction does not depend on the contact area between the two surfaces, and that increasing the load on an object will increase the frictional force proportionally. However, although his discoveries were written into his notebooks, these were not publicly known until hundreds of years later.\n",
    "\n",
    "![Guillaume Amontons showing the Dauphin of France his method to transmit message by optical telegraphy](img/INT_AY20_MP2_L04_Fig02-Guillaume_Amontons_small.png)\n",
    "\n",
    "da Vinci's laws of friction were rediscovered by the French instrument maker and physicist Guillaume Amontons around 1700, and hence are often called \"Amontons' laws\". These rules were verified by Charles-Augustin de Coulomb (whom we will see later with the electrostatic force) about eight decades later.\n",
    "\n",
    "## Two types of friction\n",
    "\n",
    "The force of friction has been a field of study for many centuries, and continues to be so.\n",
    "\n",
    "Friction -- a force that opposes the motion or impending motion of an object\n",
    "\n",
    "* Static friction: when an object is still\n",
    "\n",
    "$$\n",
    "\t\t\tF_s \\le \\mu_s F_N\n",
    "$$\n",
    "\n",
    "where $F_s$ is the force of static friction, $\\mu_s$ is the coefficient of static friction, and $F_N$ is the normal force\n",
    "\t\n",
    "* Kinetic friction: when an object is moving\n",
    "\n",
    "$$\n",
    "\t\t\tF_k = \\mu_k F_N\n",
    "$$\n",
    "\n",
    "where $F_k$  is the force of kinetic friction, $\\mu_k$ is the coefficient of kinetic friction, and $F_N$ is the normal force"
   ]
  },
  {
   "cell_type": "code",
   "execution_count": 1,
   "metadata": {},
   "outputs": [
    {
     "data": {
      "text/html": [
       "\n",
       "        <iframe\n",
       "            width=\"600\"\n",
       "            height=\"400\"\n",
       "            src=\"https://phet.colorado.edu/sims/html/forces-and-motion-basics/latest/forces-and-motion-basics_en.html\"\n",
       "            frameborder=\"0\"\n",
       "            allowfullscreen\n",
       "        ></iframe>\n",
       "        "
      ],
      "text/plain": [
       "<IPython.lib.display.IFrame at 0x1dbfd55e128>"
      ]
     },
     "execution_count": 1,
     "metadata": {},
     "output_type": "execute_result"
    }
   ],
   "source": [
    "from IPython.display import IFrame\n",
    "\n",
    "IFrame(src=\"https://phet.colorado.edu/sims/html/forces-and-motion-basics/latest/forces-and-motion-basics_en.html\",\n",
    "       width=\"600\", height=\"400\")"
   ]
  },
  {
   "cell_type": "markdown",
   "metadata": {},
   "source": [
    "> **Problem:** Using the default values, what is the coefficient of static friction between the crate and the ground? What is the coefficient of kinetic friction? Does it matter if you change the object you are pushing, or add mass on top of it?\n",
    "\n",
    "> **Problem:** Find the value of the unknown mass for the gift-wrapped box."
   ]
  },
  {
   "cell_type": "markdown",
   "metadata": {},
   "source": [
    "# Practice problems\n",
    "\n",
    "> **Problem:** Suppose you are pushing a 1000 N chair along the floor, where the coefficient of static friction is $\\mu_s = 0.0600$ and the coefficient of kinetic friction is $\\mu_k = 0.0500$.\n",
    "> \n",
    "> ![An applied force acts on an object](img/INT_AY20_MP2_L04_Fig03.png)\n",
    "> \n",
    "> How would the frictional force magnitude $F_{fr}$ change as you push harder with the applied force $F_{app}$?\n",
    "> \n",
    "> | $F_{app}$ (N) | $F_{fr}$ (N) |\n",
    "> |---------------|--------------|\n",
    "> | 20.0          |              |\n",
    "> | 40.0          |              |\n",
    "> | 60.0          |              |\n",
    "> | 80.0          |              |\n",
    "> | 100           |              |  \n",
    "\n",
    "> **Problem:** To move a large crate across a rough floor, you push on it with a force F at an angle of 21.0$^\\circ$ below the horizontal, as shown below.  Find the force value (in N) necessary to start the crate moving given that the mass of the crate is 32.0 kg and the coefficient of static friction between the crate and the floor is 0.570.\n",
    ">\n",
    "> ![Sliding a crate](img/INT_AY20_MP2_L04_Fig04-pushed_crate.png)\n",
    "\n",
    "> **Problem:** A block with a mass of 5.00 kg is pushed by a force of 20.0 N at an angle of 15.0$^\\circ$ below the horizontal.  The coefficient of kinetic friction between the block and the horizontal surface is 0.200.\n",
    ">\n",
    "> ![Sliding a crate](img/INT_AY20_MP2_L04_Fig05.png)\n",
    ">\n",
    "> Determine the horizontal acceleration (magnitude in m/s$^2$) of the block.  \n",
    "\n",
    "> **Problem:** A NAPSter, crazed by the latest victory of the football team, uses a force ${\\vec F_{app}}$ of magnitude 90.0 N to push a 4.00 kg block across the ceiling of their room, as shown below. The coefficient of kinetic friction between the block and the ceiling's surface is 0.400.\n",
    ">\n",
    "> ![Sliding a crate](img/INT_AY20_MP2_L04_Fig06.png)\n",
    ">\n",
    "> Find the magnitude of the block's acceleration (in m/s$^2$).\n",
    "\n",
    "> **Problem:** An applied force $F_{app}$ exerted horizontally starts to act on a 125 N block initially at rest. Below is shown a graph of the frictional force $F_{fr}$ on the block from the floor, as a function of the applied force as it increases in size from zero newtons.\n",
    ">\n",
    "> ![Sliding a crate](img/INT_AY20_MP2_L04_Fig07.png)\n",
    ">\n",
    "> Use this graph to find the values of the coefficients of static and kinetic friction."
   ]
  },
  {
   "cell_type": "markdown",
   "metadata": {},
   "source": [
    "# Summary\n",
    "\n",
    "After today's class, you should be able to:\n",
    "\t\n",
    "* Describe what type of friction is appropriate for a given situation\n",
    "* Explain how much static frictional force is present when other forces are applied to a stationary object\t\n",
    "* Use the force of friction in Newton's 2nd law"
   ]
  }
 ],
 "metadata": {
  "kernelspec": {
   "display_name": "Python 3",
   "language": "python",
   "name": "python3"
  },
  "language_info": {
   "codemirror_mode": {
    "name": "ipython",
    "version": 3
   },
   "file_extension": ".py",
   "mimetype": "text/x-python",
   "name": "python",
   "nbconvert_exporter": "python",
   "pygments_lexer": "ipython3",
   "version": "3.7.1"
  },
  "toc": {
   "base_numbering": 1,
   "nav_menu": {},
   "number_sections": true,
   "sideBar": true,
   "skip_h1_title": false,
   "title_cell": "Table of Contents",
   "title_sidebar": "Contents",
   "toc_cell": false,
   "toc_position": {},
   "toc_section_display": true,
   "toc_window_display": false
  }
 },
 "nbformat": 4,
 "nbformat_minor": 2
}
