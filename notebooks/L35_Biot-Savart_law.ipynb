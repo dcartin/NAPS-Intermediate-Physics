{
 "cells": [
  {
   "cell_type": "markdown",
   "id": "unknown-allergy",
   "metadata": {},
   "source": [
    "# Biot-Savart law\n",
    "\n",
    "What we now call \"electricity\" and \"magnetism\" have been familiar to many for over two thousand years. However, for much of that time, they were interesting effects, and not much else; there was no theory behind the existence of electric and magnetic properties. In fact, although some had suspected a relationship between them, nothing definite was known. This began to change in the 18th and 19th centuries, as technology advanced to the point where they could be studied. In particular, with the development of the electric battery by Volta in 1800, a continuous electric current was possible.\n",
    "\n",
    "A bridge between electricity and magnetism was first built by the efforts of the Danish physicist and chemist Hans Christian Oersted, who did the necessary experiments around 1820. In these, he showed that a constant electric current through a wire produced a magnetic field. Again, it is useful to take a moment and think how important this result was. Although electric and magnetic fields have some similarities (as discussed in Lesson 34), this does not necessarily mean they are one and the same phenomenon. However, it was the results of Oersted, and many others in the next few years, who conclusively showed that we should not think of \"electricity\" and \"magnetism\" separately, but instead to put it into \"electromagnetism\".\n",
    "\n",
    "Although we will not get into this further in this course, the unification of electricity and magnetism was an important event in the history of physics. Over the next 175 years or so, the main course of theoretical physics was a similar path of unification, using many mathematical ideas first developed for electromagnetism. The fruits of this are in what is known as the Standard Model of particle physics, joining electromagnetism together with the strong nuclear force (keeping nuclei together) and the weak nuclear force (responsible for radioactive decay). The Standard Model uses the idea of fields as a basic component, and represents our best current knowledge of how fundamental physics works.\n",
    "\n",
    "In this lesson, we will answer a basic question: where do magnetic fields come from? Shortly after Oersted published his experiments, a key part of the answer was found by two physicists, Jean-Baptiste Biot and Felix Savart, building off the idea of the motion of electric charge in a current giving a magnetic field. We will explore their results in this lesson.\n",
    "\n",
    "## Overview\n",
    "\n",
    "Here are the objectives for this lesson:\n",
    "\n",
    "* State the Biot-Savart law\n",
    "* Find the magnetic field at a given distance away from a long, straight wire.\n",
    "* Calculate the magnetic field due to a current of a given shape."
   ]
  },
  {
   "cell_type": "markdown",
   "id": "military-daughter",
   "metadata": {},
   "source": [
    "## Long, straight wires\n",
    "\n",
    "Before we state the Biot-Savart law, let's first talk about what Oersted found in his experiments. Suppose we have a long, straight wire; basically, we are considering a straight wire whose length is much greater than its radius (or thickness). Oersted sent a current through such a wire, and saw that a nearby compass changed its direction every time he did this. When he turned off the current, the compass returned to its original orientation. Oersted grasped that this was because the current in the wire was creating a magnetic field of its own! After some confusion about the direction of this field, Oersted finally realized that the magnetic field around the wire is circular. In other words, we would say that the magnetic field lines are circles, with their center at the wire itself. You can see a reproduction of Oersted's experiment in the video given below ([source](https://commons.wikimedia.org/w/index.php?title=File%3A17._%D0%95%D1%81%D1%82%D0%B5%D1%80%D0%B4%D0%BE%D0%B2_%D0%B5%D0%BA%D1%81%D0%BF%D0%B5%D1%80%D0%B8%D0%BC%D0%B5%D0%BD%D1%82.ogv)). When there is no current through the wire, the compass points in the direction of the Earth's magnetic field. However, when the voltage source is turned on, and current flows through the wire, the compass shifts to point in the direction of the much stronger magnetic field of the wire."
   ]
  },
  {
   "cell_type": "code",
   "execution_count": 1,
   "id": "union-workplace",
   "metadata": {
    "tags": [
     "remove-input"
    ]
   },
   "outputs": [
    {
     "data": {
      "text/html": [
       "\n",
       "        <iframe\n",
       "            width=\"600\"\n",
       "            height=\"400\"\n",
       "            src=\"https://commons.wikimedia.org/wiki/File:17._%D0%95%D1%81%D1%82%D0%B5%D1%80%D0%B4%D0%BE%D0%B2_%D0%B5%D0%BA%D1%81%D0%BF%D0%B5%D1%80%D0%B8%D0%BC%D0%B5%D0%BD%D1%82.ogv?embedplayer=yes\"\n",
       "            frameborder=\"0\"\n",
       "            allowfullscreen\n",
       "        ></iframe>\n",
       "        "
      ],
      "text/plain": [
       "<IPython.lib.display.IFrame at 0x1c54fba5630>"
      ]
     },
     "execution_count": 1,
     "metadata": {},
     "output_type": "execute_result"
    }
   ],
   "source": [
    "from IPython.display import IFrame\n",
    "\n",
    "IFrame(src=\"https://commons.wikimedia.org/wiki/File:17._%D0%95%D1%81%D1%82%D0%B5%D1%80%D0%B4%D0%BE%D0%B2_%D0%B5%D0%BA%D1%81%D0%BF%D0%B5%D1%80%D0%B8%D0%BC%D0%B5%D0%BD%D1%82.ogv?embedplayer=yes\", width=\"600\", height=\"400\")"
   ]
  },
  {
   "cell_type": "markdown",
   "id": "amended-bracelet",
   "metadata": {},
   "source": [
    "In order to see the magnetic field more clearly, you can run the vPython program below. This shows the magnetic field vectors at various points around a long, straight wire. These vectors form circles, with the wire at its center."
   ]
  },
  {
   "cell_type": "code",
   "execution_count": 2,
   "id": "expanded-contract",
   "metadata": {
    "tags": [
     "remove-input"
    ]
   },
   "outputs": [
    {
     "data": {
      "text/html": [
       "\n",
       "        <iframe\n",
       "            width=\"100%\"\n",
       "            height=\"400\"\n",
       "            src=\"https://trinket.io/embed/glowscript/8757cfd61c?toggleCode=true&showInstructions=true\"\n",
       "            frameborder=\"0\"\n",
       "            allowfullscreen\n",
       "        ></iframe>\n",
       "        "
      ],
      "text/plain": [
       "<IPython.lib.display.IFrame at 0x1c54fc67be0>"
      ]
     },
     "execution_count": 2,
     "metadata": {},
     "output_type": "execute_result"
    }
   ],
   "source": [
    "from IPython.display import IFrame\n",
    "\n",
    "IFrame(src=\"https://trinket.io/embed/glowscript/8757cfd61c?toggleCode=true&showInstructions=true\", width=\"100%\", height=\"400\")"
   ]
  },
  {
   "cell_type": "markdown",
   "id": "planned-short",
   "metadata": {},
   "source": [
    "Notice the relationship between the direction of the current $I$ through the wire, and the circular magnetic field lines around the wire. This is given by a version of the right-hand rule. Imagine that you are grabbing the wire with your right hand. When you point the thumb of your right hand in the direction of the wire's current, your fingers will naturally curl in the direction of the magnetic field lines. For example, if you see the current moving upward, then with your right thumb pointing upward as well, your fingers will go right to left *behind* the wire, and left to right *in front of* the wire. We will see later in this lesson how to relate this to the right-hand rule we saw in Lesson 34 for the magnetic force.\n",
    "\n",
    "```{admonition} Problem\n",
    ":class: hint\n",
    "A positive charge moves parallel to a wire. If a current is suddenly turned on, in which direction will the magnetic force act on the charge?\n",
    "\n",
    "![Positive charge moving along a current-carrying wire](../img/INT_AY20_MP3_L26_Fig01_Charge_and_wire.png)\n",
    "\n",
    "1. $+z$ (out of page)\n",
    "1. $-z$ (into page)\n",
    "1. $+x$\n",
    "1. $-x$\n",
    "1. $-y$\n",
    "```\n",
    "\n",
    "```{toggle}\n",
    "*Answer:* You can use the right-hand rule described above to find the direction of the magnetic field due to the wire. At the location of the positive charge $q$, this field ${\\vec B}$ points in the $+z$ direction. Then, using either the vector product, or the right-hand rule, to find the direction of the magnetic force ${\\vec F}_{mag}$, this gives the force points in the $+x$ direction, or toward the wire.\n",
    "```\n",
    "\n",
    "Soon after Oersted announced his discovery, the French scientist Andre-Marie Ampere (whom the unit of current was named after) studied the effects of current-carrying wires on each other. Because each wire produces its own magnetic field, the field due to one wire will create a force on the other. This leads to the wires attracting or repelling each other, depending on the current through each.\n",
    "\n",
    "Let's see how this works, by first seeing how a magnetic field affects a wire with a current passing through it. This will built on the previous problem. From the last lesson, we have that the magnetic force ${\\vec F}_{mag}$ on a single charge $q$, resulting from placing the charge in a magnetic field ${\\vec B}$, is given by\n",
    "\n",
    "$$\n",
    "    {\\vec F}_{mag} = q {\\vec v} \\times {\\vec B}\n",
    "$$\n",
    "\n",
    "Now, a current $I$ is simply a collection of charges $\\Delta Q$ moving past a given point within a time interval $\\Delta t$, with $I = \\Delta Q / \\Delta t$. Suppose the charges are moving down a wire with a displacement ${\\vec \\ell}$; I am using a little different notation here, to avoid confusing symbols when we get to the Biot-Savart law. With a velocity ${\\vec v} = {\\vec \\ell} / \\Delta t$, then we have that\n",
    "\n",
    "$$\n",
    "    (\\Delta q) {\\vec v} = (\\Delta q) \\biggl( \\frac{{\\vec \\ell}}{\\Delta t} \\biggr) = \\biggl( \\frac{\\Delta q}{\\Delta t} \\biggr) {\\vec \\ell} = I {\\vec \\ell}\n",
    "$$\n",
    "\n",
    "Thus, for a collection of charges $\\Delta q$, we can replace $(\\Delta q) {\\vec v}$ in the magnetic force equation with $I {\\vec \\ell}$, resulting in the magnetic force on a current-carrying wire as\n",
    "\n",
    "$$\n",
    "    {\\vec F}_{mag} = I {\\vec \\ell} \\times {\\vec B}\n",
    "$$\n",
    "\n",
    "Again, $I$ is the current through the wire, whose length and direction are given by the vector ${\\vec \\ell}$.\n",
    "\n",
    "Notice that the force on the *wire* points in the same direction as the force on the individual *charges*. Hopefully this is a sensible result! But it also allows us to predict the results of Ampere's experiments on the forces between wires. For now, we will only find the direction of this force. After we talk about the Biot-Savart law, we will return to this force, and calculate the magnitude as well.\n",
    "\n",
    "```{admonition} Problem\n",
    ":class: hint\n",
    "Two straight wires run parallel to each other, carrying currents in the directions shown. The two wires experience a force in which direction?\n",
    "\n",
    "![Two parallel current-carrying wires](../img/INT_AY20_MP3_L26_Fig02_Two_wires.png)\n",
    "\n",
    "1. away from each other\n",
    "1. towards each other\n",
    "1. there is no force\n",
    "```\n",
    "\n",
    "```{toggle}\n",
    "*Answer:* Remember that current is *conventional* current, i.e. considered as the flow of positive charges. Thus, you can use the same steps as the previous problem to find the force on the left-hand wire due to the magnetic field from the right-hand wire. The left-hand wire will be attracted to the right-hand wire.\n",
    "\n",
    "We can do the same thing for the right-hand wire, thinking of the current as the flow of positive charges towards the top of the page/screen. At this wire, the magnetic field due to the left-hand wire will be into the page/screen. Using the right-hand rule gives that the force on this current is to the left.\n",
    "\n",
    "Thus, the two wires will be attracted to each other, due to the magnetic forces on each from the magnetic field of the other wire.\n",
    "```"
   ]
  },
  {
   "cell_type": "markdown",
   "id": "royal-vegetation",
   "metadata": {},
   "source": [
    "## The Biot-Savart law\n",
    "\n",
    "As we saw, Oersted found that the magnetic field lines around a long, straight wire are circles centered on the wire. So how can we extend this to more complicated wires? We will follow a similar path to what we have done with previous fields: build up the complicated cases as a sum of a lot of simple cases. In particular, imagine that we have a small bit of wire; this is represented by the vector $\\Delta {\\vec \\ell}$, where $\\Delta \\ell$ is a small length. Flowing through this wire is a current $I$. The direction of the vector $\\Delta {\\vec \\ell}$ gives the direction of this (conventional) current.\n",
    "\n",
    "Now, imagine that we want to find the magnetic field vector at a point $P$. To do this, we need the position vector of $P$ relative to the wire. This is given by ${\\vec r}$ -- this vector *starts* at the center of the wire $\\Delta {\\vec \\ell}$, and points *towards* the point $P$. To see this set-up, run the program below. The green cylinder is the wire, with the current shown by the white arrow inside of it. The position vector ${\\vec r}$ is the yellow arrow from the wire to the point $P$ to the left of the screen."
   ]
  },
  {
   "cell_type": "code",
   "execution_count": 3,
   "id": "chemical-supplement",
   "metadata": {
    "tags": [
     "remove-input"
    ]
   },
   "outputs": [
    {
     "data": {
      "text/html": [
       "\n",
       "        <iframe\n",
       "            width=\"100%\"\n",
       "            height=\"600\"\n",
       "            src=\"https://trinket.io/embed/glowscript/75e33686c5?toggleCode=true&showInstructions=true\"\n",
       "            frameborder=\"0\"\n",
       "            allowfullscreen\n",
       "        ></iframe>\n",
       "        "
      ],
      "text/plain": [
       "<IPython.lib.display.IFrame at 0x1c54fc67c18>"
      ]
     },
     "execution_count": 3,
     "metadata": {},
     "output_type": "execute_result"
    }
   ],
   "source": [
    "from IPython.display import IFrame\n",
    "\n",
    "IFrame(src=\"https://trinket.io/embed/glowscript/75e33686c5?toggleCode=true&showInstructions=true\", width=\"100%\", height=\"600\")"
   ]
  },
  {
   "cell_type": "markdown",
   "id": "committed-gathering",
   "metadata": {},
   "source": [
    "Now, according to Biot and Savart, the current in the wire will then produce a magnetic field $\\Delta {\\vec B}$ at the point $P$, given by\n",
    "\n",
    "$$\n",
    "    \\Delta {\\vec B} = \\frac{\\mu_0}{4\\pi} \\frac{I \\Delta {\\vec \\ell} \\times {\\hat r}}{r^2}\n",
    "$$\n",
    "\n",
    "There is a lot we have seen before here, but let's break it down, since it is put together differently than the corresponding equations for the gravitational and electric fields. As Oersted saw, the magnetic field size depends on the value of the current, so it is appropriate it appears in the numerator. In the denominator, we also see the usual $r^2$ distance dependence we would expect from an inverse-square law. Finally, we also have a new physical constant, the **vacuum permeability** $\\mu_0$, given by\n",
    "\n",
    "$$\n",
    "    \\mu_0 = 1.25663706212 \\times 10^{−6} \\textrm{ N/m}\n",
    "$$\n",
    "\n",
    "This constant gives the relationship between the sources of a magnetic field, and the size of the field created by that field. A fun fact: this constant used to be defined as *exactly* $4\\pi \\times 10^{-7}$ N/m, but after the SI unit system was redefined in 2019, this is no longer true. However, it is *awfully* close, so I will often pretend that this definition still holds.\n",
    "\n",
    "```{admonition} Problem\n",
    ":class: hint\n",
    "If I use $\\mu_0 = 4\\pi \\times 10^{-7}$ N/m, what is the error, compared to the actual defined value $\\mu_0$ given above?\n",
    "```\n",
    "\n",
    "```{toggle}\n",
    "*Answer:* The error is given by $\\mu_0/(4\\pi \\times 10^{-7}) - 1 = 5.44 \\times 10^{-10}$. Good enough!\n",
    "```\n",
    "\n",
    "Oersted also saw that the magnetic field lines were circles -- how do we get that from the vector product above? Well, remember that the vector product ${\\vec A} \\times {\\vec B}$ is always perpendicular to the plane defined by the vectors ${\\vec A}$ and ${\\vec B}$. This is what we get here. In the program above, the vector $\\Delta {\\vec \\ell}$ along the wire points in the $+y$ direction. The position vector ${\\vec r}$, from the wire to the point $P$, is in the $-x$ direction, which means that the unit vector ${\\hat r}$ points in the same direction. So, using the right-hand rule with the vector product $\\Delta {\\vec \\ell} \\times {\\hat r}$ give that it points in the $+z$ axis. Notice that this is exactly what I said earlier with the \"right-hand rule\" using currents and the circular magnetic fields! Point your thumb in the direction of the current ($+y$), and your fingers will naturally point towards you on the left side of the wire."
   ]
  },
  {
   "cell_type": "markdown",
   "id": "outdoor-yemen",
   "metadata": {},
   "source": [
    "## Magnetic field at center of a circular wire\n",
    "\n",
    "Let's now go through our first example of using the Biot-Savart law: finding the magnetic field at the center of a circular wire with a current through it. You might be surprised that we are not finding the field at some point near a long, straight wire, but it turns out the circular loop of wire is actually an easier place to start! Imagine we have a circular loop with a radius $R$ and a current $I$ flowing through it. We want to find the total magnetic field ${\\vec B}$ at the point $P$, at the center of the circular wire. To do this, we can pretend that the circle is a regular polygon with a large number of sides $N$, and add up the contributions from the current flowing through each of these sides. Then, making $N$ larger and larger will get us closer to the final answer.\n",
    "\n",
    "The picture below shows the basic set-up for approximating the circle by a polygon. The green sides represent the polygon (here with twelve sides), while the dotted line is the circle the polygon is used to estimate. For each side of our polygon, the length vector $\\Delta {\\vec \\ell}$ is perpendicular to the radius vector ${\\vec r}$. Thus, if ${\\vec r} = (R \\cos \\theta) {\\hat x} + (R \\sin \\theta) {\\hat y}$, then $\\Delta {\\vec \\ell} = [-(\\Delta \\ell) \\sin \\theta] {\\hat x} + [(\\Delta \\ell) \\cos \\theta] {\\hat y}$. Notice that I have chosen the direction of $\\Delta {\\vec \\ell}$ so that the current (with $I > 0$) flows in the counterclockwise direction, when we look down from the $+z$ axis.\n",
    "\n",
    "![Polygonal approxmation for a circle](../img/INT_AY22_L35-Fig01_Circle_polygon_approx.png)\n",
    "\n",
    "```{admonition} Problem\n",
    ":class: hint\n",
    "Use the scalar product to show that the vectors ${\\vec r}$ and $\\Delta {\\vec \\ell}$ just given are perpendicular for all angles $\\theta$.\n",
    "```\n",
    "\n",
    "Let's pause a moment, and flesh out the process for finding the vectors $\\Delta {\\vec \\ell}$ -- where do these vectors come from? Remember we want to approximate the circle as a polygon, so we can choose points *on* the circle as the \"corners\" of the polygon. Then, each side has a vector $\\Delta {\\vec \\ell}$ starting at the point $P_k$, and ending at the next counterclockwise point $P_{k + 1}$. How do we find these points? Since we are dividing the circle into $N$ parts, each point $P_k$ is an angle $2\\pi k/N$ along the circle from the $+x$ axis. This is because we take the total angle $2 \\pi$ (in radians), and divide it into $N$ pieces. Thus, point $P_k$ has a position vector\n",
    "\n",
    "$$\n",
    "    {\\vec r}_k = R \\biggl[\\cos \\biggl( \\frac{2 \\pi k}{N} \\biggr) \\biggr] {\\hat x} + R \\biggl[\\sin \\biggl( \\frac{2 \\pi k}{N} \\biggr) \\biggr] {\\hat y}\n",
    "$$\n",
    "\n",
    "Therefore, the vector along the side from point $P_k$ to point $P_{k + 1}$ is simply the vector difference ${\\vec r}_{k + 1} - {\\vec r}_k$. The case for $N = 6$ sides is shown in the picture below, with the vector $\\Delta {\\vec \\ell}$ given for the points $P_1$ and $P_2$.\n",
    "\n",
    "![Marked points and difference vectors for hexagon](../img/INT_AY22_L35-Fig03_Circle_polygon_points.png)\n",
    "\n",
    "```{margin} Ancient mathematics\n",
    "Approximating a circle with a many-sided polygon was actually the first method used to find the value of $\\pi$! However, doing this by hand takes a really long time; mathematicians sometimes spent years trying to extend the number of known digits of $\\pi$ by calculating the perimeter of a polygon with more sides. It was Isaac Newton, with his development of both integral calculus and the binomial theorem, that pointed to much better methods.\n",
    "```\n",
    "\n",
    "```{admonition} Problem\n",
    ":class: hint\n",
    "Write a vPython function `polyPerimeter()` that calculates the perimeter of a polygon with $N$ sides. Choose the corners of the polygon so that they are on a circle with radius $R$, as described above. Add up the magnitudes of the vector differences ${\\vec r}_{k + 1} - {\\vec r}_k$ to get the total perimeter. Thus, the function `polyPerimeter()` should have two arguments: the number of sides `N` for the polygon, and the radius `R` of the circle where the corners are chosen. The function should return the perimeter of the polygon.\n",
    "\n",
    "Show that, as $N$ gets large, the perimeter of the polygon approaches the value $2 \\pi R$.\n",
    "```\n",
    "\n",
    "````{toggle}\n",
    "*Answer:* Here is a possible vPython program to solve the problem.\n",
    "\n",
    "```python\n",
    "def polyPerimeter(N, R):\n",
    "\n",
    "    # Definitions\n",
    "\n",
    "    DQ = (2 * pi) / N            # Angle between adjacent points\n",
    "    perimeter = 0                # Initialize perimeter variable\n",
    "    \n",
    "    for iii in range(N):\n",
    "        vec_diff = R * vector(cos((iii + 1) * DQ), sin((iii + 1) * DQ), 0) - \\\n",
    "                    R * vector(cos(iii * DQ), sin(iii * DQ), 0)\n",
    "        perimeter += mag(vec_diff)\n",
    "        \n",
    "    return perimeter\n",
    "```\n",
    "````\n",
    "\n",
    "Now, let's get back to solving the original problem. We want to use the unit vector ${\\hat r}$ instead of the position vector ${\\vec r}$, so dividing ${\\vec r}$ by its magnitude $R$, we have ${\\hat r} = (\\cos \\theta) {\\hat x} + (\\sin \\theta) {\\hat y}$. Thus, finding the contribution from a single side with the Biot-Savart law,\n",
    "\n",
    "$$\n",
    "    \\Delta {\\vec B} = \\frac{\\mu_0 I}{4 \\pi R^2} \\biggl\\{ [(\\Delta \\ell) \\sin \\theta] {\\hat x} + [-(\\Delta \\ell) \\cos \\theta] {\\hat y} \\biggr\\} \\times \\biggl\\{ (\\cos \\theta) {\\hat x} + (\\sin \\theta) {\\hat y} \\biggr\\}\n",
    "$$\n",
    "\n",
    "With the trigonometric identity $\\sin^2 \\theta + \\cos^2 \\theta = 1$, this gives\n",
    "\n",
    "$$\n",
    "    \\Delta {\\vec B} = \\biggl( \\frac{\\mu_0 I \\Delta \\ell}{4 \\pi R^2} \\biggr) {\\hat z}\n",
    "$$\n",
    "\n",
    "Finally, let's add up the contributions to get the total magnetic field. As we talked about above, we really want to take the limit with a very large number of sides $N$, so\n",
    "\n",
    "$$\n",
    "    {\\vec B} = \\lim_{N \\to \\infty} \\sum \\Delta {\\vec B}\n",
    "$$\n",
    "\n",
    "So what does this limit mean? Well, if the number of sides increases, then the sum of all the side lengths $\\sum \\Delta \\ell$ is going to approach the circumference $2 \\pi R$ of the circular loop! This means that when we take the limit,\n",
    "\n",
    "$$\n",
    "    {\\vec B} = \\lim_{N \\to \\infty} \\sum \\biggl( \\frac{\\mu_0 I \\Delta \\ell}{4 \\pi R^2} \\biggr) {\\hat z} = \\biggl[ \\frac{\\mu_0 I}{4 \\pi R^2} (2 \\pi R) \\biggr] {\\hat z} = \\biggl( \\frac{\\mu_0 I}{2 R} \\biggr) {\\hat z}\n",
    "$$\n",
    "\n",
    "This gives us our first magnetic field calculation using the Biot-Savart law.\n",
    "\n",
    "```{admonition} Magnetic field at the center of a circular loop\n",
    ":class: warning\n",
    "For a circular loop with radius $R$, and current $I$ moving through it, the magnitude $B$ of the magnetic field at the center of the loop is given by\n",
    "\n",
    "$$\n",
    "    B = \\frac{\\mu_0 I}{2 R}\n",
    "$$\n",
    "```\n",
    "\n",
    "Notice that one factor of $R$ has cancelled out, so the field magnitude depends on $1/R$, not $1/R^2$ -- doubling the size of the loop only decreases the magnetic field by one-half, rather than one-fourth, as we might expect from the Biot-Savart law.\n",
    "\n",
    "```{admonition} Problem\n",
    ":class: hint\n",
    "Suppose a circular loop of wire is lying in the $x-y$ plane. It has a radius of 3.00 cm and a current of 1.25 A passing through it, in a clockwise direction as seen by you looking down on the loop from the $+z$ direction. What is the magnetic field (in $\\mu$T) at the center of the loop, due to the current?\n",
    "```\n",
    "\n",
    "```{toggle}\n",
    "*Answer:* ${\\vec B} = (-1.31 \\ \\mu\\textrm{T}) {\\hat z}$\n",
    "```"
   ]
  },
  {
   "cell_type": "markdown",
   "id": "important-stage",
   "metadata": {},
   "source": [
    "## Magnetic field due to a long, straight wire\n",
    "\n",
    "### Numerical calculation using vPython\n",
    "\n",
    "In the last example, we found the magnetic field at the center of a circular loop, by dividing the loop into small pieces $\\Delta {\\vec \\ell}$, and then adding up the magnetic field contributions $\\Delta {\\vec B}$ from each of these pieces. Now we'll turn to the magnetic field created by a long, straight wire, and how this would be done in vPython. Here, \"long\" just means that the total length of the wire is large compared to the radius of the circular wire itself. We will eventually see what happens in the limit where the length gets really large.\n",
    "\n",
    "Suppose that the wire as a length $L$, and is placed along the $x$ axis, with the current in the $+x$ direction. The wire is centered at $r_x = 0$, and we will find the magnetic field ${\\vec B}$ at a position $(0, R, 0)$. To find this total magnetic field, we use the same process we did above with the circle: divide the wire into $N$ segments, and find the contributions $\\Delta {\\vec B}$ from each piece. These are added up to get the total.\n",
    "\n",
    "First, we need to find the length vector $\\Delta {\\vec \\ell}$ for each of these segments; I will do this in a little bit of detail, to help with a later step. We can find this vector $\\Delta {\\vec \\ell}$ as the vector difference between the left and right sides of each segment. Starting with the index $k = 0$, the left side of the kth segment is at $r_x = -(L/2) + (kL/N)$. The first term comes from the fact that a wire centered at the origin will have its extreme left side at $r_x = -L/2$; then we count over $k$ segment lengths from the left to get to segment $k$. The right-hand side will be one segment length larger in $r_x$, so it is at $r_x = -(L/2) + [(k + 1)L/N]$. The vector $\\Delta {\\vec \\ell}$ then points *from* the left side to the right. This is shown below, when the wire is divided into six segments.\n",
    "\n",
    "![Approximation of long straight wire by several segments](../img/INT_AY22_L35-Fig03_Wire_approx.png)\n",
    "\n",
    "This gives that the $\\Delta {\\vec \\ell}$ for the all the pieces is given by\n",
    "\n",
    "$$\n",
    "    \\Delta {\\vec \\ell} = \\biggl( \\frac{L}{N} \\biggr) {\\hat x}\n",
    "$$\n",
    "\n",
    "Next, we need to find the position vector ${\\vec r}$ for each piece. I will use the center of each piece as the \"location\" of the piece, and find its position relative to the observation point $P$, where we want to calculate the field. Based on what we just talked about, this location is at the point $r_x = -(L/2) + [(k + 1/2)L/N]$, since the middle of the segment is halfway along the segment length of $L/N$. Thus, the position vector ${\\vec r}_k$ pointing *from* the center of segment $k$, *to* the point $P$ where we want to find the field, is given by\n",
    "\n",
    "$$\n",
    "    {\\vec r}_k = \\biggl[ -\\frac{L}{2} + \\frac{(k + 1/2)L}{N} \\biggr] {\\hat x} + R {\\hat y}\n",
    "$$\n",
    "\n",
    "The physical situation is shown in the picture below.\n",
    "\n",
    "![Approximation of long straight wire by several segments](../img/INT_AY22_L35-Fig02_Wire_approx.png)\n",
    "\n",
    "However, we really need the unit vector ${\\hat r}_k$ that points in the same direction as the position vector ${\\vec r}_k$. We can find this by dividing ${\\vec r}_k$ by its magnitude $r_k$. After we do this, the contribution $\\Delta {\\vec B}_k$ to the total magnetic field at point $P$, coming from the wire segment $\\Delta {\\vec \\ell}_k$, would be given by\n",
    "\n",
    "$$\n",
    "    \\Delta {\\vec B}_k = \\frac{\\mu_0 I \\Delta {\\vec \\ell} \\times {\\hat r}_k}{r^2 _k}\n",
    "$$\n",
    "\n",
    "and the total magnetic field ${\\vec B}$ at $P$ would be\n",
    "\n",
    "$$\n",
    "    {\\vec B} = \\sum_k \\Delta {\\vec B}_k\n",
    "$$\n",
    "\n",
    "```{margin}\n",
    "If you look at the code used to find the magnetic field at point $P$, you will see I have divided it up into two pieces, to separate out the visualization from the physics. The first function, `createWire()` returns a list of cylinder objects to represent the segments of the wire. The arguments for this function are the wire current `I`, the length `L` of the wire, and the number of segments `numSegments` to divide the wire into. The second function `calcMagField()`, then takes the list `segList` of these cylinders, and finds the magnetic field vector at the point $P$, whose location is the argument `obsPoint`. It is a good idea to go through the code, and see where the various calculations for the magnetic field are done!\n",
    "```\n",
    "\n",
    "For now, rather than do the algebra for this, let's have the computer go through it for us! Below is a vPython program that calculates the total magnetic field at a point $P$. Running the program will give the vector ${\\vec B}$ for the field at point $P$."
   ]
  },
  {
   "cell_type": "code",
   "execution_count": 4,
   "id": "super-lawyer",
   "metadata": {
    "tags": [
     "remove-input"
    ]
   },
   "outputs": [
    {
     "data": {
      "text/html": [
       "\n",
       "        <iframe\n",
       "            width=\"100%\"\n",
       "            height=\"600\"\n",
       "            src=\"https://trinket.io/embed/glowscript/311aaff29b?toggleCode=true&showInstructions=true\"\n",
       "            frameborder=\"0\"\n",
       "            allowfullscreen\n",
       "        ></iframe>\n",
       "        "
      ],
      "text/plain": [
       "<IPython.lib.display.IFrame at 0x1c54fc67ef0>"
      ]
     },
     "execution_count": 4,
     "metadata": {},
     "output_type": "execute_result"
    }
   ],
   "source": [
    "from IPython.display import IFrame\n",
    "\n",
    "IFrame(src=\"https://trinket.io/embed/glowscript/311aaff29b?toggleCode=true&showInstructions=true\", width=\"100%\", height=\"600\")"
   ]
  },
  {
   "cell_type": "markdown",
   "id": "amateur-allergy",
   "metadata": {},
   "source": [
    "```{admonition} Challenge\n",
    ":class: hint\n",
    "Find the algebraic equation for $\\Delta {\\vec B}_k$, using the recipe given above. Your equation should depend on the current $I$, the length $L$ of the wire, the distance $R$ from the point $P$ and the center of the wire, and the index $k$ of the wire segment creating $\\Delta {\\vec B}_k$.\n",
    "```\n",
    "\n",
    "```{toggle}\n",
    "*Answer:* The magnetic field contribution $\\Delta {\\vec B}_k$ for the line segment $\\Delta {\\vec \\ell}_k$ is given by\n",
    "\n",
    "$$\n",
    "    \\Delta {\\vec B}_k = \\frac{ILR}{4\\pi N \\biggl\\{R^2 + \\bigl[(L/N)(k + 1/2) \\bigr]^2 \\biggr\\}^{3/2}}\n",
    "$$\n",
    "\n",
    "```"
   ]
  },
  {
   "cell_type": "markdown",
   "id": "hourly-glenn",
   "metadata": {},
   "source": [
    "### Comparing theory with simulation\n",
    "\n",
    "If you tried the challenge problem, you will see the algebraic expression for $\\Delta {\\vec B}_k$ is complicated. Unlike the circular loop, it is not immediately obvious how to find the sum ${\\vec B} = \\sum_k \\Delta {\\vec B}_k$; doing so requires integral calculus!\n",
    "\n",
    "However, we can guess the form of the final ${\\vec B}$ for a long, straight wire, and see why it is true, starting from the Biot-Savart law. This tells us that ${\\vec B}$ should be proportional to $\\mu_0$ and $I$. If we look at the units of the rest, ${\\hat r}$ is unitless (remember we divide ${\\vec r}$ by its magnitude). The remaining pieces are $\\Delta \\ell$ and $r^2$, which gives units of 1/length. Since the wire is infinite, the only relevant length is the distance $R$ between the wire and the observation point $P$. Thus, we expect that the magnitude $B$ is given by\n",
    "\n",
    "$$\n",
    "    B = k \\biggl( \\frac{\\mu_0 I}{R} \\biggr)\n",
    "$$\n",
    "\n",
    "where $k$ is some constant number. Going through the necessary integral calculus, you can show the following.\n",
    "\n",
    "```{admonition} Magnetic field of a long, straight wire\n",
    ":class: warning\n",
    "The magnitude of the magnetic field at a distance $R$ from a long, straight wire with current $I$ is given by\n",
    "\n",
    "$$\n",
    "    B = \\frac{\\mu_0 I}{2\\pi R}\n",
    "$$\n",
    "```\n",
    "\n",
    "Be careful! The field for the circular loop looks very similar, but its the one *without* the $\\pi$; the long, straight wire is the one *with* the $\\pi$. The geometric $\\pi$ coming from the circle cancels the $\\pi$ in the Biot-Savart law, which is why it does not appear in loop field equation.\n",
    "\n",
    "```{admonition} Problem\n",
    ":class: hint\n",
    "A very long wire carries a current of 3.57 A to the right, as shown in the figure below.\n",
    "\n",
    "![A current-carrying wire](../img/INT_AY20_MP3_L25-Fig01_Current_wire.png)\n",
    "\n",
    "1. What is the magnitude and direction of the magnetic field at point $P$?\n",
    "1. At what distance (in cm) from the wire is the magnetic field strength equal to 5.00 $\\times 10^{-5}$ T?\n",
    "```\n",
    "\n",
    "```{toggle}\n",
    "*Answers:* $6.49 \\times 10^{-6}$ T, into the page; 1.43 cm\n",
    "```\n",
    "\n",
    "```{admonition} Problem\n",
    ":class: hint\n",
    "Two straight wires run parallel to each other, carrying currents in the amounts and directions shown. Which choice gives the net magnetic field strength at point $P$ due to these two current carrying wires?\n",
    "\n",
    "![Two parallel current-carrying wires](../img/INT_AY20_MP3_L25-Fig02_Parallel_wires.png)\n",
    "\n",
    "1. $1.09 \\times 10^{-7}$ T \n",
    "1. $2.16 \\times 10^{-6}$ T\n",
    "1. $2.27 \\times 10^{-6}$ T\n",
    "1. $4.44 \\times 10^{-6}$ T\n",
    "1. None of the above\n",
    "```\n",
    "\n",
    "```{toggle}\n",
    "*Answer:* $1.09 \\times 10^{-7}$ T\n",
    "```\n",
    "\n",
    "```{admonition} Problem\n",
    ":class: hint\n",
    "One of the long, straight wires shown below carries a current of 6.20 A in the positive $y$ direction, and the second has a current of 4.50 A in the positive $x$ direction.\n",
    "\n",
    "![Two crossed current-carrying wires](../img/INT_AY20_MP3_L25-Fig03_Crossed_wires.png)\n",
    "\n",
    "Calculate the net magnetic fields at points 1 and 2 in unit vector notation, using $\\mu$T.\n",
    "```\n",
    "\n",
    "```{toggle}\n",
    "*Answer:* ${\\vec B_1} = (13.4\\ \\mu\\textrm{T}) {\\hat z}$; ${\\vec B_2} = (-2.13\\ \\mu\\textrm{T}) {\\hat z}$\n",
    "```\n",
    "\n",
    "Let's check that our simulation actually gives that result. Below is a program that shows a graph of the component $B_z$ as a function of the wire length $L$. In the program, I combined the two functions from the previous program, so that only the final field is calculated (no wire visualization is created). Obviously, as $L \\to \\infty$, we should approach the result for an infinite wire. The blue line shows $B_z$ for each $L$, while the red line is the theoretical value for the long, straight wire. The two are very different for small $L$, but they are basically the same beyond 100. m or so.\n",
    "\n",
    "```{margin} Making the wire longer\n",
    "What happens when you extend the graph to even higher $L$? Try a maximum length $L$ of 500. m in the program. You will see the blue curve starts going back down! This is not because of bad coding, just that numerical errors are starting to affect the result. The computer calculates all number only to a certain number of decimal places. When we do this for very large $L$, some accuracy is lost, and the errors build up. The method I used in this program does not deal with this well, but there are smarter techniques that could be used instead.\n",
    "```"
   ]
  },
  {
   "cell_type": "code",
   "execution_count": 1,
   "id": "primary-kennedy",
   "metadata": {
    "tags": [
     "remove-input"
    ]
   },
   "outputs": [
    {
     "data": {
      "text/html": [
       "\n",
       "        <iframe\n",
       "            width=\"100%\"\n",
       "            height=\"600\"\n",
       "            src=\"https://trinket.io/embed/glowscript/11b9dd19e6?toggleCode=true&showInstructions=true\"\n",
       "            frameborder=\"0\"\n",
       "            allowfullscreen\n",
       "        ></iframe>\n",
       "        "
      ],
      "text/plain": [
       "<IPython.lib.display.IFrame at 0x1ed4ef916a0>"
      ]
     },
     "execution_count": 1,
     "metadata": {},
     "output_type": "execute_result"
    }
   ],
   "source": [
    "from IPython.display import IFrame\n",
    "\n",
    "IFrame(src=\"https://trinket.io/embed/glowscript/11b9dd19e6?toggleCode=true&showInstructions=true\", width=\"100%\", height=\"600\")"
   ]
  },
  {
   "cell_type": "markdown",
   "id": "seven-semiconductor",
   "metadata": {},
   "source": [
    "As a final step, let's look at how the calculated ${\\vec B}$ changes with the number of segments $N$ used, keeping the length constant. We expect that the simulation will be more accurate as $N \\to \\infty$; how fast it approaches the final answer is called the **convergence** of the program. The program below creates a graph of $B_z$ versus the number of segments $N$."
   ]
  },
  {
   "cell_type": "code",
   "execution_count": 2,
   "id": "neutral-limitation",
   "metadata": {},
   "outputs": [
    {
     "data": {
      "text/html": [
       "\n",
       "        <iframe\n",
       "            width=\"100%\"\n",
       "            height=\"600\"\n",
       "            src=\"https://trinket.io/embed/glowscript/1ac77a1a6f?toggleCode=true&showInstructions=true\"\n",
       "            frameborder=\"0\"\n",
       "            allowfullscreen\n",
       "        ></iframe>\n",
       "        "
      ],
      "text/plain": [
       "<IPython.lib.display.IFrame at 0x1ed4ef975c0>"
      ]
     },
     "execution_count": 2,
     "metadata": {},
     "output_type": "execute_result"
    }
   ],
   "source": [
    "from IPython.display import IFrame\n",
    "\n",
    "IFrame(src=\"https://trinket.io/embed/glowscript/1ac77a1a6f?toggleCode=true&showInstructions=true\", width=\"100%\", height=\"600\")"
   ]
  },
  {
   "cell_type": "markdown",
   "id": "variable-parts",
   "metadata": {},
   "source": [
    "If you run the program, you will see some interesting behavior -- the blue curve \"zig-zags\" quite a bit at low $N$! This makes sense if you think about how this relates to the value of $N$: the calculated $B_z$ for odd $N$ are too *large*, and too *small* for even $N$. When $N$ is odd, one of the segments has its center at $r_x = 0$, directly below the point $P$. Since this is relatively close to the point, it has an exaggerated effect, making $B_z$ too large. The opposite happens when $N$ is even. For those $N$, the centers of the wire segments are further away, reducing $B_z$. However, these two effects eventually get smaller as $N$ gets larger; the computed value of $B_z$ is essentially the same as the theoretical value for $N = 30$. The small error at this point is mainly because the wire length $L$ is large but still finite."
   ]
  },
  {
   "cell_type": "markdown",
   "id": "expected-guinea",
   "metadata": {},
   "source": [
    "## Summary\n",
    "\n",
    "We have now talked about the sources of magnetic fields, which are all variations on current-carrying wires. Unlike the electric field (where the sources were just charges), the resulting magnetic fields are more complicated. This comes from the three-dimensional nature of the Biot-Savart law, as opposed to the simpler electric field equation due to a point charge. Hopefully you are getting some good practice with the vector product!\n",
    "\n",
    "To emphasize the point, magnetic fields are created by the motion of electric charge: something electric is changing to give something magnetic. This relationship was shown to work both ways, which is why we now think of \"electromagnetism\", rather than \"electricity\" and \"magnetism\" separately. This deep marriage of the two will continue in the next lesson, where we turn to Faraday's law. This law relates the change of electric fields in *space* to produce changes in magnetic fields in *time*. It is because of such relations that we have light waves!\n",
    "\n",
    "After this lesson, you should be able to:\n",
    "\n",
    "* State the magnitude and direction of the magnetic field due to a current-carrying wire.\n",
    "* Calculate the magnetic field at the center of a circular loop.\n",
    "* Calculate the magnetic field due to a long, straight wire."
   ]
  }
 ],
 "metadata": {
  "celltoolbar": "Tags",
  "kernelspec": {
   "display_name": "Python 3",
   "language": "python",
   "name": "python3"
  },
  "language_info": {
   "codemirror_mode": {
    "name": "ipython",
    "version": 3
   },
   "file_extension": ".py",
   "mimetype": "text/x-python",
   "name": "python",
   "nbconvert_exporter": "python",
   "pygments_lexer": "ipython3",
   "version": "3.7.1"
  },
  "toc": {
   "base_numbering": 1,
   "nav_menu": {},
   "number_sections": true,
   "sideBar": true,
   "skip_h1_title": false,
   "title_cell": "Table of Contents",
   "title_sidebar": "Contents",
   "toc_cell": false,
   "toc_position": {},
   "toc_section_display": true,
   "toc_window_display": false
  }
 },
 "nbformat": 4,
 "nbformat_minor": 5
}
