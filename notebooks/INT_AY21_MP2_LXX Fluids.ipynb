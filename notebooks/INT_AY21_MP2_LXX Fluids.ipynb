{
 "cells": [
  {
   "cell_type": "markdown",
   "metadata": {},
   "source": [
    "# Objectives\n",
    "\n",
    "* Define pressure and density.\n",
    "* State the density of fresh water.\n",
    "* State the value of standard atmospheric pressure in SI units.\n",
    "* Explain Pascal's principle.\n",
    "* Explain the relationship between pressure and depth in a fluid.\n",
    "* Solve for the column height of a fluid in a U-tube using Pascal's principle.\n",
    "* State Archimedes' Principle.\n",
    "* Calculate the buoyant force on submerged or floating objects."
   ]
  },
  {
   "cell_type": "markdown",
   "metadata": {},
   "source": [
    "# Fluids\n",
    "\n",
    "A **fluid** is a substance that can readily flow from place to place and take on the shape of a container. Fluid can be a liquid or a gas.\n",
    "\n",
    "For any type of object, fluid or otherwise, we can define the **density** of the object. It has a symbol $\\rho$ (\"rho\") and is defined by mass over volume, or\n",
    "\n",
    "$$\n",
    "    \\rho = \\frac{M}{V}\n",
    "$$\n",
    "\n",
    "The density has SI units of kg/m$^3$. *You should memorize the density of fresh water as 1000 kg/m$^3$.*\n",
    "\n",
    "> **Problem:** A cube of metal has a mass of 347 g and measures 3.21 cm on a side. Using the table of densities given, identify the metal.\n",
    "> \n",
    "> | Substance | $\\rho$ (kg/m$^3$) |\n",
    "> |-----------|-------------------|\n",
    "> | aluminum  | 2700              |\n",
    "> | iron      | 7860              |\n",
    "> | silver    | 10500             |\n",
    "> | lead      | 11300             |\n",
    "> | mercury   | 13600             |\n",
    "> | gold      | 19300             |\n",
    "\n",
    "Historically, one of the more important ideas in physics from the 18th and 19th centuries is the [kinetic theory of gases](https://en.wikipedia.org/wiki/Kinetic_theory_of_gases), which explains many of the properties of a gas by the simple model of assuming the gas is made of very small particles moving at random speeds. We will explore this idea a little as we motivate how the pressure of a fluid can change based on the depth the pressure is measured at. A good simulation to explore this model, and to review how it accounts for the various gas laws, is given in the next cell."
   ]
  },
  {
   "cell_type": "code",
   "execution_count": null,
   "metadata": {},
   "outputs": [],
   "source": [
    "from IPython.display import IFrame\n",
    "\n",
    "IFrame(src=\"https://phet.colorado.edu/sims/html/gases-intro/latest/gases-intro_en.html\", width=\"600\", height=\"400\")"
   ]
  },
  {
   "cell_type": "markdown",
   "metadata": {},
   "source": [
    "We will now construct our own simple vPython simulation of a gas. First, we need to import all the necessary vPython modules."
   ]
  },
  {
   "cell_type": "code",
   "execution_count": 5,
   "metadata": {},
   "outputs": [
    {
     "data": {
      "text/html": [
       "<div id=\"glowscript\" class=\"glowscript\"></div>"
      ],
      "text/plain": [
       "<IPython.core.display.HTML object>"
      ]
     },
     "metadata": {},
     "output_type": "display_data"
    },
    {
     "data": {
      "application/javascript": [
       "if (typeof Jupyter !== \"undefined\") { window.__context = { glowscript_container: $(\"#glowscript\").removeAttr(\"id\")};}else{ element.textContent = ' ';}"
      ],
      "text/plain": [
       "<IPython.core.display.Javascript object>"
      ]
     },
     "metadata": {},
     "output_type": "display_data"
    }
   ],
   "source": [
    "from vpython import canvas, cos, curve, cylinder, dot, mag, norm, random, pi, rate, sin, sqrt, vector"
   ]
  },
  {
   "cell_type": "markdown",
   "metadata": {},
   "source": [
    "To keep things visually simple, we will use a two-dimensional gas, so you can see everything that is happening at all times. This means we will have disks representing the molecules of the gas inside of a square box. There are several things we need to do to set up this simulation:\n",
    "\n",
    "* Create the disks inside the box with an initial velocity\n",
    "* Check for collisions between each pair of disks\n",
    "* Check for collisions between the disks and the walls\n",
    "\n",
    "In order to not lose the forest because of the trees, I will create each of these tasks as a separate function in vPython. The first creates the disks -- the basic idea is to create the disks at random locations. The function returns three lists: the list `disk_pos_list` of disk positions, a list `disk_vel_list` of their velocities, and then a list `disk_object_list` of the `cylinder` objects representing them in the animation. Since this is a relatively simple way of setting up the simulation, to make sure disks do not form on top of each other, the ratio `AREA_RATIO` of the area of the disks to the total area is kept small. The positions and velocities of the disks are also kept in a Python list, rather than directly creating the `cylinder` objects that will represent the atoms in our simulation. Using a list will help the animation run more smoothly. Run the cell below to use this function."
   ]
  },
  {
   "cell_type": "code",
   "execution_count": 6,
   "metadata": {},
   "outputs": [],
   "source": [
    "# Create disks\n",
    "\n",
    "def createDisks():\n",
    "    \n",
    "    # Create disk radius as global variable, so that all other\n",
    "    # functions can know about it\n",
    "    \n",
    "    global R\n",
    "    \n",
    "    # Set disk size. We want to make it easier to find a random list\n",
    "    # of positions for the disks, so we must make sure that the area\n",
    "    # of all the disks is less than the total area of the square. To\n",
    "    # do this, we assume\n",
    "    #\n",
    "    #        (NUM_DISKS * pi * R^2) / (2 * L)^2 << 1\n",
    "    #\n",
    "    # Specficially, the ratio is set to the value AREA_RATIO, and the\n",
    "    # resulting radius R is solved for.\n",
    "\n",
    "    AREA_RATIO = 0.1\n",
    "    R = L * sqrt(AREA_RATIO / (NUM_DISKS * pi))\n",
    "    \n",
    "    # Initial speed of all disks\n",
    "    \n",
    "    INIT_SPEED = 5\n",
    "                    \n",
    "    # Create list of disk objects\n",
    "    \n",
    "    disk_object_list = []\n",
    "        \n",
    "    for iii in range(NUM_DISKS):\n",
    "\n",
    "        # Random position; the center of the disk must be\n",
    "        # at least one disk radius away from box edge\n",
    "        \n",
    "        x = (L - R) * (1 - 2 * random())\n",
    "        y = (L - R) * (1 - 2 * random())\n",
    "        z = 0\n",
    "        \n",
    "        # Random direction for velocity; all disk speeds\n",
    "        # are set to be the same value INIT_SPEED\n",
    "        \n",
    "        Q = 2 * pi * random()\n",
    "        vx = INIT_SPEED * cos(Q)\n",
    "        vy = INIT_SPEED * sin(Q)\n",
    "        vz = 0\n",
    "        \n",
    "        # Put these into disk object list\n",
    "        \n",
    "        disk_object_list = disk_object_list + [cylinder(pos = vector(x, y, z), \\\n",
    "                            velocity = vector(vx, vy, vz), axis = vector(0, 0, 0.01), radius = R)]\n",
    "\n",
    "    # Send list back to main procedure\n",
    "    \n",
    "    return disk_object_list"
   ]
  },
  {
   "cell_type": "markdown",
   "metadata": {},
   "source": [
    "Next is a function to check whether the disks have hit the walls. This is relatively simple, and we have used something similar in previous simulations. Since the sides of the box run from `-L` to `L` in both the $x$ and $y$ directions, we just have to check whether the disk center `disk_pos` has gone *beyond* one disk radius `R` from the walls. This is the same as making sure that\n",
    "\n",
    "$$\n",
    "    |x| >= (L - R) \\qquad\n",
    "    |y| >= (L - R)\n",
    "$$\n",
    "\n",
    "Verify this for each wall if you are unsure of this!"
   ]
  },
  {
   "cell_type": "code",
   "execution_count": 7,
   "metadata": {},
   "outputs": [],
   "source": [
    "# Check for collisions against wall\n",
    "\n",
    "def checkWallCollision(disk):\n",
    "    \n",
    "    # Check to see if the disk is too close to the walls;\n",
    "    # flip the direction of the appropriate velocity\n",
    "    # component if this does happen\n",
    "    \n",
    "    if abs(disk.pos.x) >= (L - R):\n",
    "        disk.velocity.x = -disk.velocity.x\n",
    "    if abs(disk.pos.y) >= (L - R):\n",
    "        disk.velocity.y = -disk.velocity.y \n",
    "        \n",
    "    # If a disk has gotten loose, use modular arithmetic\n",
    "    # to put it back in the box on the inside\n",
    "        \n",
    "    if abs(disk.pos.x) > L:\n",
    "        disk.pos.x = (disk.pos.x + 2 * L) % L\n",
    "        \n",
    "    if abs(disk.pos.y) > L:\n",
    "        disk.pos.y = (disk.pos.y + 2 * L) % L\n",
    "        \n",
    "    # Return disk object with possibly changed\n",
    "    # position, velocity vectors\n",
    "        \n",
    "    return disk"
   ]
  },
  {
   "cell_type": "markdown",
   "metadata": {},
   "source": [
    "Finally, our third function checks for collisions between a pair of disks. Remember when we considered collisions in Lesson LESSON LINK, that we use conservation of momentum to find the final velocities of the two disks after the collision. This is done in three steps:\n",
    "\n",
    "* From the disk velocities that we see, use relative motion find the velocities of the disks in the center of mass (CM) frame.\n",
    "* Use conservation of momentum in the CM frame. The collision is assumed to be elastic, since the disks are \"hard\", so the coefficient of restitution is $\\epsilon = 1$. This means that the CM frame velocities for disks 1 and 2 are\n",
    "\n",
    "$$\n",
    "    {\\vec v}_{1f, CM} = - {\\vec v}_{1i, CM} \\qquad\n",
    "    {\\vec v}_{2f, CM} = - {\\vec v}_{2i, CM}\n",
    "$$\n",
    "\n",
    "* Take the final CM velocities and use relative motion again to find the final velocities that we see. Return these velocities as `disk1_vel` and `disk2_vel`."
   ]
  },
  {
   "cell_type": "code",
   "execution_count": 8,
   "metadata": {},
   "outputs": [],
   "source": [
    "# Check for collisions between pairs of disks\n",
    "\n",
    "def checkDiskCollision(disk1, disk2):\n",
    "    \n",
    "    # Collision occurs if the difference between the positions\n",
    "    # is less than twice the individual disk radius\n",
    "    \n",
    "    if mag(disk1.pos - disk2.pos) <= 2 * R:\n",
    "        \n",
    "        # Transfer from lab frame to CM frame\n",
    "        \n",
    "        CM_vel = 0.5 * (disk1.velocity + disk2.velocity)\n",
    "        disk1_CM_vel = disk1.velocity - CM_vel\n",
    "        disk2_CM_vel = disk2.velocity - CM_vel\n",
    "        \n",
    "        # Using initial velocities and Newton's 2nd law in\n",
    "        # momentum terms, find final velocities of disks\n",
    "        \n",
    "        distUnitVec = norm(disk1.pos - disk2.pos)\n",
    "        disk1_CM_vel = disk1_CM_vel - 2 * dot(disk1_CM_vel, distUnitVec) * distUnitVec\n",
    "        disk2_CM_vel = disk2_CM_vel - 2 * dot(disk2_CM_vel, distUnitVec) * distUnitVec\n",
    "        \n",
    "        # Transfer from CM frame back to lab frame\n",
    "        \n",
    "        disk1.velocity = disk1_CM_vel + CM_vel\n",
    "        disk2.velocity = disk2_CM_vel + CM_vel\n",
    "        \n",
    "    return [disk1, disk2]"
   ]
  },
  {
   "cell_type": "markdown",
   "metadata": {},
   "source": [
    "Now, we can put this all together into our main procedure, which is given in the cell below. Run the cell, and you should see our gas of disks merrily moving around a box, colliding with each other and the walls."
   ]
  },
  {
   "cell_type": "code",
   "execution_count": 13,
   "metadata": {},
   "outputs": [
    {
     "data": {
      "text/html": [
       "<div id=\"glowscript\" class=\"glowscript\"></div>"
      ],
      "text/plain": [
       "<IPython.core.display.HTML object>"
      ]
     },
     "metadata": {},
     "output_type": "display_data"
    },
    {
     "data": {
      "application/javascript": [
       "if (typeof Jupyter !== \"undefined\") { window.__context = { glowscript_container: $(\"#glowscript\").removeAttr(\"id\")};}else{ element.textContent = ' ';}"
      ],
      "text/plain": [
       "<IPython.core.display.Javascript object>"
      ]
     },
     "metadata": {},
     "output_type": "display_data"
    }
   ],
   "source": [
    "canvas()\n",
    "\n",
    "# Constants\n",
    "\n",
    "L = 2\n",
    "NUM_DISKS = 20\n",
    "MAX_TIME = 5\n",
    "t = 0\n",
    "dt = 0.01\n",
    "\n",
    "# Create disks with random starting positions, velocities\n",
    "\n",
    "diskList = createDisks()\n",
    "\n",
    "# Create boundary of square for disks\n",
    "\n",
    "boundary = curve(radius = 0.01)\n",
    "boundary.append(vector(L, L, 0), vector(L, -L, 0), vector(-L, -L, 0), vector(-L, L, 0), vector(L, L, 0))\n",
    "\n",
    "# Time evolution\n",
    "\n",
    "while t < MAX_TIME:\n",
    "    rate(100)\n",
    "    \n",
    "    # Go through all the disks, check for collisions, and\n",
    "    # then update the position, velocity of the disk\n",
    "    \n",
    "    for jjj in range(NUM_DISKS):\n",
    "    \n",
    "        # Check for wall collisions\n",
    "    \n",
    "        diskList[jjj] = checkWallCollision(diskList[jjj])\n",
    "        \n",
    "        # Check for disk collisions; to save computational\n",
    "        # time, only check for collisions with disks having\n",
    "        # numerical labels greater than the current disk\n",
    "        \n",
    "        for kkk in range(jjj + 1, NUM_DISKS):\n",
    "            [diskList[jjj], diskList[kkk]] = checkDiskCollision(diskList[jjj], diskList[kkk])\n",
    "        \n",
    "        # Update positions, velocities in lists\n",
    "        \n",
    "        diskList[jjj].pos = diskList[jjj].pos + diskList[jjj].velocity * dt\n",
    "        \n",
    "    # Update time\n",
    "    \n",
    "    t = t + dt"
   ]
  },
  {
   "cell_type": "markdown",
   "metadata": {},
   "source": [
    "Sometimes, if you run many simulations in the same Jupyter notebook, your computer may slow down. This is partly because the computer may keep track of \"old\" vPython objects -- such as the disks in our gas simulation -- even though they are no longer being displayed. The cell below acts as a measure to remove previous disks from memory. If you run it, you will see the disks in the `canvas` above disappear!"
   ]
  },
  {
   "cell_type": "code",
   "execution_count": 14,
   "metadata": {},
   "outputs": [],
   "source": [
    "# For any object 'thing', make\n",
    "# it invisible and delete it\n",
    "\n",
    "def cleanup(thing):\n",
    "    try:\n",
    "        thing.visible = False\n",
    "        del thing\n",
    "    except:\n",
    "        pass"
   ]
  },
  {
   "cell_type": "code",
   "execution_count": null,
   "metadata": {},
   "outputs": [],
   "source": [
    "# Run through the disk objects\n",
    "# of the simulation and clean\n",
    "# them up using above procedure\n",
    "    \n",
    "for disk in diskList:\n",
    "    cleanup(disk)"
   ]
  },
  {
   "cell_type": "markdown",
   "metadata": {},
   "source": [
    "The vPython script run in the cell below uses various methods to try and speed up calculations for the disk gas. Thus, it can run roughly the same speed with a greater number of disks."
   ]
  },
  {
   "cell_type": "code",
   "execution_count": 12,
   "metadata": {},
   "outputs": [
    {
     "data": {
      "text/html": [
       "<div id=\"glowscript\" class=\"glowscript\"></div>"
      ],
      "text/plain": [
       "<IPython.core.display.HTML object>"
      ]
     },
     "metadata": {},
     "output_type": "display_data"
    },
    {
     "data": {
      "application/javascript": [
       "if (typeof Jupyter !== \"undefined\") { window.__context = { glowscript_container: $(\"#glowscript\").removeAttr(\"id\")};}else{ element.textContent = ' ';}"
      ],
      "text/plain": [
       "<IPython.core.display.Javascript object>"
      ]
     },
     "metadata": {},
     "output_type": "display_data"
    }
   ],
   "source": [
    "%run ../scripts/2D_disk_gas.py"
   ]
  },
  {
   "cell_type": "code",
   "execution_count": 15,
   "metadata": {},
   "outputs": [],
   "source": [
    "# Clean up disks from script\n",
    "    \n",
    "for disk in diskObjList:\n",
    "    cleanup(disk)"
   ]
  },
  {
   "cell_type": "markdown",
   "metadata": {},
   "source": [
    "# Pressure\n",
    "\n",
    "## Definition of pressure\n",
    "\n",
    "Now that we have a simple model of a fluid, let's use it to get an intuition for how fluids generate pressure. Consider what happens when you push both a pin and the blunt end of a pen against your skin with the same force. What will determine whether your skin will be punctured?\n",
    "\n",
    "(MORE)\n",
    "\n",
    ">**Pressure:**\n",
    ">\n",
    "> * Symbol: $P$\n",
    "> * Definition:\n",
    "> $$\n",
    "    P = \\frac{F}{A}\n",
    " $$\n",
    "> * Units: Pascals\n",
    "> $$\n",
    "    1\\ \\textrm{Pa} = 1\\ \\frac{\\textrm{N}}{\\textrm{m}^2}\n",
    " $$\n",
    "\n",
    "For example, squeezing an egg from all sides will *not* break the egg. The curved shape of the egg is able to redistribute the force all across its area, so the resulting pressure on the egg is too small to break the shell. However, exerting a force on a small area -- by hitting the egg against the edge of a bowl -- results in a large enough pressure to crack the egg!\n",
    "\n",
    "> **Problem:** You are walking out on a frozen lake and you begin to hear the ice cracking beneath you. What is your best strategy for getting off the ice safely?\n",
    ">\n",
    "> 1. Jump up and down to lessen your contact time with the ice.\n",
    "> 1. Lie down flat on the ice and crawl toward shore.\n",
    "> 1. Shuffle your feet (without lifting them) to move toward shore.\n",
    "> 1. Stand absolutely still and wait for rescue.\n",
    "\n",
    "![A tire gauge is used to measure the difference in the pressure inside the tire *above* atmospheric pressure](../img/INT_AY20_MP2_L06_Fig01-Tire_gauge_small.png)\n",
    "\n",
    "There are other non-SI units that you will see when dealing with pressure. One unit is the *atmosphere* (atm), which is the standard average pressure at sea level on the Earth's surface. We will deal more with atmospheric pressure in Section SECTION LINK. Another such unit is *pounds per square inch* (psi). The conversion factors between these units are listed below.\n",
    "    \n",
    "* Atmospheres -- 1 atm = 101.5 kPa\n",
    "* 1 atm = 14.7 $\\frac{\\text{lb}}{\\text{in}^2}$ (psi)\n",
    "\n",
    "Most tire gauges measure the pressure of vehicle tires in psi. You might also see units of *mm of Hg* (Torr). Torr are most often used when measuring blood pressure or by meteorologists discussing the weather!\n",
    "\n",
    "![Two types of heel (high and flat) give different pressures on the foam beneath them](../img/INT_AY20_MP2_L06_Fig02-Shoes_on_foam_small.png)\n",
    "\n",
    "> **Problem:** A 60.0 kg woman is standing up such that the weight is distributed equally on both feet. If her heels are supporting 75.0 percent of her weight and the contact area between her heels and the ground are 0.250 in$^2$ (for the high heel) and 2.00 in$^2$ (for the flat heel), what is the pressure value on each heel?"
   ]
  },
  {
   "cell_type": "markdown",
   "metadata": {},
   "source": [
    "## Atmospheric pressure\n",
    "\n",
    "Atmospheric pressure is the pressure due to the weight of the air above.\n",
    "* Notation: $P_{at}$ -- atmospheric pressure; the **standard** value is\n",
    "$$\n",
    "    P_{at} = 1\\ \\textrm{atm} = 101.3 \\ \\textrm{kPa} = 14.7\\ \\frac{\\text{lb}}{\\text{in}^2}\n",
    "$$\n",
    "* If a problem does not give the atmospheric pressure, you may assume a standard pressure of 101.3 kPa.\n",
    "\n",
    "![A Goethe barometer, originally developed by the German writer Johann Wolfgang Von Goethe ([source](https://commons.wikimedia.org/wiki/File:Barometer_Goethe_01.jpg))](../img/Barometer.png)\n",
    "\n",
    "A barometer is formed when a tube filled with fluid and blocked at both ends is put into a basin of the same fluid, and the bottom end is uncapped. The fluid level in the top of the tube will go down to some level and stay. Why is this? \n",
    "\n",
    "![Portrait of Evangelista Torricelli ([source](https://commons.wikimedia.org/wiki/File:Evangelista_Torricelli_by_Lorenzo_Lippi_(circa_1647,_Galleria_Silvano_Lodi_%26_Due).jpg))](../img/INT_AY20_MP2_L06_Fig03-Evangelista_Torricelli_small.png)\n",
    "\n",
    "Based on Aristotle's ideas -- \"nature abhors a vacuum\" -- it was originally believed that a vacuum was formed and could pull the fluid up with a limited amount of force. However, this idea was tested by various people in the 1630s and 1640s. Evangelista Torricelli thought instead it was the weight of the air itself *pushing* the fluid up, until the forces from the air and fluid weights balanced.\n",
    "\n",
    "![Portrait of Blaise Pascal ([source](https://commons.wikimedia.org/wiki/File:Blaise_Pascal_Versailles.JPG))](../img/INT_AY20_MP2_L06_Fig04-Blaise_Pascal.png)\n",
    "\n",
    "This idea was tested by Blaise Pascal in various ways in 1644, and it was shown that Torricelli was correct.\n",
    "\n",
    "Gauge pressure is the difference between total pressure and atmospheric pressure\n",
    "\n",
    "$$ \n",
    "    P_g = P_{tot} - P_{at}\n",
    "$$\n",
    "\n",
    "where $P_g$ is gauge pressure, $P_{tot}$ is total pressure and $P_{at}$ is atmospheric pressure. Tire gauges and other measuring devices give the pressure of the tire *above* the atmospheric pressure, hence the name.\n",
    "\n",
    "> **Problem:** A glass bottle of soda is sealed with a screw cap. The absolute pressure of the carbon dioxide inside the bottle is 160 kPa. Assuming the top and bottom surfaces of the cap each have an area of 4.74 cm$^2$, obtain the magnitude of the force (in N) the screw thread exerts on the cap in order to keep it on the bottle. The air pressure outside the bottle is one atmosphere.\n",
    "\n",
    "![2019 Chevrolet Corvette ZR1 at the Montreal International Car Show ([source](https://commons.wikimedia.org/wiki/File:2019_Chevrolet_Corvette_ZR1_au_SIAM_2019.jpg))](../img/2019_Chevrolet_Corvette.png)\n",
    "\n",
    "> **Problem:** The weight of your 1420 kg car (2019 Corvette ZR1) is supported equally by its four tires, each inflated to a gauge pressure of 35.0 psi.  What is the area of contact each tire makes with the road (in cm$^2$)?"
   ]
  },
  {
   "cell_type": "markdown",
   "metadata": {},
   "source": [
    "# Pressure at a depth\n",
    "\n",
    "![Pressure at a depth in a fluid](../img/INT_AY20_MP2_L07_Fig01-Pressure_at_a_depth_small.png)\n",
    "\n",
    "$$\n",
    "    P_{tot} = P_{at} + \\rho g h\n",
    "$$\n",
    "\n",
    "* $P_{tot}$ -- total pressure at depth $h$ below the surface \n",
    "* $P_{at}$ -- total pressure at the surface of the fluid (typically atmospheric pressure is used)\n",
    "* $\\rho$ -- density of fluid\n",
    "* $g$ -- magnitude of acceleration due to gravity (9.81 m/s$^2$ on Earth's surface)\n",
    "* $h$ -- depth below the surface of the fluid\n",
    "                                                   \n",
    "(DO A BETTER JOB OF SAYING THIS IS SPECIFIC FOR ONE FLUID, AND TALK ABOUT GENERAL CASE)"
   ]
  },
  {
   "cell_type": "code",
   "execution_count": null,
   "metadata": {},
   "outputs": [],
   "source": [
    "from IPython.display import IFrame\n",
    "\n",
    "IFrame(src=\"https://phet.colorado.edu/sims/html/under-pressure/latest/under-pressure_en.html\", width=\"600\", height=\"400\")"
   ]
  },
  {
   "cell_type": "markdown",
   "metadata": {},
   "source": [
    "> **Problem:** The figure below shows four identical boxes held stationary in a pool of water.  Which choice below correctly ranks the fluid pressure on the bottom of each block, from greatest to least?\n",
    ">\n",
    "> ![](../img/INT_AY20_MP2_L07_Fig02-Rank_the_boxes_small.png)\n",
    "\n",
    "> **Problem:** A swimmer starts at the surface of the ocean and descends 30.0 feet. What is the total pressure 30.0 feet below the surface of the ocean (in atm)? Assume the density of sea water is 1025 kg/m$^3$.\n",
    "\n",
    "> **Problem:** The *Titanic* was found in 1985 lying on the bottom of the North Atlantic at a depth of 2.50 miles. What is the total pressure at this depth? Note: $\\rho = 1025$ kg/m$^3$.\n",
    ">\n",
    "> ![RMS Titanic departing Southampton on April 10, 1912 ([source](https://commons.wikimedia.org/wiki/File:RMS_Titanic_3.jpg))](../img/RMS_Titanic.png)\n",
    "\n",
    "> **Problem:** Water in the lake behind Hoover Dam is 221 m deep. What is the *water pressure* (aka gauge pressure) at the base of the dam?\n",
    ">\n",
    "> ![Hoover dam seen from the air ([source](https://commons.wikimedia.org/wiki/File:Hoover_dam_from_air.jpg))](../img/Hoover_dam.png)\n",
    "\n",
    "> **Problem:** The Mariana Trench is located in the Pacific Ocean at a depth of about 11.7 km below the surface of the water. The density of sea water is 1025 kg/m$^3$. If an underwater vehicle were to explore such a depth, what force (in MN) would the water exert on the vehicle's observation window, with a radius of 13.0 cm?\n",
    ">\n",
    "> ![The U.S. Navy bathyscaphe *Trieste*, just before her record dive to the bottom of the Marianas Trench, 23 January 1960. The waves were were about 1,5 to 1,8 m high when scientist Jacques Piccard and Lt. Don Walsh, USN, and Piccard boarded from the rubber raft attached to the bathyscaphe. The destroyer escort USS *Lewis* (DE-535) is steaming by in the background. ([source](https://commons.wikimedia.org/wiki/File:Hoover_dam_from_air.jpg))](../img/Bathyscaphe_Trieste.png)"
   ]
  },
  {
   "cell_type": "markdown",
   "metadata": {},
   "source": [
    "# Pascal's principle\n",
    "\n",
    "An external pressure applied to an enclosed fluid is transmitted unchanged to every point in the fluid. Pressure of the enclosed fluid at one vertical height is the same pressure at a different point with the same vertical height.\n",
    "\n",
    "![Pascal's principle says the pressure throughout the pool changes due to an external change in pressure](../img/INT_AY20_MP2_L06_Fig05-Diver_in_pool.png)\n",
    "\n",
    "> **Problem:** If the density of oil is 800. kg/m$^3$, what is the height $h$ (in cm) of the column of oil shown to the right?\n",
    ">\n",
    ">\n",
    "> ![U-tube filled with water](../img/INT_AY20_MP2_L07_Fig03-U_tube_small.png)\n",
    "\n",
    "> **Problem:** A U-shaped tube is filled mostly with fresh water, but a small amount of vegetable oil has been added to both sides. Calculate the density of the oil in kg/m$^3$, using the distances $h_1 = 4.00$ cm, $h_2 = 9.00$ cm, and $h_3 = 3.00$ cm.\n",
    ">\n",
    ">\n",
    "> ![U-tube filled with water and vegetable oil](../img/INT_AY20_MP2_L07_Fig04-U_tube_small.png)\n",
    "\n",
    "Torpedoes do not sink ships by holing their hulls, but instead are fired underneath the keel of the target. When the torpedo detonates, it creates a pressure wave, which forms the boundary of a steam bubble, lifting the hull and weakening the keel. The steam bubble quickly collapses, dropping the ship downward and breaking the keel. For more information, see the chapter [Underwater Weapons](https://fas.org/man/dod-101/navy/docs/es310/uw_wpns/uw_wpns.htm) at the on-line [Introduction to Naval Weapons](http://fas.org/man/dod-101/navy/docs/es310/syllabus.htm).\n",
    "\n",
    "![How a torpedo breaks a ship's keel](../img/INT_AY20_MP2_L06_Fig06-Torpedo_effect_on_ship.png)\n",
    "\n",
    "In June 1999, the Australian submarine HMAS Farncomb conducted a live-fire sinking exercise against the former HMAS Torrens, a destroyer escort. The video linked in the cell below clearly shows the intended effects of a torpedo on a target ship."
   ]
  },
  {
   "cell_type": "code",
   "execution_count": null,
   "metadata": {},
   "outputs": [],
   "source": [
    "from IPython.display import VimeoVideo\n",
    "\n",
    "VimeoVideo(130514745, width=600, height=400, muted=1)"
   ]
  },
  {
   "cell_type": "markdown",
   "metadata": {},
   "source": [
    "# Buoyancy\n",
    "\n",
    "## Archimedes and the King\n",
    "\n",
    "* Archimedes was a relative of the King of Syracuse, Hieron\n",
    "* Hieron had ordered a gold crown, but suspected he had been cheated\n",
    "* Hieron asked Archimedes to figure out the truth!\n",
    "\n",
    "![A golden laurel wreath from the Hellenstic Era ([source](https://commons.wikimedia.org/wiki/File:Golden_laurel_wreath_T_HL_04_Kerameikos_Athens.png))](../img/Wreath.png)\n",
    "\n",
    "This example is taken from the [Archimedes site](https://www.cs.drexel.edu/~crorres/Archimedes/contents.html)\n",
    "\n",
    "When you place an object in a fluid, it will displace a volume of fluid equal to the volume of the object in the fluid\n",
    "$$\n",
    "    V_{obj.\\ in\\ fluid} = V_{displ.\\ fluid}\n",
    "$$\n",
    "\n",
    "![Block displacing fluid when it is immersed in the fluid](../img/INT_AY20_MP2_L08_Fig01-Block_displacing_fluid_small.png)\n",
    "\n",
    "Fluid is pushed away by the object, so there is a rise in the level of the fluid (only due to object's volume beneath the \"water line\")\n",
    "\n",
    "> **Problem:** A wooden block and a beaker of water are placed side-by-side on a scale, which reads weight $F_{g, A}$. The block is then placed into the water, where it floats, and the scale reads $F_{g, B}$; no water spills out of the beaker. How do the two scale readings compare?\n",
    ">\n",
    "> 1. $F_{g, A} > F_{g, B}$\n",
    "> 1. $F_{g, A} = F_{g, B}$\n",
    "> 1. $F_{g, A} < F_{g, B}$\n",
    "> 1. Cannot tell without the *density* of the block\n",
    "> 1. Cannot tell without the *volume* of the block\n",
    "\n",
    "![Comparing the mass of the crown to that of a piece of gold in *air* ([source](https://www.math.nyu.edu/~crorres/Archimedes/Crown/CrownIntro.html))](../img/crown-air.png)\n",
    "\n",
    "Find a piece of gold that has the same weight as the crown...\n",
    "\n",
    "![Comparing the mass of the crown to that of a piece of gold in *water* ([source](https://www.math.nyu.edu/~crorres/Archimedes/Crown/CrownIntro.html))](../img/crown-water.png)\n",
    "\n",
    "...and then submerge them in water. If the balance tilts, the crown and the gold have different volumes - the crown has the wrong density!"
   ]
  },
  {
   "cell_type": "markdown",
   "metadata": {},
   "source": [
    "\n",
    "\n",
    "## Archimedes' principle\n",
    "\n",
    "When you place an object in a fluid, a buoyant force equal to the weight of the displaced fluid acts upward on the object.\n",
    "\n",
    "![Forces acting on a completely submerged object](../img/INT_AY20_MP2_L08_Fig02-Immersed_block_with_forces_small.png)\n",
    "\n",
    "The buoyant force $F_b$ is due to the difference in the forces on the top and bottom of the object (see slides on pressure and Section 15-4 in textbook),\n",
    "\n",
    "$$\n",
    "\tF_b = F_{bottom} - F_{top}\n",
    "$$\n",
    "\n",
    "which can be rewritten as\n",
    "\n",
    "$$\n",
    "    F_b = F_{g, displ.\\ fluid} = \\rho_{fl} g V_{sub}\n",
    "$$\n",
    "\n",
    ">**Archimedes' principle:** An object immersed (either completely or partially) in a fluid experiences an upward buoyant force equal in magnitude to the weight of fluid displaced by the object.\n",
    "\n",
    "Buoyant force $F_b = \\rho_{fl} g V_{sub}$, where\n",
    "\n",
    "* $\\rho_{fl}$ is the density of the fluid the object is immersed in\n",
    "* $g$ is the magnitude of the acceleration due to gravity\n",
    "* $V_{sub}$ is that portion of the object's volume that is immersed in the fluid (which can be the whole volume if the object is completely submerged)\n",
    "\n",
    "If the density of the object is greater than the density of the fluid, then the object will sink.\n",
    "\n",
    "> **Problem:** Imagine holding two identical bricks in place under water. Brick 1 is just beneath the surface of the water, while brick 2 is held about two feet down. The force needed to hold brick 2 in place is <u>&emsp;&emsp;&emsp;</u> the force for brick 1.\n",
    ">\n",
    "> 1. greater than\n",
    "> 1. less than\n",
    "> 1. equal to\n",
    ">\n",
    ">![Two immersed blocks](../img/INT_AY20_MP2_L08_Fig03-Two_immersed_blocks_small.png)\n",
    "\n",
    "> **Problem:**\n",
    "> * Suppose the crown is measured to have a weight in air of 7.84 N and an apparent weight in water of 6.86 N. What is the mass of the crown?\n",
    "> * What is the magnitude of the buoyant force on the crown in the water? The buoyant force acts upward in the water, reducing the true weight to an \"apparent weight\".\n",
    "> * What is the volume of the crown? Fresh water has a density of 1000 kg/m$^3$. Use Archimedes' principle, finding the volume by computing how much volume of water weighs the same as the buoyant force.\n",
    "> * What is the density of the crown? Compare to solid gold with a density of 19,300 kg/m$^3$. Using the mass and volume of the crown which we found before, we can compute its density."
   ]
  },
  {
   "cell_type": "markdown",
   "metadata": {},
   "source": [
    "\n",
    "\n",
    "## Floating objects\n",
    "\n",
    "![Forces acting on a floating object](../img/INT_AY20_MP2_L08_Fig04_Floating_block_small.png)\n",
    "\n",
    "* The floating object is in equilibrium, so forces balance:\n",
    "\n",
    "$$\n",
    "    F_b = F_{g, obj.}\n",
    "$$\n",
    "\n",
    "* By Archimedes' principle, the buoyant force is equal to the weight of the displaced fluid:\n",
    "\n",
    "$$\n",
    "    F_b = F_{g, fluid}\n",
    "$$\n",
    "\n",
    "* Putting these equations together gives for a {\\bf floating} object that\n",
    "\n",
    "$$\n",
    "    F_{g, obj} = F_{g, fluid}\n",
    "$$\n",
    "\n",
    "> **Problem:** Two identical blocks are floating in two separate aquariums. Aquarium A is filled with alcohol ($\\rho$ = 789 kg/m$^3$), while aquarium B is filled with pure water. Which has the greater buoyant force acting on it?\n",
    ">\n",
    "> 1. The block floating in alcohol\n",
    "> 1. The block floating in pure water\n",
    "> 1. They both have the same buoyant force\n",
    "> 1. Cannot determine without the density of the blocks\n",
    "\n",
    "![The *Occitania* and a 2,500-ton barge carrying a load of coal destined for a thermal power plant ([source](https://commons.wikimedia.org/wiki/File:Barge_%C3%A0_charbon.jpg))](../img/Barge.png)\n",
    "\n",
    "> **Problem:** You are shopping online for a new barge at [McDonough Marine Services](http://www.mcdonoughmarine.com/ocean-barges.html), and settle on a 140' $\\times$ 40' $\\times$ 9' 6'' size barge. Below is given the data for the *loadline* and *freeboard* loading for the barge:\n",
    ">\n",
    "> <table>\n",
    "> <tr>\n",
    ">     <th></th>\n",
    ">     <th colspan = \"4\">Metric ton cargo at freeboards of</th>\n",
    "> </th>\n",
    "> <tr>\n",
    ">     <th>Cargo at loadline (mt)</th>\n",
    ">     <th>3'</th>\n",
    ">     <th>4'</th>\n",
    ">     <th>5'</th>\n",
    ">     <th>6'</th>\n",
    "> </tr>\n",
    "> <tr>\n",
    ">     <td>965</td>\n",
    ">     <td>820</td>\n",
    ">     <td>660</td>\n",
    ">     <td>550</td>\n",
    ">     <td>340</td>\n",
    "> </tr>\n",
    "> </table>\n",
    "> \n",
    "> The **freeboard** is the distance from the deck of the barge down to the water line. The **loadline** is the freeboard when the maximum safe cargo is placed on the barge, so that it is the highest water line for safe operations. A **metric ton** (mt) is 1000 kg.\n",
    "> \n",
    "> * What is the mass of the barge in metric tons? Use a density of 1010 kg/m$^3$ for water.\n",
    "> * Where is the loadline located on the barge? Give the distance in cm from the barge deck.\n",
    "\n",
    "![An iceberg in the Arctic Ocean ([source](https://commons.wikimedia.org/wiki/File:Iceberg_in_the_Arctic_with_its_underside_exposed.jpg))](../img/Iceberg.png)\n",
    "\n",
    "> **Problem:** An iceberg has a density of 917 kg / m$^3$ and is floating in sea water ($\\rho = 1025$ kg / m$^3$). What fraction $V_{sub} / V_{tot}$ of the iceberg is submerged in the sea water?\n",
    "\n",
    "![Object floating in water](../img/INT_AY20_MP2_L08_Fig05-Floating_block_small.png)\n",
    "\n",
    "> **Problem:** An object floats in water with 3/4 of its volume submerged. What is the ratio of the density of the object to that of water?\n",
    "\n",
    "![Object floating in oil](../img/INT_AY20_MP2_L08_Fig06-Floating_block_small.png)\n",
    "\n",
    "> **Problem:** The same object from the previous question is now placed in **oil** with a density half that of water. What happens?"
   ]
  },
  {
   "cell_type": "markdown",
   "metadata": {},
   "source": [
    "## Ship stability\n",
    "\n",
    "Put in something here about center of buoyancy versus center of gravity, and how to ensure that a ship is stable to \"heeling\"."
   ]
  },
  {
   "cell_type": "markdown",
   "metadata": {},
   "source": [
    "# Summary\n",
    "\n",
    "* Define pressure, and identify its units (SI and otherwise).\n",
    "* Use the definition of pressure to find an unknown force or area.\n",
    "* Define atmospheric and gauge pressures.\n",
    "* Find the pressure on an object at a certain depth inside of a fluid\n",
    "* Use Pascal's principle and the relation for pressure at a given depth in a fluid to find the height or density of a fluid in a U-tube.\n",
    "* Describe the relationship between the portion of an object's volume in a fluid, and the amount of fluid displaced by that object.\n",
    "* State Archimedes' principle.\n",
    "* Use Archimedes' principle to find the amount of an object that is immersed in a fluid."
   ]
  }
 ],
 "metadata": {
  "kernelspec": {
   "display_name": "Python 3",
   "language": "python",
   "name": "python3"
  },
  "language_info": {
   "codemirror_mode": {
    "name": "ipython",
    "version": 3
   },
   "file_extension": ".py",
   "mimetype": "text/x-python",
   "name": "python",
   "nbconvert_exporter": "python",
   "pygments_lexer": "ipython3",
   "version": "3.7.1"
  },
  "toc": {
   "base_numbering": 1,
   "nav_menu": {},
   "number_sections": true,
   "sideBar": true,
   "skip_h1_title": false,
   "title_cell": "Table of Contents",
   "title_sidebar": "Contents",
   "toc_cell": false,
   "toc_position": {},
   "toc_section_display": true,
   "toc_window_display": false
  }
 },
 "nbformat": 4,
 "nbformat_minor": 2
}
