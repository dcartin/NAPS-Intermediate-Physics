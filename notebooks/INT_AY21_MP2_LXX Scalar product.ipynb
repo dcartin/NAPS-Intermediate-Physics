{
 "cells": [
  {
   "cell_type": "markdown",
   "metadata": {
    "slideshow": {
     "slide_type": "slide"
    }
   },
   "source": [
    "# Objectives\n",
    "\n",
    "* Calculate the scalar product of two vectors.\n",
    "* Given a vector ${\\vec V}$, find a second vector that is perpendicular to ${\\vec V}$.\n",
    "* Given a vector ${\\vec V}$ and a set of vector equations, find the equation for the components parallel to ${\\vec V}$, and the equation for the components perpendicular to ${\\vec V}$.\n",
    "* Use the vPython modules `sin`, `cos`, and `radians` to calculate the value of the trigonometric functions for an angle given in degrees."
   ]
  },
  {
   "cell_type": "markdown",
   "metadata": {
    "slideshow": {
     "slide_type": "slide"
    }
   },
   "source": [
    "# Scalar product\n",
    "\n",
    "## A new mathematical concept\n",
    "\n",
    "As we have seen in physics class, there are several times where mathematical tools are necessary to properly explain and understand physics concepts. For example, so far, you have seen trigonometry and vectors. These have helped us describe the motion of projectiles, see what happens when objects collide, and understand how moving objects appear to one another.\n",
    "\n",
    "Focusing on vectors, up to this point, you have seen how to add and subtract vectors (*vector addition*) and to make them bigger or smaller in size (*scalar multiplication*), possibly flipping their direction 180$^\\circ$ at the same time. Is there anything else we can do with vectors?\n",
    "\n",
    "It turns out that, given two vectors, there are two other mathematical operations we will see in this course. The first is called the **scalar product** (although often I will say \"dot product\", because of the symbol used!), which takes two vectors ${\\vec A}, {\\vec B}$ and outputs a scalar ${\\vec A} \\cdot {\\vec B}$.\n",
    "\n",
    "> **Important:** The scalar product gives you a *scalar*, not a vector!\n",
    "\n",
    "As with all math ideas we use in this course, the scalar product is helpful in summing up an important physical idea:\n",
    "\n",
    "> The scalar product ${\\vec A} \\cdot {\\vec B}$ depends on the size $A$ and $B$ of the two vectors, and the angle $\\theta$ between them.\n",
    "\n",
    "This will be useful for:\n",
    "\t\t\n",
    "* given a vector ${\\vec V}$, find a second vector that is perpendicular to ${\\vec V}$</li>\n",
    "* given a vector ${\\vec V}$ and vector equation, find the components of that equation parallel to ${\\vec V}$ (we have already done this secretly!)\n",
    "\n",
    "You will see at different points that this gives you important information about the physics in a particular situation. In the next lesson after this one, we will use the scalar product to find the motion of a block along a ramp (or *inclined plane*) by separating the forces that are parallel and perpendicular to the incline. Later on, you will see the scalar product when we find the *work* done on an object by a force; this will be the first step in finding the mechanical energy of the object as it moves along.\n",
    "\t\t\n",
    "There is a second operation, we will see the **vector product** (or \"cross product\", again from the sign used to denote the operation), which takes two vectors and outputs a third vector that is perpendicular to the first two."
   ]
  },
  {
   "cell_type": "markdown",
   "metadata": {
    "slideshow": {
     "slide_type": "slide"
    }
   },
   "source": [
    "## Definition of scalar product\n",
    "\n",
    "The easiest way to define what the scalar product does to the two vectors involved is to see what it does to the unit vectors ${\\hat x}, {\\hat y},$ and ${\\hat z}$ that point along each of the three axes. Remember that any vector in three-dimensional space can be written as the *vector* sum of scalar multiples of these vectors. It will be easy to see this, since the scalar product is defined so that it \"strips off\" the components of the vector. For example, if you have an arbitrary vector ${\\vec A}$, then it can be written as the vector sum\n",
    "\n",
    "$$\n",
    "    {\\vec A} = A_x {\\hat x} + A_y {\\hat y} + A_z {\\hat z}\n",
    "$$\n",
    "\n",
    "where $A_x, A_y,$ and $A_z$ are its three components. If we take the scalar product of this vector with the unit vector ${\\hat x}$, say, then the resulting scalar is just the $x$ component of the vector!\n",
    "\n",
    "$$\n",
    "    A_x = {\\vec A} \\cdot {\\hat x} = {\\hat x} \\cdot {\\vec A}\n",
    "$$\n",
    "\n",
    "The same would hold true for the other two components -- the scalar product ${\\vec A} \\cdot {\\hat y}$ would give the $y$ component $A_y$, for example. Note that it does not matter in which order you write the vectors; this is important to remember, since when we get to the vector product later in the class, this will not be true!\n",
    "\n",
    "So what definition is necessary in order for this to happen? Again, the idea is that the scalar product with a unit vector is \"stripping off\" the piece of the other vector in that direction. In other words, only the part of the vector ${\\vec A}$ that is *parallel* to the unit vector remains. A little bit of thought leads to the following definition:\n",
    "\t\t\n",
    "$$\n",
    "    {\\hat x} \\cdot {\\hat x} = {\\hat y} \\cdot {\\hat y} = {\\hat z} \\cdot {\\hat z} = 1\n",
    "$$\n",
    "\t\t\n",
    "The unit vectors ${\\hat x}, {\\hat y}$ and ${\\hat z}$ are all perpendicular to each other -- each of the three has no component along the other two -- so that\n",
    "\t\t\n",
    "$$\n",
    "    {\\hat x} \\cdot {\\hat y} = {\\hat x} \\cdot {\\hat z} = {\\hat y} \\cdot {\\hat z} = 0\n",
    "$$\n",
    "\t\t\n",
    "These relations define the scalar product. The scalar product of two generic vectors can be found from these. For example, by using distribution,\n",
    "\n",
    "$$\n",
    "\t{\\vec C} \\cdot {\\vec D} = (C_x {\\hat x} + C_y {\\hat y} + C_z {\\hat z}) \\cdot (D_x {\\hat x} + D_y {\\hat y} + D_z {\\hat z}) = C_x D_x + C_y D_y + C_z D_z\n",
    "$$\n",
    "\n",
    "> **Problem:** Find the scalar product of the two vectors ${\\vec F} = -3 {\\hat x} + 5 {\\hat y} + 6 {\\hat z}$ and ${\\vec G} = -2 {\\hat x} + 4 {\\hat y}  - {\\hat z}$.  \n",
    "\n",
    "> **Problem:** Can the scalar product ever be negative? Zero? See if you can find two vectors ${\\vec G}$ and ${\\vec H}$ that have ${\\vec G} \\cdot {\\vec H} < 0$, or ${\\vec G} \\cdot {\\vec H} = 0$."
   ]
  },
  {
   "cell_type": "markdown",
   "metadata": {
    "slideshow": {
     "slide_type": "slide"
    }
   },
   "source": [
    "## The scalar product in vPython\n",
    "\n",
    "You can easily calculate the scalar product of two vectors in vPython. First, you need to import the module `dot` (along with the module `vector`, so you have vectors to use!)."
   ]
  },
  {
   "cell_type": "code",
   "execution_count": null,
   "metadata": {
    "slideshow": {
     "slide_type": "fragment"
    }
   },
   "outputs": [],
   "source": [
    "from vpython import dot, vector"
   ]
  },
  {
   "cell_type": "markdown",
   "metadata": {
    "slideshow": {
     "slide_type": "slide"
    }
   },
   "source": [
    "Then, you can simply write `dot(Avec, Bvec)` for previously defined vectors `Avec` and `Bvec`. An example is shown below."
   ]
  },
  {
   "cell_type": "code",
   "execution_count": null,
   "metadata": {
    "slideshow": {
     "slide_type": "fragment"
    }
   },
   "outputs": [],
   "source": [
    "Avec = vector(2, 1, 0)\n",
    "Bvec = vector(-1, 3, 0)\n",
    "dot(Avec, Bvec)"
   ]
  },
  {
   "cell_type": "markdown",
   "metadata": {
    "slideshow": {
     "slide_type": "slide"
    }
   },
   "source": [
    "Trying changing the size and direction of the vectors, and see how it affects the scalar product of the two."
   ]
  },
  {
   "cell_type": "code",
   "execution_count": null,
   "metadata": {
    "slideshow": {
     "slide_type": "fragment"
    }
   },
   "outputs": [],
   "source": [
    "from vpython import arrow, canvas, color"
   ]
  },
  {
   "cell_type": "markdown",
   "metadata": {},
   "source": [
    "Now we define a new canvas, and draw arrows to represent the two vectors we defined above."
   ]
  },
  {
   "cell_type": "code",
   "execution_count": null,
   "metadata": {
    "scrolled": false,
    "slideshow": {
     "slide_type": "fragment"
    }
   },
   "outputs": [],
   "source": [
    "canvas()\n",
    "\n",
    "Aarr = arrow(pos = vector(0, 0, 0), axis = Avec, color = color.red, \\\n",
    "             shaftwidth = 0.1)\n",
    "Barr = arrow(pos = vector(0, 0, 0), axis = Bvec, color = color.blue, \\\n",
    "             shaftwidth = 0.1)"
   ]
  },
  {
   "cell_type": "markdown",
   "metadata": {},
   "source": [
    "> **Problem:** Change the vectors `A` and `B` to have the vector components you found for the last problem, where the scalar product was negative or zero. What is true about those vectors?"
   ]
  },
  {
   "cell_type": "markdown",
   "metadata": {
    "slideshow": {
     "slide_type": "slide"
    }
   },
   "source": [
    "## Geometry of the scalar product\n",
    "\n",
    "As you remember from previously in the class, there are two ways to describe a vector: either in terms of its components (which we just saw above), or in terms of a magnitude and direction. We will now define two vectors using the latter method, and build up more intuition about the scalar product.\n",
    "\n",
    "First, we need to import three new modules in vPython. Run the next cell to import the modules `cos`, `sin`, and `radians`. These are described below.\n",
    "\n",
    "* **sin** and **cos:** These modules allow you to calculate the sine and cosine of an angle.\n",
    "* **radians:** However, to use `sin` and `cos` in vPython, the units of the angle are not in degrees, but in *radians*. The $360^\\circ$ in a complete circle are the same as $2 \\pi$ radians. This means that there is a conversion factor of $2 \\pi / 360^\\circ = \\pi / 180^\\circ$ between degrees and radians -- for example, $30^\\circ$ is the same as $30^\\circ (\\pi / 180^\\circ) = \\pi / 6$ radians. The `radians` module converts from degrees to radians for you, so you do not have to do it yourself. Thus, if you have an angle `Q` in degrees, then `radians(Q)` will give you the same angle in radians. We will talk more about radians in class when we cover rotational motion."
   ]
  },
  {
   "cell_type": "code",
   "execution_count": null,
   "metadata": {},
   "outputs": [],
   "source": [
    "from vpython import cos, sin, radians"
   ]
  },
  {
   "cell_type": "markdown",
   "metadata": {},
   "source": [
    "Now, we can define vectors in terms of their magnitudes and angle. We will stick to the $x-y$ plane so it does not get too complicated. This means that the only two vector components will be the $x$ and $y$ components of the vector, while the $z$ component will be zero. In this case, a vector ${\\vec V}$ with magnitude $V$ (the variable `V` in Python) and angle $\\theta$ (given in Python by `Q`) would be defined as\n",
    "\n",
    "```python\n",
    "V = vector(V * cos(Q), V * sin(Q), 0)\n",
    "```\n",
    "\n",
    "Remember that the variable `Q` will be between zero and $2 \\pi$ radians, while the magnitude `V` must be positive!\n",
    "\n",
    "In the cell below, two magnitudes `R` and `S` are given, along with the angles `Q_R` and `Q_S` in radians. Define the vectors `Rvec` and `Svec` in vPython, and then run the cell to calculate their scalar product. You should get a value of about 6.47 for your answer."
   ]
  },
  {
   "cell_type": "code",
   "execution_count": null,
   "metadata": {},
   "outputs": [],
   "source": [
    "R = 5\n",
    "S = 3\n",
    "Q_R = 1.5\n",
    "Q_S = 2.7\n",
    "\n",
    "Rvec = ### Define the vector R\n",
    "Svec = ### Define the vector S\n",
    "\n",
    "dot(Rvec, Svec)"
   ]
  },
  {
   "cell_type": "markdown",
   "metadata": {},
   "source": [
    "> **Problem:** Keep the angles the same, and change the magnitude of one of the two vectors. What happens to the scalar product? Does the scalar product ever become zero? Negative?  \n",
    "\n",
    "> **Problem:** Now put the magnitudes back to their original values of $R = 5$ and $S = 3$, and change the angle of one of the two vectors. What happens to the scalar product now?  Does the scalar product ever become zero? Negative? If you want, you can import the vPython module `pi` if you want to define your angles using a multiple of $\\pi$.\n",
    "\n",
    "Hopefully you have found that changing the magnitudes of the vectors only changes the *size* of the scalar product -- the sign stays the same. However, if you change the angles, you can change *both* the size and the sign of the scalar product. What is going on?\n",
    "\n",
    "The picture below helps us understand the scalar product of two vectors ${\\vec A} \\cdot {\\vec B}$.\n",
    "\n",
    "![Finding the scalar product of two vectors](../img/INT_AY20_MP2_L15_Fig01a_small.png)\n",
    "\n",
    "For this illustration, we have done the following (much like what you just did in vPython!):\n",
    "\n",
    "* Choose the $+x$ axis so that it points along the first vector ${\\vec A}$, and the $+y$ axis so that the second vector ${\\vec B}$ is in the $x-y$ plane.\n",
    "* This means that ${\\vec A} = A {\\hat x}$ and ${\\vec B} = (B \\cos \\theta) {\\hat x} + (B \\sin \\theta) {\\hat y}$.\n",
    "* Using the rule for the scalar product, ${\\vec A} \\cdot {\\vec B} = AB \\cos \\theta$.\n",
    "\n",
    "Thus, as we said at the beginning, the scalar product depends on the magnitudes $A$ and $B$ of the two vectors, as well as the angle $\\theta$ between them. If you made your two vectors above have a negative scalar product, it was because $\\cos \\theta < 0$, while $\\cos \\theta = 0$ gives a zero scalar product.\n",
    "\n",
    "> **Problem:** What range of angles $\\theta$ gives you $\\cos \\theta < 0$? What angles give you $\\cos \\theta = 0$? How would you describe the relative orientations of these vectors in each of those two situations?  \n",
    "\n",
    "> **Problem:** Using the picture below, how does the value ${\\vec A} \\cdot {\\vec B}$ change does the angle $\\theta$ increases in size?\n",
    ">\n",
    "> ![Changing the angle $\\theta$ between two vectors](../img/INT_AY20_MP2_L01_Fig04_small.png)\n",
    ">\n",
    "> 1. The value decreases in size.\n",
    "> 1. The value increases in size.\n",
    "> 1. The value stays the same.  \n",
    "\n",
    "> **Problem:** Rank the pictures shown according to the size of the value ${\\vec A} \\cdot {\\vec B}$. Assume that all vectors have the same magnitude. Give your answer using the \"$<$\" and \"$=$\" signs, and the letters for each choice. For example, a possible answer would be \"$A = B < C < D$\".\n",
    ">\n",
    "> ![Changing the angle $\\theta$ between two vectors](../img/INT_AY20_MP2_L01_Fig05_small.png)\n",
    "\n",
    "> **Problem:** Suppose you are given a vector ${\\vec A} = 4 {\\hat x} - 7 {\\hat y}$, shown in the diagram below.\n",
    ">\n",
    "> ![Finding a vector perpendicular to a given vector](../img/INT_AY20_MP2_L01_Fig01a_small.png) \n",
    ">\n",
    "> * **Review:** Find the unit vector ${\\hat A}$ in the same direction as ${\\vec A}$.\n",
    ">\t\t\n",
    "> * Suppose you want to find a second vector ${\\vec B} = B_x {\\hat x} + B_y {\\hat y}$ that is perpendicular to ${\\vec A}$. What equation must be true for the two components $B_x$ and $B_y$?\n",
    ">\t\t\n",
    "> * Using this equation, find a unit vector ${\\hat B}$ in the first quadrant that has unit magnitude and is perpendicular to ${\\vec A}$.\n",
    "\n",
    "> **Problem:** Above, you were given two vectors ${\\vec F} = -3 {\\hat x} + 5 {\\hat y} + 6 {\\hat z}$ and ${\\vec G} = -2 {\\hat x} + 4 {\\hat y}  - {\\hat z}$. What is the angle between these two vectors?"
   ]
  },
  {
   "cell_type": "markdown",
   "metadata": {},
   "source": [
    "## Isn't this just \"vector multiplication\"?\n",
    "\n",
    "One question I get asked a lot is whether this is all just \"multiplying\" vectors. To answer that, let's think about what multiplication means. Here are two perspectives:\n",
    "\n",
    "* The simplest way to understand multiplication is to combine groups of objects. If I have two baskets, and each basket has three oranges in it, then I have $(2)(3) = 6$ oranges total. In other words, the total number of oranges is twice as big as the amount in each basket.\n",
    "* Another way of thinking about multiplication is as the inverse of division. To say that $(2)(3) = 6$ means that I can divide 6 into two groups of three ($6 / 2 = 3$), or I can also divide it into three groups of two ($6 / 3 = 2)$.\n",
    "\n",
    "Now we return to vectors. First, when I think of \"making a vector bigger\", what am I saying? If I have a vector ${\\vec V}$, and make it twice as big, I can imagine this means making the magnitude $V$ twice as big. But this is the idea behind *scalar multiplication*, where we multiply each component of the vector by the same scalar. I could also imagine that I \"make the angle bigger\", but that quickly leads to weird thinking -- if an acceleration vector has a magnitude of 3.00 m/s$^2$ at 40.0$^\\circ$ west of south, and I triple it, is the new vector now at 120$^\\circ$ west of south? What does that mean? (It might help to try and draw a picture, to see that this description of an angle is not useful!)\n",
    "\n",
    "If I turn to division, what does it mean to divide a vector by another? If I wanted to \"divide\" the vector ${\\vec A}$ by the vector ${\\vec B}$, I could guess that I divide the components of ${\\vec A}$ by those of ${\\vec B}$. But what if one of the components of ${\\vec A}$ is zero? Or of ${\\vec B}$? Do I get a unique answer for this division, or are there multiple possibilities?\n",
    "\n",
    "This is why the scalar product defined here is different than ordinary multiplication of numbers. We have seen that there are vectors whose scalar product is zero -- those vectors must be perpendicular to each other. But we can't imagine \"undoing\" the scalar product (as division \"undoes\" multiplication) in a case like that. It is not helpful to think of the scalar product as \"multiplying vectors\", it is something different!"
   ]
  }
 ],
 "metadata": {
  "kernelspec": {
   "display_name": "Python 3",
   "language": "python",
   "name": "python3"
  },
  "language_info": {
   "codemirror_mode": {
    "name": "ipython",
    "version": 3
   },
   "file_extension": ".py",
   "mimetype": "text/x-python",
   "name": "python",
   "nbconvert_exporter": "python",
   "pygments_lexer": "ipython3",
   "version": "3.7.1"
  },
  "toc": {
   "base_numbering": 1,
   "nav_menu": {},
   "number_sections": true,
   "sideBar": true,
   "skip_h1_title": false,
   "title_cell": "Table of Contents",
   "title_sidebar": "Contents",
   "toc_cell": false,
   "toc_position": {},
   "toc_section_display": true,
   "toc_window_display": false
  }
 },
 "nbformat": 4,
 "nbformat_minor": 2
}
