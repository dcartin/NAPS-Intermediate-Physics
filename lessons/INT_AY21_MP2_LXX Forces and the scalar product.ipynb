{
 "cells": [
  {
   "cell_type": "markdown",
   "metadata": {},
   "source": [
    "# Objectives\n",
    "\n",
    "* NEED NEW OBJECTIVES HERE"
   ]
  },
  {
   "cell_type": "markdown",
   "metadata": {},
   "source": [
    "# Inclined planes\n",
    "\n",
    "## Setting up coordinate system\n",
    "\n",
    "Suppose we have a crate sliding on a frictionless surface, with an applied force acting at an angle, as shown in the diagram below.\n",
    "\n",
    "<img src=\"img/INT_AY20_MP2_L01_Fig02.png\" width = \"200\">\n",
    "\n",
    "The net force equation, as a vector equation, is given by\n",
    "\n",
    "$$\n",
    "    {\\vec F} = {\\vec F}_N + {\\vec F}_g + {\\vec F}_{app}\n",
    "$$\n",
    "\n",
    "where\n",
    "\n",
    "$$\n",
    "    {\\vec F}_N = F_N {\\hat y} \\qquad\n",
    "    {\\vec F}_g = -F_G {\\hat y} \\qquad\n",
    "    {\\vec F}_{app} = (F_app \\cos \\theta) {\\hat x} + (F_{app} \\sin \\theta) {\\hat y}\n",
    "$$\n",
    "\n",
    "Then the usual force component equations can be found using the scalar product:\n",
    "\n",
    "$$\n",
    "    \\sum F_x = \\biggl( \\sum {\\vec F} \\biggr) \\cdot {\\hat x} = F_{app} \\cos \\theta \\qquad\n",
    "    \\sum F_y = \\biggl( \\sum {\\vec F} \\biggr) \\cdot {\\hat y} = F_N - F_g + F_{app} \\sin \\theta\n",
    "$$"
   ]
  },
  {
   "cell_type": "markdown",
   "metadata": {},
   "source": [
    "Now, suppose we look at an object sliding down an inclined plane. There will be three forces acting on the object -- gravity, the normal force, and the force of friction (up the ramp).\n",
    "\n",
    "<img src=\"img/INT_AY20_MP2_L01_Fig03a.png\" width = \"200\"> \n",
    "\n",
    "Two out of three of these forces have components in the $x$ and $y$ directions. In addition, the acceleration would also have both $x$ and $y$ components. This makes things complicated!"
   ]
  },
  {
   "cell_type": "markdown",
   "metadata": {},
   "source": [
    "Instead of ${\\hat x}$ and ${\\hat y}$, it is more useful to define two new unit vectors: a vector that is parallel to the surface of the ramp (${\\hat e}_{||}$) and one that is perpendicular to the ramp (${\\hat e}_\\perp$).\n",
    "\n",
    "<img src=\"img/INT_AY20_MP2_L01_Fig03b.png\" width = \"200\"> \n",
    "\n",
    "What will be the unit vector ${\\hat e}_{||}$ along the ramp? \n",
    "\n",
    "It must have a magnitude of 1, and point at an angle of $\\theta$ above the $+x$ axis (for the picture above).\n",
    "\n",
    "Thus, it must be equal to\n",
    "\n",
    "$$\n",
    "    {\\hat e}_{||} = (\\cos \\theta) {\\hat x} + (\\sin \\theta) {\\hat y}\n",
    "$$\n",
    "\t\n",
    "Can you see what ${\\hat e}_\\perp$ must be equal to?\n",
    "\n",
    "Since ${\\hat e}_{||} \\cdot {\\hat e}_\\perp = 0$, then ${\\hat e}_\\perp = (-\\sin \\theta) {\\hat x} + (\\cos \\theta) {\\hat y}$"
   ]
  },
  {
   "cell_type": "markdown",
   "metadata": {
    "slideshow": {
     "slide_type": "slide"
    }
   },
   "source": [
    "## Newton's 2nd law equations\n",
    "\n",
    "After we discuss the force of friction in Lesson INCLINED PLANES IN VPYTHON LINK, the FBD for an object sliding down an inclined plane will look like that below, with the frictional force as $F_{fr}$.\n",
    "\n",
    "<img src=\"img/INT_AY20_MP2_L01_Fig03c.png\" width = \"300\"> \n",
    "\n",
    "The vector equation for Newton's 2nd law is given by\n",
    "\n",
    "$$\n",
    "\\sum {\\vec F} = {\\vec F}_g + {\\vec F}_{fr} + {\\vec F}_N = m {\\vec a}\n",
    "$$"
   ]
  },
  {
   "cell_type": "markdown",
   "metadata": {},
   "source": [
    "<img src=\"img/INT_AY20_MP2_L01_Fig03c.png\" width = \"300\">\n",
    "\n",
    "Since the acceleration only points down along the ramp -- so ${\\vec a} = (-a) {\\hat e}_{||}$ -- then it will be convenient to use the two equations\n",
    "\n",
    "$$\n",
    "\t\t\\sum {\\vec F}_{||} = \\biggl( \\sum {\\vec F} \\biggr) \\cdot {\\hat e}_{||} \\qquad\n",
    "\t\t\\sum {\\vec F}_\\perp = \\biggl( \\sum {\\vec F} \\biggr) \\cdot {\\hat e}_\\perp\n",
    "$$"
   ]
  },
  {
   "cell_type": "markdown",
   "metadata": {},
   "source": [
    "We can write the three forces in terms of ${\\hat x}$ and ${\\hat y}$ as\n",
    "\\begin{eqnarray*}\n",
    "    {\\vec F}_g &=& (-mg) {\\hat y} \\\\\n",
    "    {\\vec F}_{fr} &=& (F_{fr} \\cos \\theta) {\\hat x} + (F_{fr} \\sin \\theta) {\\hat y} = F_{fr} {\\hat e}_{||} \\\\\n",
    "    {\\vec F}_N &=& (-F_N \\sin \\theta) {\\hat x} + (F_N \\cos \\theta) {\\hat y} = F_N {\\hat e}_\\perp\n",
    "\\end{eqnarray*}\n",
    "Then\n",
    "$$\n",
    "    {\\vec F}_g \\cdot {\\hat e}_{||} = -mg \\sin \\theta \\qquad\n",
    "    {\\vec F}_g \\cdot {\\hat e}_\\perp = -mg \\cos \\theta\n",
    "$$\n",
    "and therefore\n",
    "\\begin{eqnarray*}\n",
    "    \\biggl( \\sum {\\vec F} \\biggr) \\cdot {\\hat e}_{||} &=& -mg \\sin \\theta + F_{fr} = m(-a) \\\\\n",
    "    \\biggl( \\sum {\\vec F} \\biggr) \\cdot {\\hat e}_\\perp &=& -mg \\cos \\theta + F_N = 0\n",
    "\\end{eqnarray*}"
   ]
  },
  {
   "cell_type": "markdown",
   "metadata": {},
   "source": [
    "The following animation shows the gravitational force ${\\vec F}_g$ acting on the block, in terms of its parallel $F_{g,||}$ and perpendicular $F_{g, \\perp}$ components. Note how $F_{g, ||}$ gets larger, and $F_{g, \\perp}$ gets smaller, as the ramp angle $\\theta$ increases.\n",
    "\n",
    "(CREATE ANIMATION OR JS APP?)"
   ]
  }
 ],
 "metadata": {
  "kernelspec": {
   "display_name": "Python 3",
   "language": "python",
   "name": "python3"
  },
  "language_info": {
   "codemirror_mode": {
    "name": "ipython",
    "version": 3
   },
   "file_extension": ".py",
   "mimetype": "text/x-python",
   "name": "python",
   "nbconvert_exporter": "python",
   "pygments_lexer": "ipython3",
   "version": "3.7.1"
  },
  "toc": {
   "base_numbering": 1,
   "nav_menu": {},
   "number_sections": true,
   "sideBar": true,
   "skip_h1_title": false,
   "title_cell": "Table of Contents",
   "title_sidebar": "Contents",
   "toc_cell": false,
   "toc_position": {},
   "toc_section_display": true,
   "toc_window_display": false
  }
 },
 "nbformat": 4,
 "nbformat_minor": 2
}
