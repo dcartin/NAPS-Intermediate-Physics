{
 "cells": [
  {
   "cell_type": "markdown",
   "metadata": {},
   "source": [
    "# Objectives\n",
    "\n",
    "The field of astronomy has the longest history as an observational and mathematical science. Even before written records began, there is evidence that humans were looking upward, as seen in cave paintings and the positioning of physical objects (such as Stonehenge). All the major ancient civilizations -- Mesopotamia, Egypt, India, and China -- have records of astronomical observations. Depending on the time and place, these were used for timekeeping, such as knowing when to plant crops, as well for divination, with the idea that events in the sky predict those on the Earth. These civilizations, to varying degrees, also started to uses mathematics to predict the motions of stars and planets.\n",
    "\n",
    "One of the most developed mathematical models was by Hipparchus of Nicea in the 2nd century BC, based on Babylonian astronomical data and the previous work of Apollonius of Perga about a century before. Hipparchus had to develop what we now know as trigonometry in order to calculate the motion of the Sun and the Moon, as seen from the Earth. His observations were later used by Cladius Ptolemy in the 2nd century AD for his famous astronomical textbook, now known as the *Almagest* from its Arabic translation of the original Greek title.\n",
    "\n",
    "The Ptolemaic system and observations were used for centuries, but eventually two problems developed with them. The first is that it was assumed that the stars are fixed on a \"celestial sphere\", and do not move relative to each other. This is not actually true, and over two thousand years, these slight changes become noticeable. The second is that astronomical observations became more accurate, with the development of better instruments. In particular, inspired by earlier observatories in Baghdad and Istanbul, the Danish nobleman Tycho Brahe built in 1576 a large observatory on the island of Hven (now part of Sweden). His measurements of planetary and stellar positions were the best up to that time, and they showed problems with the mathematical models of the time.\n",
    "\n",
    "![Nicolaus Copernicus ([source](https://commons.wikimedia.org/wiki/File:Nikolaus_Kopernikus.jpg))](../img/Nikolaus_Kopernikus.png)\n",
    "\n",
    "At that time, there were two competing models for the motion of planets in the Solar System. The **geocentric model**, espoused by Claudius Ptolemy and others, placed the Earth at the center, with Sun, Moon, and planets moving in orbits around it. There was also the **heliocentric model**, which moved the Sun to the center, with the Earth in an orbit around it, just like the other planets. The latest version of this had been proposed by Nicolaus Copernicus, using measurements by Greek and Arab astronomers; this is published just before his death in 1543. However, both of these models based their systems on circular orbits. This had been refined, by imagining circles placed on circles, to get more complicated motions. However, even these modifications still predicted slightly different planetary motions than what was observed.\n",
    "\n",
    "![Johannes Kepler ([source](https://commons.wikimedia.org/wiki/File:Johannes_Kepler_1610.jpg#/media/File:Johannes_Kepler_1610.jpg))](../img/Johannes_Kepler.png)\n",
    "\n",
    "Thus, at the turn of the 17th century, there was a conflict between astronomical observations and the mathematical models trying to predict them. This is where Johannes Kepler stepped in, using Brahe's data in an attempt to clarify the situation. His goal was to use some version of the Copernican system for a heliocentric model, and chose the planet Mars to study specifically. In one way, this was a bad choice -- for many years, he made no progress in getting the motion of Mars to match a Copernican model. However, in the end, Mars was the best choice, since it eventually led him to lay down his three laws of planetary motion. These laws, and some of their consequences, are the topic of this lesson.\n",
    "\n",
    "Here are the objectives for this lesson:\n",
    "\n",
    "* State Kepler's three laws of planetary motion.\n",
    "* Identify the conserved quantity associated with Kepler's 2nd law.\n",
    "* Calculate the orbital speed necessary for a small object to orbit another mass at a given radius.\n",
    "* Calculate the period or semi-major axis of an object in an elliptical orbit around a larger object."
   ]
  },
  {
   "cell_type": "markdown",
   "metadata": {},
   "source": [
    "# Kepler's first law of planetary motion\n",
    "\n",
    "You might have an image of the Earth and all the other planets moving in circular orbits, with the Sun sitting at the center. This is actually a fairly good picture -- the Earth's orbit around the Sun, for example, is very close to that of a circle. However, if you start taking accurate measurements, you will eventually see that the orbits of the planets are not exactly circular. This was the first key fact that Kepler discovered, and is encoded in his first law of planetary motion.\n",
    "\n",
    "> Planets move along elliptical orbits, with the Sun at one focus of the ellipse.\n",
    "\n",
    "So what does this mean exactly? First, the orbits are ellipses, rather than circles. You can think of an ellipse as a circle that has been \"squashed\" in one direction, so it is bigger in one direction than it is in the perpendicular direction. Although there is still a central point after this squashing, it turns out there are two special points called **focal points** or **foci** (the plural of **focus**). The sum of the distances from any point on the ellipse to both focal points is always a constant, which you can see in the following video. It also shows the meaning of the term \"major axis\" for the ellipse. The **major axis** of an ellipse is the longest diameter of the ellipse, and passes through both the focal points. The constant sum of distances is just the major axis."
   ]
  },
  {
   "cell_type": "code",
   "execution_count": null,
   "metadata": {},
   "outputs": [],
   "source": [
    "from IPython.display import YouTubeVideo\n",
    "\n",
    "YouTubeVideo('Et3OdzEGX_w', width = 600, height = 400, mute = 1)"
   ]
  },
  {
   "cell_type": "markdown",
   "metadata": {},
   "source": [
    "You can see a simulation of the Earth's motion around the Sun by running the next cell. First, select \"Model\" to see a simplified version of the Earth-Sun system. If you then click on the checkboxes for \"Path\" and \"Grid\", and then press the play button, you can see what the Earth's orbit looks like. The Sun is placed at a grid intersection at the center of the screen. What do you notice about the orbital path of the Earth on the left and right sides? Do these points the same distance away from the Sun?"
   ]
  },
  {
   "cell_type": "code",
   "execution_count": null,
   "metadata": {},
   "outputs": [],
   "source": [
    "from IPython.display import IFrame\n",
    "\n",
    "IFrame(src=\"https://phet.colorado.edu/sims/html/gravity-and-orbits/latest/gravity-and-orbits_en.html\", width=\"600\", height=\"400\")"
   ]
  },
  {
   "cell_type": "markdown",
   "metadata": {},
   "source": [
    "The figure below gives an exaggerated version of the Earth's orbit. The Sun is at one focus of the ellipse.\n",
    "\n",
    "![Definition of the semi-major axis of an ellipse](../img/INT_AY20_MP2_L31_Fig01-Semi-major_axis_def_small.png)\n",
    "\n",
    "You can see that this ellipse is drawn so that it is wider in the left-right direction than it is in the up-down direction. The distance from the left side to the right is the major axis. However, more important for our purposes will be half of this distance, known as the **semi-major axis**. The semi-major axis is denoted by the symbol $a$, so the major axis shown in the figure is twice that, or $2a$. Think about what would happen if the ellipse became more circular -- the semi-major axis would be exactly the same as the radius of the circle! So, for a lot of things we talk about below, the semi-major axis $a$ will replace the radius of a circle that we usually use. We will see this in more detail in the next section."
   ]
  },
  {
   "cell_type": "markdown",
   "metadata": {},
   "source": [
    "# Kepler's second law of planetary motion\n",
    "\n",
    "When Kepler wrote down his laws, he described the second law in the following form.\n",
    "\n",
    "> A line joining a planet and the Sun sweeps out equal areas during equal intervals of time.\n",
    "\n",
    "This is perhaps a strange way to put it from our perspective, but it reflects the more geometric framing for physical laws at that time. A pictorial representation of the basic idea is in the video linked below."
   ]
  },
  {
   "cell_type": "code",
   "execution_count": null,
   "metadata": {},
   "outputs": [],
   "source": [
    "from IPython.display import YouTubeVideo\n",
    "\n",
    "YouTubeVideo('_3OOK8a4l8Y', width = 600, height = 400, mute = 1)"
   ]
  },
  {
   "cell_type": "markdown",
   "metadata": {},
   "source": [
    "Again, we have a planet moving in an elliptical orbit around the Sun (based on the first law). Suppose we divide the period of the planet's orbit -- which would be one year for the Earth -- into twelve \"months\", and draw a line between the planet and the Sun at the beginning of each month. Then Kepler's 2nd law says that the area of each of these wedges is exactly the same. So what does this mean? Since the planet is closest to the Sun on the right-hand side, the wedge is not so long in the left-right direction. On the left side, when the planet is furthest away from the Sun, it has the longest wedge. For these two areas to be the same in the same amount of time, on the right-hand side, the planet has to be traveling the fastest, while on the left-hand side, it must be traveling at its slowest.\n",
    "\n",
    "It turns out we can express the second law of planetary motion in a more modern viewpoint, using a concept we recently covered.\n",
    "\n",
    "> The angular momentum of the planet during its orbit around the Sun is conserved.\n",
    "\n",
    "To show this is the same as Kepler's statement, we need to review some facts first. Remember from Lesson 20 that the angular momentum of a point mass around an origin ${\\vec r} = 0$ can be written as\n",
    "\n",
    "$$\n",
    "    {\\vec L} = {\\vec r} \\times {\\vec p}\n",
    "$$\n",
    "\n",
    "Suppose you consider a simplified system of a planet $P$ in orbit around the Sun $S$. Then the angular momentum of planet $P$ moving with velocity component $v_{\\perp}$ perpendicular to the radius vector ${\\vec r}$ has magnitude\n",
    "\n",
    "$$\n",
    "\tL_P = rmv_\\perp\n",
    "$$\n",
    "\n",
    "Note that $v_\\perp$ is not the magnitude of the velocity, but it is just the component of the velocity in the direction perpendicular to the radial vector ${\\vec r}$, pointing towards the Sun. You can see how the velocity ${\\vec v}$ is broken into its perpendicular and radial (along ${\\vec r}$) components in the figure.\n",
    "\n",
    "![The radial and perpendicular components of the planet's velocity ${\\vec v}$](../img/QID-4546102-vel-vec-diag_small.png)\n",
    "\n",
    "The gravitational force ${\\vec F}_{SP}$ on the planet points towards the Sun, from Newton's law of universal gravitation, as seen in Lesson 25. The position vector ${\\vec r}_P$ of the planet also points towards the Sun. Because of this, the net torque on the planet ${\\vec \\tau} = {\\vec r}_P \\times {\\vec F}_{SP} = 0$ since the two vectors are parallel. With zero net torque, the angular momentum $L_P$ of the planet as it orbits the Sun is conserved. Now let's use this fact to show that conservation of angular momentum gives us Kepler's second law of planetary motion. This says that the area $\\Delta A$ swept out by a line from the planet $P$ to the Sun $S$ is the same for every time period $\\Delta t$. So, for a small time $\\Delta t$, the area is really close to a triangle, as you can see from the diagram below.\n",
    "\n",
    "![Finding the area of the triangle swept out by the planet $P$ around the Sun $S$](../img/INT_AY21_L27_Fig01_Area_triangle_small.png)\n",
    "\n",
    "The angle $\\Delta \\theta$ is the angular displacement of the planet seen by an observer on the Sun. From what we learned in rotational kinematics in Lesson 21, this change in angle for a planet at distance $r$ gives an arc length traveled of $r \\Delta \\theta$. So the area of the triangle is\n",
    "\n",
    "$$\n",
    "    \\Delta A = \\frac{1}{2} (r)(r \\Delta \\theta)\n",
    "$$\n",
    "\n",
    "If you divide both sides by $\\Delta t$, then the \"areal velocity\" $\\Delta A / \\Delta t$ is given by\n",
    "\n",
    "$$\n",
    "    \\frac{\\Delta A}{\\Delta t} = \\frac{1}{2} r^2 \\frac{\\Delta \\theta}{\\Delta t} = \\frac{1}{2} r^2 \\omega\n",
    "$$\n",
    "\n",
    "where $\\omega$ is the angular speed of the planet. But since the tangential velocity component $v_\\perp = r \\omega$, then\n",
    "\n",
    "$$\n",
    "    \\frac{\\Delta A}{\\Delta t} = \\frac{mr v_\\perp}{2m} = \\frac{L_P}{2m}\n",
    "$$\n",
    "\n",
    "Thus, a constant angular momentum $L_P$ is the same as a constant area velocity.\n",
    "\n",
    "The two problems below use the distance known as the **astronomical unit**, abbreviated AU. This is the semi-major axis of the Earth's orbit around the Sun, or 149.6 million km. However, for both problems, if you completely do your algebra first, you don't need to know that number -- your units should cancel out!\n",
    "\n",
    "> **Problem:** Halley's comet is a famous object that comes close to the Sun about every 76 years; it will return to the inner solar system in the year 2061. The comet's **perihelion** (closest distance to the Sun) is 0.586 AU. Its **aphelion** (furthest distance from the Sun) is 35.1 AU. If its speed at perihelion is 55.0 km/s, how fast is it moving (in m/s) at aphelion? This will be in late 2023, so it will happen soon! *Answer:* 918 m/s\n",
    "\n",
    "![Halley's comet during its last visit to the inner Solar System in 1986 ([source](https://commons.wikimedia.org/wiki/File:Lspn_comet_halley.jpg))](../img/Lspn_comet_halley.png)\n",
    "\n",
    "> **Problem:** A **Hohmann transfer orbit** is the minimum energy orbit for a spacecraft to move from one orbit to another around the Sun. This would be used for a space probe travelling from Earth to Venus, for example, with orbital radii of 1.00 AU and 0.723 AU, respectively. Suppose a spacecraft is moving at 27.3 km/s at the same distance from the Sun as the Earth and is in such a transfer orbit. Once it reaches the orbit of Venus, what will its orbital speed be (in km/s)? *Answer:* 37.8 km/s\n",
    "\n",
    "![Hohmann transfer orbit between Earth and Venus](../img/INT_AY20_MP2_L30_Fig02-Transfer_orbit_small.png)"
   ]
  },
  {
   "cell_type": "markdown",
   "metadata": {},
   "source": [
    "# Kepler's third law of planetary motion\n",
    "\n",
    "## Orbital speed\n",
    "\n",
    "We will now use the following problem to motivate Kepler's third law. These feature the Galilean satellites of Jupiter, the four large objects orbiting the planet. The satellites as a group are named after Galileo Galilei, who first realized they were moving around Jupiter in 1610.\n",
    "\n",
    "> **Problem:** For the values of the (essentially) circular orbits below, find the orbital speed of each satellite, using the ideas of rotational kinematics from Lesson 21. We will use this information later to find Jupiter's mass.\n",
    "\n",
    "| Image                    | Name     | Period $T$ (days) | Orbital radius $R$ (km) | Orbital speed $v_t$ (km/s) |\n",
    "|--------------------------|----------|-------------------|-------------------------|----------------------------|\n",
    "| ![](../img/Io.png)       | Io       | 1.77              | 421,800                 |                            |\n",
    "| ![](../img/Europa.png)   | Europa   | 3.55              | 671,100                 |                            |\n",
    "| ![](../img/Ganymede.png) | Ganymede | 7.16              | 1,070,400               |                            |\n",
    "| ![](../img/Callisto.png) | Callisto | 16.7              | 1,882,700               |                            |\n",
    "\n",
    "\n",
    "Image sources: [Io](https://commons.wikimedia.org/wiki/File:Io_highest_resolution_true_color.jpg), [Europa](https://commons.wikimedia.org/wiki/File:Europa-moon-with-margins.jpg), [Ganymede](https://commons.wikimedia.org/wiki/File:Moon_Ganymede_by_NOAA.jpg), [Callisto](https://commons.wikimedia.org/wiki/File:Callisto.jpg)\n",
    "\n",
    "What provides the centripetal force for each of these satellites? It is the gravitational force between Jupiter and the satellite. Setting the magnitudes of these forces to be equal,\n",
    "\n",
    "$$\n",
    "\tF_{grav} = F_{cp} \\Rightarrow \\frac{GM m}{R^2} = \\frac{m v_{orb} ^2}{R}\n",
    "$$\n",
    "\n",
    "we can solve for the magnitude of the orbital speed of each satellite. Here $M$ is the mass of the primary object (e.g. Jupiter) and $m$ the mass of the secondary (e.g. one of the satellites). This gives us\n",
    "\n",
    "$$\n",
    "    v_{orb} = \\sqrt{\\frac{G M}{R}}\n",
    "$$\n",
    "\n",
    "> **Problem:** Using this relation and using the data from the table, find the mass of Jupiter. *Answer:* $1.90 \\times 10^{27}$ kg\n",
    "\n",
    "Note that the orbital speed decreases as the radius of the orbit increases. So Callisto has a smaller orbital speed than Io. In fact, since the semi-major axis of Callisto is about four times bigger than that of Io, its speed is close to half that of Io's. This relation also works for the planets around the Sun: Mercury has the fastest orbital speed of the eight planets, while Neptune has the smallest. This relates to what we saw with Kepler's second law -- a *fixed* planet will travel faster when its distance to the Sun is smaller, because its angular momentum is constant. Here, we are saying that two different satellites around Jupiter will have orbital speeds that decrease as the radius gets bigger. The two facts are related, but not the same!"
   ]
  },
  {
   "cell_type": "markdown",
   "metadata": {},
   "source": [
    "## Kepler's third law\n",
    "\n",
    "Now let's motivate the third law of planetary motion by considering the following situation. Suppose you want to place a satellite in an equatorial orbit around the Earth, so that its orbital period is exactly the same as the Earth's own rotation around its axis. The benefit to this is that the satellite would always appear to be in the same location in the sky. This orbit is known as a **geosynchronous orbit** for the Earth, and this orbit is now populated by many communications satellites, for relaying signals to various points on the surface of the Earth.\n",
    "\n",
    "So, to work out the orbital radius $R$ of this circular orbit, we need to find the orbit with a specific orbital period $T$.  Starting with the orbital speed derived above, we can write this orbital speed in terms of the circumference and the period as\n",
    "\n",
    "$$\n",
    "    v_{orb} = \\frac{2 \\pi R}{T}\n",
    "$$\n",
    "\n",
    "If we set this equal to the equation derived above, then\n",
    "\n",
    "$$\n",
    "    \\frac{2 \\pi R}{T} = \\sqrt{\\frac{G M}{R}}\n",
    "$$\n",
    "\n",
    "where $M$ is now the mass of the Earth. Squaring both sides and rearranging somewhat, we find that\n",
    "\n",
    "$$\n",
    "\tT^2 = \\biggl( \\frac{4 \\pi^2}{GM} \\biggr) R^3\n",
    "$$\n",
    "\n",
    "Now, we want to solve for $R$, using the mass of the Earth as $5.97 \\times 10^{24}$ kg, and the period $T$ is 24 hours. Solving algebraically for $R$, and then plugging in these numbers gives that $R$ is 42,200 km.\n",
    "\n",
    "> **Problem:** The planet Mars rotates once about its axis in 24 hours and 40 minutes; if Mars has a mass of $6.39 \\times 10^{23}$ kg, how far would a space probe have to be from the center of Mars in order to have the same rotational period? This is known as an **areosynchronous orbit**. *Answer:* $2.04 \\times 10^4$ km\n",
    "\n",
    "![The planet Mars ([source](https://commons.wikimedia.org/wiki/File:Mars_Valles_Marineris.jpeg))](../img/Mars.png)\n",
    "\n",
    "Notice that the orbit in this situation was assumed to be circular. However, conveniently enough, if you replace the radius $R$ of a circle with the semi-major axis $a$ of an ellipse, the equation is still correct! Thus we get that\n",
    "\n",
    "$$\n",
    "\tT^2 = \\biggl( \\frac{4 \\pi^2}{GM} \\biggr) a^3\n",
    "$$\n",
    "\n",
    "where $T$ is the period to complete one orbit around the mass $M$, and $a$ is the semi-major axis of the orbit. Thus, **Kepler's third law** states that\n",
    "\n",
    "> The square of the orbital period of a planet is directly proportional to the cube of the semi-major axis of its orbit.\n",
    "\n",
    "Why can we just replace the $R$ with an $a$ like that? It turns out the for only a inverse-square law force like gravity (i.e. one that depends on radius as $1/r^2$), there is a special property that allows this. You may remember that in Lesson 18 (uniform circular motion), we derived the equation $a_{cp} = v^2 / r$ for centripetal acceleration by using a \"velocity circle\" -- a graph showing how the end of the velocity vector travels in time. If an object moves due to gravity in a circular orbit, then this velocity circle is centered on the origin. It turns out that, for an *elliptical* orbit, the velocity vector still makes a circle, just shifted away from the origin. This hidden circle in the motion is why the equation carries over when you use the semi-major axis for an ellipse.\n",
    "\n",
    "> **Problem:** Mercury is the planet nearest to the Sun and has a rather eccentric orbit -- meaning there is a sizeable difference between its closest and furthest distances away from the Sun.\n",
    ">\n",
    "> 1. Suppose Mercury takes 0.241 yr to go once around the Sun. What is its semi-major axis in AU? Remember that the Earth's orbit has a semi-major axis of 1 AU and a period of 1.00 yr. **Hint:** Use the fact that the part of Kepler's third law in parentheses is *constant* for all planets moving around the Sun, and set up a ratio. *Answer:* 0.387 AU\n",
    "> 1. If its aphelion from the Sun is 0.467 AU, what is the distance of its perihelion, in AU? *Answer:* 0.308 AU\n",
    "> 1. Use this information about Mercury's orbit, and the size of an AU given earlier in this lesson, to find the mass of the Sun in kg. *Answer:* $1.99 \\times 10^{30}$ kg\n",
    "\n",
    "![The planet Mercury ([source](https://commons.wikimedia.org/wiki/File:Mercury_in_color_-_Prockter07-edit1.jpg))](../img/Mercury.png)\n",
    "\n",
    "> **Problem:** In a previous problem, you saw a Hohmann transfer orbit between the Earth and Venus, with semi-major axes of 1.00 AU and 0.723 AU, respectively. If you were traveling along this orbit from Earth to Venus, how long would it take (in yr) for you to reach Venus? **Hint:** How far along the orbit have you traveled? *Answer:* 0.400 yr"
   ]
  },
  {
   "cell_type": "markdown",
   "metadata": {},
   "source": [
    "# Summary\n",
    "\n",
    "Although Kepler's original formulation of his three laws of planetary motion were more about relationships between quantities, they provided a way of unifying how all the planets move into a single theoretical framework. When Newton came along later and sought to bring together all types of motion, his success in deriving Kepler's laws was a major selling point.\n",
    "\n",
    "Once you write Kepler's second and third laws in terms of angular momentum, and a relation between period and semi-major axis, then you can go far in calculating important quantities in both astronomy and space travel. For example, if you want to travel by spacecraft from one planet to another, you use Kepler's laws to find the necessary transfer orbit between the two, and the time it takes to travel along this orbit. As we saw with the Galilean satellites of Jupiter, knowing the details of an orbiting object gives you the mass of the primary it orbits.\n",
    "\n",
    "This can also help understand unseen objects as well. The 2020 Nobel prize in physics was given in part to two researchers who observed the motions of stars at the center of the Milky Way galaxy, of which the Solar System is a part. These stars are orbiting an object known to astronomers as Sgr A$^*$ (\"Sgr\" is the abbreviation for the constellation of Sagittarius, where the object appears in the Earth's sky). Although Sgr A$^*$ is a source of radio waves, it does not emit much light in the visible range. However, using Kepler's third law and the motions of the stars around it, the mass of Sgr A$^*$ can be calculated. It was these motions that gave the first conclusive proof that this object is in fact a supermassive black hole, with an estimated mass of about four million times that of the Sun. You can find out more by visiting the [website for the research group](http://www.astro.ucla.edu/~ghezgroup/gc/) of one of the Nobel laurates, Andrea Ghez, including movies and animations of the stellar motions around Sgr A$^*$.\n",
    "\n",
    "After this lesson, you should be able to:\n",
    "\n",
    "* Calculate the orbital speed or period of a satellite moving in a circular orbit around a planet of given mass.\n",
    "* Find the relationship between the orbital period and semi-major axis for an elliptical orbit."
   ]
  }
 ],
 "metadata": {
  "kernelspec": {
   "display_name": "Python 3",
   "language": "python",
   "name": "python3"
  },
  "language_info": {
   "codemirror_mode": {
    "name": "ipython",
    "version": 3
   },
   "file_extension": ".py",
   "mimetype": "text/x-python",
   "name": "python",
   "nbconvert_exporter": "python",
   "pygments_lexer": "ipython3",
   "version": "3.7.1"
  },
  "toc": {
   "base_numbering": 1,
   "nav_menu": {},
   "number_sections": true,
   "sideBar": true,
   "skip_h1_title": false,
   "title_cell": "Table of Contents",
   "title_sidebar": "Contents",
   "toc_cell": false,
   "toc_position": {},
   "toc_section_display": true,
   "toc_window_display": false
  }
 },
 "nbformat": 4,
 "nbformat_minor": 2
}
