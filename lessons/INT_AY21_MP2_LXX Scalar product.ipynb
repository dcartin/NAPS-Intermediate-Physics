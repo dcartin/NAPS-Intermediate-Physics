{
 "cells": [
  {
   "cell_type": "markdown",
   "metadata": {},
   "source": [
    "# Objectives\n",
    "\n",
    "* Calculate the scalar product of two vectors.\n",
    "* Given a vector ${\\vec V}$, find a second vector that is perpendicular to ${\\vec V}$.\n",
    "* Given a vector ${\\vec V}$ and a set of vector equations, find the equation for the components parallel to ${\\vec V}$, and the equation for the components perpendicular to ${\\vec V}$."
   ]
  },
  {
   "cell_type": "markdown",
   "metadata": {},
   "source": [
    "# Scalar product\n",
    "\n",
    "* The **scalar product** (or dot product) takes two vectors ${\\vec A}, {\\vec B}$ and outputs a scalar ${\\vec A} \\cdot {\\vec B}$.\n",
    "* This will be useful for:\n",
    "\t\t\n",
    "    <ul>\n",
    "\t\t<li>given a vector ${\\vec V}$, find a second vector that is perpendicular to ${\\vec V}$</li>\n",
    "\t\t<li>given a vector ${\\vec V}$ and vector equation, find the components of that equation parallel to ${\\vec V}$ (we have already done this secretly!)</lo>\n",
    "\t</ul>\n",
    "\t\t\n",
    "* Later in the year, we will see the **vector product** (or cross product), which takes two vectors and outputs a third vector that is perpendicular to the first two."
   ]
  },
  {
   "cell_type": "markdown",
   "metadata": {},
   "source": [
    "## Definition of scalar product\n",
    "\n",
    "We want to define the scalar product so that it gives the components of a vector. In other words, if we use the unit vectors ${\\hat x}, {\\hat y}$ and ${\\hat z}$, then the scalar products of these vectors with an arbitrary vector ${\\vec A}$ gives its components.\n",
    "\n",
    "$$\n",
    "    A_x = {\\vec A} \\cdot {\\hat x} = {\\hat x} \\cdot {\\vec A}\n",
    "$$"
   ]
  },
  {
   "cell_type": "markdown",
   "metadata": {},
   "source": [
    "* Since a unit vector has a magnitude of 1, then this gives\n",
    "\t\t\n",
    "$$\n",
    "    {\\hat x} \\cdot {\\hat x} = {\\hat y} \\cdot {\\hat y} = {\\hat z} \\cdot {\\hat z} = 1\n",
    "$$\n",
    "\t\t\n",
    "* The unit vectors ${\\hat x}, {\\hat y}$ and ${\\hat z}$ are all perpendicular to each other -- each of the three has no component along the other two -- so that\n",
    "\t\t\n",
    "$$\n",
    "    {\\hat x} \\cdot {\\hat y} = {\\hat x} \\cdot {\\hat z} = {\\hat y} \\cdot {\\hat z} = 0\n",
    "$$\n",
    "\t\t\n",
    "* These relations define the scalar product. The scalar product of two generic vectors can be found from these. For example, by using distribution,\n",
    "\n",
    "$$\n",
    "\t{\\vec C} \\cdot {\\vec D} = (C_x {\\hat x} + C_y {\\hat y} + C_z {\\hat z}) \\cdot (D_x {\\hat x} + D_y {\\hat y} + D_z {\\hat z}) = C_x D_x + C_y D_y + C_z D_z\n",
    "$$"
   ]
  },
  {
   "cell_type": "markdown",
   "metadata": {},
   "source": [
    "(CREATE OR LINK TO ANIMATION OF SCALAR PRODUCT)\n",
    "\n",
    "(PUT SIMPLE VPYTHON EXERCISE HERE TO FIND SCALAR PRODUCT OF TWO VECTORS IN 3D)"
   ]
  },
  {
   "cell_type": "code",
   "execution_count": 30,
   "metadata": {},
   "outputs": [
    {
     "data": {
      "application/vnd.jupyter.widget-view+json": {
       "model_id": "ec176331bf97459ab6de0c32090d4c82",
       "version_major": 2,
       "version_minor": 0
      },
      "text/plain": [
       "VBox(children=(Label(value='What is the scalar product of the vectors ${\\\\vec M} = -4 {\\\\hat x} + 5 {\\\\hat y}$…"
      ]
     },
     "metadata": {},
     "output_type": "display_data"
    }
   ],
   "source": [
    "%run \"questions\\INT_AY20_MP2_L01_Question01.py\"\n",
    "\n",
    "display(createQuestion()) # Add more feedback on answer choices"
   ]
  },
  {
   "cell_type": "markdown",
   "metadata": {},
   "source": [
    "## The scalar product in vPython\n",
    "\n",
    "You can easily calculate the scalar product of two vectors in vPython. First, you need to import the module `dot` (along with the module `vector`, so you have vectors to use!)."
   ]
  },
  {
   "cell_type": "code",
   "execution_count": 28,
   "metadata": {},
   "outputs": [
    {
     "data": {
      "text/html": [
       "<div id=\"glowscript\" class=\"glowscript\"></div>"
      ],
      "text/plain": [
       "<IPython.core.display.HTML object>"
      ]
     },
     "metadata": {},
     "output_type": "display_data"
    },
    {
     "data": {
      "application/javascript": [
       "if (typeof Jupyter !== \"undefined\") { window.__context = { glowscript_container: $(\"#glowscript\").removeAttr(\"id\")};}else{ element.textContent = ' ';}"
      ],
      "text/plain": [
       "<IPython.core.display.Javascript object>"
      ]
     },
     "metadata": {},
     "output_type": "display_data"
    }
   ],
   "source": [
    "from vpython import dot, vector"
   ]
  },
  {
   "cell_type": "markdown",
   "metadata": {},
   "source": [
    "Then, you can simply write `dot(A, B)` for previously defined vectors `A` and `B`. An example is shown below."
   ]
  },
  {
   "cell_type": "code",
   "execution_count": null,
   "metadata": {},
   "outputs": [],
   "source": [
    "A = vector(-3, 5, 6)\n",
    "B = vector(2, -4, -1)\n",
    "dot(A, B)"
   ]
  },
  {
   "cell_type": "markdown",
   "metadata": {},
   "source": [
    "Trying changing the size and direction of the vectors, and see how it affects the scalar product of the two."
   ]
  },
  {
   "cell_type": "markdown",
   "metadata": {},
   "source": [
    "## Practice problems"
   ]
  },
  {
   "cell_type": "code",
   "execution_count": 26,
   "metadata": {},
   "outputs": [
    {
     "data": {
      "application/vnd.jupyter.widget-view+json": {
       "model_id": "df0741505dfc4a11af2280ff433d9b40",
       "version_major": 2,
       "version_minor": 0
      },
      "text/plain": [
       "VBox(children=(Label(value='How does the value ${\\\\vec A} \\\\cdot {\\\\vec B}$ change does the angle $\\\\theta$ in…"
      ]
     },
     "metadata": {},
     "output_type": "display_data"
    }
   ],
   "source": [
    "%run \"questions\\INT_AY20_MP2_L01_Question02.py\"\n",
    "\n",
    "display(createQuestion())"
   ]
  },
  {
   "cell_type": "code",
   "execution_count": 43,
   "metadata": {},
   "outputs": [
    {
     "data": {
      "application/vnd.jupyter.widget-view+json": {
       "model_id": "866a1f63249841278f394feaa6bc668b",
       "version_major": 2,
       "version_minor": 0
      },
      "text/plain": [
       "VBox(children=(Label(value='Rank the pictures shown according to the size of the value ${\\\\vec A}\\n           …"
      ]
     },
     "metadata": {},
     "output_type": "display_data"
    }
   ],
   "source": [
    "%run \"questions\\INT_AY20_MP2_L01_Question03.py\"\n",
    "\n",
    "display(createQuestion()) # QUESTION STRING IS TOO LONG; MAKE IT ALL VISIBLE"
   ]
  },
  {
   "cell_type": "markdown",
   "metadata": {},
   "source": [
    "**Example: Find the perpendicular vector**\n",
    "\n",
    "Suppose you are given a vector ${\\vec A} = 4 {\\hat x} - 7 {\\hat y}$.\n",
    "\n",
    "<img src=\"img/INT_AY20_MP2_L01_Fig01a.png\" width = \"200\"> \n",
    "\n",
    "* **Review:** Find the unit vector ${\\hat A}$ in the same direction as ${\\vec A}$.\n",
    "\t\t\n",
    "* Suppose you want to find a second vector ${\\vec B} = B_x {\\hat x} + B_y {\\hat y}$ that is perpendicular to ${\\vec A}$. What equation must be true for the two components $B_x$ and $B_y$?\n",
    "\t\t\n",
    "* Using this equation, find a unit vector ${\\hat B}$ in the first quadrant that has unit magnitude and is perpendicular to ${\\vec A}$."
   ]
  }
 ],
 "metadata": {
  "kernelspec": {
   "display_name": "Python 3",
   "language": "python",
   "name": "python3"
  },
  "language_info": {
   "codemirror_mode": {
    "name": "ipython",
    "version": 3
   },
   "file_extension": ".py",
   "mimetype": "text/x-python",
   "name": "python",
   "nbconvert_exporter": "python",
   "pygments_lexer": "ipython3",
   "version": "3.7.1"
  },
  "toc": {
   "base_numbering": 1,
   "nav_menu": {},
   "number_sections": true,
   "sideBar": true,
   "skip_h1_title": false,
   "title_cell": "Table of Contents",
   "title_sidebar": "Contents",
   "toc_cell": false,
   "toc_position": {},
   "toc_section_display": true,
   "toc_window_display": false
  }
 },
 "nbformat": 4,
 "nbformat_minor": 2
}
