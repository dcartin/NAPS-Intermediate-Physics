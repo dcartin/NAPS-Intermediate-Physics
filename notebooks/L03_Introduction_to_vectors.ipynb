{
 "cells": [
  {
   "cell_type": "markdown",
   "metadata": {},
   "source": [
    "# Objectives\n",
    "\n",
    "Many of the things we do in physics will depend on the idea of a \"vector\", so it is very important to understand the difference between a vector and a \"scalar\". Intuitively, a scalar is just a number. If we put units on a scalar, some examples would be the time of day you are reading this, and the temperature in the room where you are reading it. A vector, on the other hand, can be best thought of as an arrow -- a vector is a quantity that has both magnitude (size) and direction. The velocity of an object is a vector, since it has a size (how fast are you moving?) and a direction (which way are you moving?).\n",
    "\n",
    "There are many ways to describe a vector, and this lesson will hopefully give you a handle on these. First, you can go back to the idea of a vector as an arrow, and draw these on paper to see how to add or subtract them. This will be the idea behind \"graphical vector addition\". This technique is great for giving you a rough idea of the size and direction of a vector. We will use graphical vector addition frequently in this context -- for example, when we draw the \"free body diagram\" of the forces acting on an object in Lesson 13 (Solving force problems). We will also draw the \"vector diagram\" of many vectors, in order to find their \"vector components\". This is the second, and more mathematical, way of describing vectors. The components of a vector tell you how much of the vector is along each axis. This will also allow you to calculate the sum of multiple vectors. As a way to tie these two methods together, you will also see how to draw vectors in vPython. In particular, you will see that the codes using the mathematical relations gives you the graphical addition of arrows we would expect.\n",
    "\n",
    "Here are the objectives for this lesson:\n",
    "\n",
    "* Describe the difference between a scalar and a vector.\n",
    "* Describe the effect of scalar multiplication of a vector.\n",
    "* Write a vector in proper unit vector form, given its components.\n",
    "* Add together multiple vectors graphically.\n",
    "* Add together multiple vectors in unit vector form."
   ]
  },
  {
   "cell_type": "markdown",
   "metadata": {},
   "source": [
    "# Graphical vector addition\n",
    "\n",
    "## Scalars and vectors\n",
    "\n",
    "Throughout these notes, there will be links to simulations that others have created and placed on their websites. One good source for many of these is [PhET Interactive Simulations site](https://phet.colorado.edu/); I will refer to these simulations as \"PhETs\". If you go to the site, you'll notice the simulations are not just physics! To start off, the following PhET may be helpful as you work through this lesson. It allows you to play around with vectors, and illustrates many of the concepts discussed in this lesson. Run the next cell to start it. The application has several parts:\n",
    "\n",
    "* \"Explore 1D\" -- Here, you can add up to three vectors, either all along the $x$ axis, or all along the $y$ axis. You can stretch or shrink the vectors, and see how the vector sum changes.\n",
    "* \"Explore 2D\" -- This is the same idea in two dimensions. Here, for all the vectors (including the vector sum), you can see either magnitude and direction of each vector, or else the $x$ and $y$ vector components, represented in different ways for each vector.\n",
    "* \"Lab\" -- Add up as many vectors of the same color as you wish. Each of the individual vectors can be changed in magnitude and direction by clicking and dragging the vector.\n",
    "* \"Equations\" -- Experiment with various vector equations, given at the top of the screen, relating three vectors ${\\vec a}, {\\vec b}$, and ${\\vec c}$. Change the size of the vectors by selecting \"Base Vectors\" on the side."
   ]
  },
  {
   "cell_type": "code",
   "execution_count": null,
   "metadata": {},
   "outputs": [],
   "source": [
    "from IPython.display import IFrame\n",
    "\n",
    "IFrame(src=\"https://phet.colorado.edu/sims/html/vector-addition/latest/vector-addition_en.html\", width=\"600\", height=\"400\")"
   ]
  },
  {
   "cell_type": "markdown",
   "metadata": {},
   "source": [
    "As stated above, there are two basic mathematical quantities we will use this year in physics class:\n",
    "\t\n",
    "1. **Scalar:** A number representing the size (or magnitude) of a quantity. Examples are mass, temperature, electric charge.\n",
    "1. **Vector:** Intuitively, we can think of a vector as an arrow, which has both size and direction. Examples include velocity, acceleration, force.\n",
    "\n",
    "Whenever you see a symbol with an arrow sign above it, you should read it as a vector. Examples are the velocity vector ${\\vec v}$ and the acceleration vector ${\\vec a}$. A symbol without an arrow sign is a scalar. Note that there is a scalar associated with every vector -- namely, its size! So, when I talk about the momentum *vector*, I use the symbol ${\\vec p}$, but when I talk about the *scalar* magnitude of the momentum vector, I use $p$ (or sometimes $|{\\vec p}|$)."
   ]
  },
  {
   "cell_type": "markdown",
   "metadata": {},
   "source": [
    "## Scalar multiplication\n",
    "\n",
    "I will now draw representations of vectors as arrows. Each arrow will point in the same direction as the vector, and I will scale the arrow to show the size of the vector. It is this last part you have to be careful about -- many different kinds of quantities are vectors, so don't get too wrapped up in the idea of \"magnitude = length\". This is why I used the word *scale* before. I can draw an arrow to represent a force vector, where 1 centimeter of arrow length on my drawing denotes 10.0 N of force magnitude. \n",
    "\n",
    "> **Important:** The reason I emphasize this here is that sometimes you will draw multiple vectors -- representing *different* quantities -- in the same problem, and if you confuse every vector with a length (or each other!), you will have problems. One place I see this a lot is when doing projectile motion problems (Lesson 07). Here, you may have an initial velocity vector to show how a cannonball is launched from a cannon, and a displacement vector giving its final position relative to its start. These vectors are *not* the same! They are generally not in the same direction, either. However, I sometimes see students calculate the final position of a cannonball using the initial velocity. Projectiles do not move in straight lines, because of the gravitational field of the Earth. Confusing your vectors will lead to this false conclusion.\n",
    "\n",
    "Vectors can be multiplied by a scalar, which you can think about as \"stretching\" the vector if the scalar is positive, along with flipping the vector's direction if the scalar is negative. Thus, **scalar multiplication** can either change the size of the vector\n",
    "\n",
    "![Scalar multiplication](../img/INT_AY20_MP1_L04_Fig01a-Scalar_multiplication_small.png)\n",
    "\n",
    "or change the direction by reversing its direction.\n",
    "\n",
    "![Multiplying a vector by $-1$](../img/INT_AY20_MP1_L04_Fig01b-Sign_multiplication_small.png)\n",
    "\n",
    "In the first figure, the size of $2 {\\vec C}$ is twice that of the original vector ${\\vec C}$, but the direction is unchanged; in the second, $-{\\vec C}$ has the same length as ${\\vec C}$, but opposite direction. I have secretly used scalar multiplication of vectors in Lesson 02 in the definition of the average velocity:\n",
    "\n",
    "$$\n",
    "    {\\vec v}_{avg} = \\frac{\\Delta {\\vec r}}{\\Delta t} = \\biggl( \\frac{1}{\\Delta t} \\biggr) (\\Delta {\\vec r})\n",
    "$$\n",
    "\n",
    "Thus, the average velocity vector is found by scalar multiplication of the displacement vector ${\\vec r}$ by the scalar $(1 / \\Delta t)$ -- the average vector of an object is just the displacement of the object rescaled."
   ]
  },
  {
   "cell_type": "markdown",
   "metadata": {},
   "source": [
    "## Vector addition\n",
    "\n",
    "We wil often add vectors together; for example, we will see in Lesson 08 (Newton's law) that the acceleration of an object depends on the vector sum of all the forces acting on it. Pictorially, vectors are added by placing them \"head\" (or \"tip\") to \"tail\". To get the vector ${\\vec A} + {\\vec B}$:\n",
    "\n",
    "* Draw the first vector, ${\\vec A}$\n",
    "* Draw the second vector, ${\\vec B}$, with the tail of ${\\vec B}$ at the tip of ${\\vec A}$\n",
    "* The resultant vector ${\\vec A} + {\\vec B}$ is drawn from the tail of ${\\vec A}$ to the tip of ${\\vec B}$\n",
    "* Note the order we add the vectors doesn't matter!\n",
    "\n",
    "An example of this process is shown in the figure below.\n",
    "\n",
    "![Adding two vectors graphically](../img/INT_AY20_MP1_L04_Fig02-Graphical_vector_addition_small.png)\n",
    "\n",
    "> **Problem:** Based on the figure below, which of the following vector equations is correct?\n",
    ">\n",
    "> 1. ${\\vec M} + {\\vec N} = {\\vec S}$\n",
    "> 1. ${\\vec M} + {\\vec N} = {\\vec T}$\n",
    "> 1. ${\\vec M} + {\\vec T} = {\\vec N}$\n",
    "> 1. ${\\vec S} + {\\vec T} = {\\vec M}$\n",
    "> 1. ${\\vec S} + {\\vec T} = {\\vec N}$\n",
    ">\n",
    "> ![Adding two vectors graphically](../img/INT_AY20_MP1_L04_Fig03-Graphical_vector_addition_small.png)\n",
    "\n",
    "Just like vector addition, we will frequently subtract vectors as well. In fact, here is another aspect of vectors you have already seen -- the operation of \"difference\" (or $\\Delta$), when applied to a vector. Thus, finding the average displacement means subtracting the initial position ${\\vec r}_i$ from the final position ${\\vec r}_f$. Vector subtraction can be rewritten as vector addition.\n",
    "\n",
    "$$\n",
    "\t{\\vec A} - {\\vec B} = {\\vec A} + (-{\\vec B})\n",
    "$$\n",
    "\t\n",
    "To get the vector ${\\vec A} - {\\vec B}$:\n",
    "\t\n",
    "* Draw the first vector, ${\\vec A}$\n",
    "* Draw the second vector, ${\\vec B}$, with reversed direction to make it negative, with the tail of $-{\\vec B}$ at the tip of ${\\vec A}$\n",
    "* The resultant vector ${\\vec A} - {\\vec B}$ is drawn from the tail of ${\\vec A}$ to the tip of $-{\\vec B}$\n",
    "\n",
    "This process is shown in the figure below.\n",
    "\n",
    "![Subtracting two vectors graphically](../img/INT_AY20_MP1_L04_Fig04-Vector_subtraction_small.png)\n",
    "\n",
    "> **Problem:** Based on the figure below, how would you express the vector ${\\vec T}$ in terms of the vectors ${\\vec M}$ and ${\\vec N}$?\n",
    ">\n",
    "> 1. ${\\vec M} + {\\vec N} = {\\vec S}$\n",
    "> 1. ${\\vec M} + {\\vec N} = {\\vec T}$\n",
    "> 1. ${\\vec M} + {\\vec T} = {\\vec N}$\n",
    "> 1. ${\\vec S} + {\\vec T} = {\\vec M}$\n",
    "> 1. ${\\vec S} + {\\vec T} = {\\vec N}$\n",
    ">\n",
    "> ![What is the correct vector equation for ${\\vec T}$?](../img/INT_AY20_MP1_L04_Fig05-Vector_subtraction_small.png)\n",
    "\n",
    "Hopefully you find the graphical represention of vectors to be helpful. I often will draw the vectors when working on a problem, just as a double-check to make sure my answers make sense. As mentioned earlier, this will also be part of the problem-solving procedure we use many times throughout the year, such as with forces and Newton's 2nd law, or when adding electric field vectors together. Getting into the habit of having this thought process in the back of your head is a handy way of avoiding egregious mistakes."
   ]
  },
  {
   "cell_type": "markdown",
   "metadata": {},
   "source": [
    "# Unit vector notation\n",
    "\n",
    "## The components of a vector\n",
    "\n",
    "Drawing vectors as arrows can be helpful, but it is not the entire method. To get accurate results, we need to bring mathematical calculations into the picture. This will be done using \"vector components\", which uniquely give a vector in terms of a list of numbers. This method is powerful, and reflects a quantum leap in the study of science that started with the ideas of Rene Descartes in the 17th century.\n",
    "\n",
    "As a way of introducing vector components, we will first give a brief history of the grid system of Manhattan. In 1811, a commission established a grid pattern for future roads built on Manhattan island, with avenues running roughly north-south, and streets going east-west. This urban plan helped New York City deal with its exponential growth in population during the 19th century; the five boroughs together were the largest city in the US by 1835. If we ignore some of the rough spots in the grid (due to either history, or living on an island that is not exactly a rectangle!), you can give the position of any street in Manhattan by two numbers: street and avenue. Throw in a height, and you have three numbers giving any spot in the island's airspace.\n",
    "\n",
    "![The Commissioners Map of the City of New York, 1807 ([source](https://commons.wikimedia.org/wiki/File:NYC-GRID-1811.png))](../img/197px-NYC-GRID-1811.png)\n",
    "\n",
    "Suppose we start in front of the Guggenheim Museum (5th Ave & 88th St) and walk to the Chrysler Building (3rd Ave & 43rd St). You sneak up to the 70th floor to see the gymnasium. How can we describe the walk from start to finish? No matter how you do it, you have gone back two avenues, down 45 streets, up 70 floors. This is your **displacement** vector, and is independent of the path you actually take. The idea behind unit vector notation is to uniquely describe a vector in a series of numbers, as done with trips in Manhattan; these numbers are called **vector components**.\n",
    "\n",
    "There are several ways to mathematically describe a vector. For now, we use **unit vector notation**, which lists how much of a vector is along each of the three coordinate axes $x, y$ and $z$. In unit vector notation, this vector is written as\n",
    "\n",
    "$$\n",
    "    {\\vec A} = A_x {\\hat x} + A_y {\\hat y} + A_z {\\hat z}\n",
    "$$\n",
    "\n",
    "![Unit vector notation](../img/INT_AY20_MP1_L04_Fig06-Vector_components_small.png)\n",
    "\t\n",
    "The three *scalars* $A_x, A_y,$ and $A_z$ are the vector components of the vector ${\\vec A}$. The directions are given by the three \"unit vectors\" ${\\hat x}, {\\hat y},$ and ${\\hat z}$. The vector ${\\hat x}$ is a vector of size 1 (\"unit\" size) that points in the $+x$ direction. Similarly, ${\\hat y}$ points in the $+y$ direction and ${\\hat z}$ points in the $+z$ direction, both with size 1. If ${\\hat x}$ has a size of 1 and points in the $+x$ direction, then $3 {\\hat x}$ also points in the $+x$ direction but has size of 3, and $-2 {\\hat x}$ has size of 2, but points in the $-x$ direction. We will introduce unit vectors more formally in Lesson 06 (vector magnitude and direction). If you find the picture above to be a little confusing, you will make a more three-dimensional version of it in vPython later in this lesson.\n",
    "\n",
    "For the gymnasium example on the previous slide, we could write the total trip as\n",
    "\n",
    "$$\n",
    "\t{\\vec A} = (-2 \\ \\text{ave.}) {\\hat x} + (-45 \\ \\text{st.})  {\\hat y} + (+70 \\ \\text{fl.}) {\\hat z}\n",
    "$$\n",
    "\n",
    "Notice that this is just a combination of scalar multiplication for each of the three terms, along with a vector sum of the pieces along each axis. Thus, we can think of the vector ${\\vec A}$ as the sum of three vectors: $A_x {\\hat x}$ in the $\\pm x$ direction, $A_y {\\hat y}$ in the $\\pm y$ direction, and $A_z {\\hat z}$ in the $\\pm z$ direction. So, speaking figuratively, you first \"move\" an amount $A_x$ along the $x$ axis, then an amount $A_y$ on the $y$ axis, and finally $A_z$ along the $z$ axis.\n",
    "\n",
    "> **Problem:** Which of the following correctly illustrates the $x$ and $y$ components of vector ${\\vec A}$?\n",
    ">\n",
    "> ![Combining graphical vector addition with the components of unit vector notation](../img/INT_AY20_MP1_L04_Fig07-Vector_components_small.png)\n",
    "\n",
    "![Scalar multiplication of the unit vector ${\\hat x}$](../img/INT_AY20_MP1_L04_Fig08-Sizing_unit_vector_small.png)\n",
    "\n",
    "> **Problem:** A person's velocity ${\\vec v}$ is 4.00 m/s in the north direction, 7.00 m/s in the east direction, and 2.50 m/s straight down. How would you express the velocity in unit vector notation?\n",
    ">\n",
    "> 1. ${\\vec v} = (4.00\\ \\textrm{m/s}) {\\hat x} + (7.00\\ \\textrm{m/s}) {\\hat y} + (2.50 \\ \\textrm{m/s}) {\\hat z}$\n",
    "> 1. ${\\vec v} = (7.00\\ \\textrm{m/s}) {\\hat x} + (4.00\\ \\textrm{m/s}) {\\hat y} + (-2.50 \\ \\textrm{m/s}) {\\hat z}$\n",
    "> 1. ${\\vec v} = (7.00\\ \\textrm{m/s}) {\\hat x} + (11.0\\ \\textrm{m/s}) {\\hat y} + (2.50 \\ \\textrm{m/s}) {\\hat z}$\n",
    "> 1. ${\\vec v} = (11.00\\ \\textrm{m/s}) {\\hat x} + (4.00\\ \\textrm{m/s}) {\\hat y} + (-2.50 \\ \\textrm{m/s}) {\\hat z}$"
   ]
  },
  {
   "cell_type": "markdown",
   "metadata": {},
   "source": [
    "## Vectors in vPython\n",
    "\n",
    "Now we will create arrows in vPython to illustrate these concepts. This will finally link in the vPython vectors we used in the last lesson. Thus, the only new module is the `arrow` module:\n",
    "\n",
    "* `arrow`: Create an `arrow` object, with a definite position for the tail of the vector, as well as its length and direction.\n",
    "\n",
    "To import the modules we will need for the rest of this lesson, run the next cell. If you need to restart the kernel, or begin the notebook from scratch, remember to run this cell again *before* you do anything else from this point."
   ]
  },
  {
   "cell_type": "code",
   "execution_count": null,
   "metadata": {},
   "outputs": [],
   "source": [
    "from vpython import arrow, canvas, color, vector"
   ]
  },
  {
   "cell_type": "markdown",
   "metadata": {},
   "source": [
    "Now, suppose we start with the resultant vector from the last question,\n",
    "\n",
    "$$\n",
    "    {\\vec v} = (7.00\\ \\textrm{m/s}) {\\hat x} + (4.00\\ \\textrm{m/s}) {\\hat y} + (-2.50 \\ \\textrm{m/s}) {\\hat z}\n",
    "$$\n",
    "\n",
    "In vPython, this vector would be defined (and then printed out) by\n",
    "\t\n",
    "```python\n",
    "    v = vector(7.00, 4.00, -2.50)\n",
    "    print(v)\n",
    "```\n",
    "\n",
    "Thus, the components are listed in the usual order $x, y, z$. Type this code into the cell below, and see how vPython prints out the components of the vector."
   ]
  },
  {
   "cell_type": "code",
   "execution_count": null,
   "metadata": {},
   "outputs": [],
   "source": []
  },
  {
   "cell_type": "markdown",
   "metadata": {},
   "source": [
    "Now, let's see how scalar multiplication and vector addition works in vPython.\n",
    "\n",
    "First, we try scalar multiplication. \n",
    "\n",
    "> **Problem:** Given the vector ${\\vec A}$ below, what is the unit vector notation for the vector ${\\vec B} = 4{\\vec A}$?\n",
    ">\n",
    "> $$\n",
    "    {\\vec A} = 2 {\\hat x} + 3 {\\hat y} - {\\hat z}\n",
    "    $$\n",
    ">\n",
    "\n",
    "The code below multiplies the scalar `k` by the vector `A` to get a new vector `B = k * A`. After you have solved the problem above, run the cell below to confirm your answer."
   ]
  },
  {
   "cell_type": "code",
   "execution_count": null,
   "metadata": {},
   "outputs": [],
   "source": [
    "# Scalar multiplication\n",
    "\n",
    "k = 4\n",
    "A = vector(2, 3, -1)\n",
    "B = k * A\n",
    "\n",
    "print(B)"
   ]
  },
  {
   "cell_type": "markdown",
   "metadata": {},
   "source": [
    "Make sure you do not confuse multiplying two *scalars* ($6 = 2 \\times 3$) with the *scalar multiplication* of a scalar and a vector (${\\vec B} = k{\\vec A}$). They use the same symbol `*`, but mean two different things! If you are not careful about this, you can create errors in your Python code. For example, if you multiply two scalars, but vPython is expecting a vector, an error will be reported.\n",
    "\n",
    "Now let's create an `arrow` object in vPython. This will have attributes, just like the `sphere` object did in the last lesson. One of these attributes is the `axis`, which is a vector pointing from the tail of the arrow to the tip. The cell below creates three vectors, each pointing with length 1 along one of the coordinate axes."
   ]
  },
  {
   "cell_type": "code",
   "execution_count": null,
   "metadata": {},
   "outputs": [],
   "source": [
    "canvas()\n",
    "\n",
    "# Define three unit vectors\n",
    "\n",
    "xVect = arrow(axis = vector(1, 0, 0), color = color.red)\n",
    "yVect = arrow(axis = vector(0, 1, 0), color = color.green)\n",
    "zVect = arrow(axis = vector(0, 0, 1), color = color.blue)"
   ]
  },
  {
   "cell_type": "markdown",
   "metadata": {},
   "source": [
    "We can make the arrow bigger by simply changing the arrow `axis`. For example, in the cell below, the first cyan arrow created is twice the length of the second orange arrow."
   ]
  },
  {
   "cell_type": "code",
   "execution_count": null,
   "metadata": {},
   "outputs": [],
   "source": [
    "canvas()\n",
    "\n",
    "# Create two vectors, one twice as long as the other\n",
    "\n",
    "arrow(axis = vector(0, 2, 0), color = color.cyan)\n",
    "arrow(axis = vector(1, 0, 0), color = color.orange)"
   ]
  },
  {
   "cell_type": "markdown",
   "metadata": {},
   "source": [
    "Note, though, that its size has increased in every direction -- it is twice as thick as well! To avoid this issue for very long vectors, we can set the arrow attribute `shaftwidth`. Then only the vector's length changes with changing axis, but not its width. An example of this is shown in the cell below, comparing two arrows with the same length, but different shaftwidths. The posiitions of the arrows are shifted, so you can more easily see the difference. This shift is accomplished by using the attribute `pos` in the lines defining the two vectors. This position attribute defines the vector describing the location of the *tail* of the arrow, starting at the origin $(0, 0, 0)$. For example, if you give\n",
    "\n",
    "```python\n",
    "    pos = vector(2, -1, 3)\n",
    "```\n",
    "\n",
    "for the arrow position, then you would start at the origin, move 2 units in the $+x$ direction (to the right of the screen), 1 unit in the $-y$ direction (towards the bottom of the screen) and then 3 units in the $+z$ direction (towards you) -- this would be the location of the tail of the arrow. Remember that the `axis` gives the vector from the tail of the vector (i.e. the position `pos`) to the tip of the vector."
   ]
  },
  {
   "cell_type": "code",
   "execution_count": null,
   "metadata": {},
   "outputs": [],
   "source": [
    "canvas()\n",
    "\n",
    "# Create two vectors with different shaftlengths and positions\n",
    "\n",
    "arrow(pos = vector(0, 0.5, 0), axis = vector(2, 0, 0))\n",
    "arrow(pos = vector(0, -0.5, 0), axis = vector(2, 0, 0), shaftwidth = 0.1)"
   ]
  },
  {
   "cell_type": "markdown",
   "metadata": {},
   "source": [
    "Here is a list of all the attributes you have covered for arrow objects; the `color` attribute was covered for spheres in Lesson 02.\n",
    "\n",
    "| Attribute    | Description                                    |\n",
    "|--------------|------------------------------------------------|\n",
    "| `axis`       | Vector from tail to tip of arrow (vector)      |\n",
    "| `color`      | Arrow color (<code>color.xxx</code> or vector) |\n",
    "| `pos`        | Position of arrow tail (vector)                |\n",
    "| `shaftwidth` | Determines arrow thickness (scalar)            |\n",
    "\n",
    "![The various attributes defining an `arrow` object in vPython](../img/INT_AY20_MP1_L04-Fig10-Arrow-attributes_small.png)"
   ]
  },
  {
   "cell_type": "markdown",
   "metadata": {},
   "source": [
    "# Vector addition\n",
    "\n",
    "## Using unit vector notation\n",
    "\n",
    "Now that we have discussed both unit vector notation (one way to mathematically represent a vector), and drawn arrows to show vectors in vPython, let's go back to Manhattan, so we can start talking about how to add multiple vectors. Consider the following situation:\n",
    "\t\n",
    "1. For a weekend trip, you take the train from RI into Penn Station (7th Av. and 31st St.)\n",
    "1. From there, you walk to Times Square (7th Av. and 44th St.)\n",
    "1. Finally, you meet a friend in front of the NY Public Library (5th Av. and 41st St.) for a hot dog and drink\n",
    "1. What is the total displacement in terms of streets and avenues?\n",
    "\n",
    "| Trip\t\t\t\t\t\t           | Change in avenues |Change in streets |\n",
    "|--------------------------------------|-------------------|------------------|\n",
    "| Penn Station $\\to$ Times Square      | 0\t\t\t\t   | + 13             |\n",
    "| Times Square $\\to$ NY Public Library | -2\t\t\t\t   | -3\t\t\t\t  |\n",
    "| Total\t\t\t\t\t\t           | -2\t\t\t\t   | + 10\t\t\t  |\n",
    "\n",
    "Notice what we have done here. Since avenues and streets are perpendicular, moving along a street only changes which avenue I am on, and vice versa. So, to find the total change in position, I can add the change in avenues first, then *separately* add the change in streets. These two numbers represent your displacement. This is why vector components are so powerful: whatever I do, I do them separately to the $x$ components, then to the $y$ components (and possibly the $z$, if they are there!), to get my final vector. This is because the $x, y$, and $z$ axes are all perpendicular -- moving along one of the axes does *not* change the values along the other two. If I represent my first vector as\n",
    "\n",
    "$$\n",
    "\t\\Delta{\\vec r}_1 = (0 \\ \\text{ave.}) {\\hat x} + (13 \\ \\text{st.})  {\\hat y}\n",
    "$$\n",
    "\n",
    "and my second as\n",
    "\n",
    "$$\n",
    "\t\\Delta{\\vec r}_2 = (-2 \\ \\text{ave.}) {\\hat x} + (-3 \\ \\text{st.})  {\\hat y}\n",
    "$$\n",
    "\n",
    "then the vector sum $\\Delta {\\vec r} = \\Delta {\\vec r}_1 + \\Delta {\\vec r}_2$ is\n",
    "\n",
    "$$\n",
    "    \\Delta {\\vec r} = \\Delta r_x {\\hat x} + \\Delta r_y {\\hat y} = (\\Delta r_{1, x} + \\Delta r_{2, x}) {\\hat x} + (\\Delta r_{1, y} + \\Delta r_{2, y}) {\\hat y} = (-2 \\ \\text{ave.}) {\\hat x} + (10 \\ \\text{st.})  {\\hat y}\n",
    "$$\n",
    "\n",
    "> **Problem:** Given two acceleration vectors\n",
    ">\n",
    ">$$\n",
    "\t{\\vec a}_1 = (6.20\\ \\textrm{cm/s}^2) {\\hat x} + (-7.11 \\ \\textrm{cm/s}^2) {\\hat y} + (2.63\\ \\textrm{cm/s}^2) {\\hat z} \\qquad\n",
    "\t{\\vec a}_2 = (-4.42\\ \\textrm{cm/s}^2) {\\hat x} + (-3.25 \\ \\textrm{cm/s}^2) {\\hat y} + (1.91\\ \\textrm{cm/s}^2) {\\hat z}\n",
    "$$\n",
    ">\n",
    "> what is the resultant vector ${\\vec a}_{tot} = {\\vec a}_1 + {\\vec a}_2$?\n",
    ">\n",
    "> 1. $(-10.6\\ \\textrm{cm/s}^2) {\\hat x} + (-3.86 \\ \\textrm{cm/s}^2) {\\hat y} + (4.54\\ \\textrm{cm/s}^2) {\\hat z}$\n",
    "> 1. $(1.78\\ \\textrm{cm/s}^2) {\\hat x} + (-3.86 \\ \\textrm{cm/s}^2) {\\hat y} + (0.720\\ \\textrm{cm/s}^2) {\\hat z}$\n",
    "> 1. $(1.78\\ \\textrm{cm/s}^2) {\\hat x} + (-10.4 \\ \\textrm{cm/s}^2) {\\hat y} + (4.54\\ \\textrm{cm/s}^2) {\\hat z}$\n",
    "> 1. $(10.6\\ \\textrm{cm/s}^2) {\\hat x} + (10.4 \\ \\textrm{cm/s}^2) {\\hat y} + (-0.720\\ \\textrm{cm/s}^2) {\\hat z}$\n",
    "> 1. $(10.6\\ \\textrm{cm/s}^2) {\\hat x} + (-3.86 \\ \\textrm{cm/s}^2) {\\hat y} + (0.720\\ \\textrm{cm/s}^2) {\\hat z}$\n",
    "\n",
    "The next problem features solving for an unknown vector, starting from a vector equation. If you use addition and subtraction of vectors, you can solve this just like you would a scalar equation. However, you can *not* multiply or divide vectors!\n",
    "\n",
    "> **Problem:** Suppose you have two force vectors ${\\vec F}_A$ and ${\\vec F}_B$, such that\n",
    ">\n",
    "> $$\n",
    "\t\t{\\vec F}_A + {\\vec F}_B = {\\vec F}_{net}\n",
    "$$\n",
    ">\n",
    "> In addition, you know that\n",
    ">\n",
    "> $$\n",
    "    {\\vec F}_A = (-9.15\\ \\textrm{N}) {\\hat x} + (4.77 \\ \\textrm{N}) {\\hat y} + (-1.38\\ \\textrm{N}) {\\hat z}\t\\qquad\n",
    "\t{\\vec F}_{net} = (-6.92\\ \\textrm{N}) {\\hat x} + (3.36 \\ \\textrm{N}) {\\hat y} + (5.01\\ \\textrm{N}) {\\hat z}\n",
    "$$\n",
    ">\n",
    "> What is the vector ${\\vec F}_B$ (in N) in unit vector notation?\n",
    "\n",
    "## Vector sums in vPython\n",
    "   \n",
    "Let's go back to calculating the sum of vectors using vPython. Suppose we are given the vectors\n",
    "\n",
    "$$\n",
    "    {\\vec A} = 2 {\\hat x} + 3{\\vec y} - {\\hat z} \\qquad\n",
    "    {\\vec B} = -4 {\\hat x} + {\\vec y} + 5{\\hat z}\n",
    "$$\n",
    "\n",
    "and we want to find the vector sum ${\\vec C} = {\\vec A} + {\\vec B}$. In vPython, the code for this is in the next cell. First, try calculating the result yourself, then run the cell below and check to see if the computer prints out the answer you expect."
   ]
  },
  {
   "cell_type": "code",
   "execution_count": null,
   "metadata": {},
   "outputs": [],
   "source": [
    "# Vector addition\n",
    "\n",
    "A = vector(2, 3, -1)\n",
    "B = vector(-4, 1, 5)\n",
    "C = A + B\n",
    "\n",
    "print(C)"
   ]
  },
  {
   "cell_type": "markdown",
   "metadata": {},
   "source": [
    "Note that reversing direction (${\\vec A} \\to -{\\vec A}$) and more complicated additions (such as ${\\vec A} - {\\vec B}$ or ${\\vec A} + 2{\\vec B}$) can be constructed from just scalar multiplication and vector addition.\n",
    "\n",
    "> **Problem:** Write down the vector ${\\vec A} - 2 {\\vec B}$ in unit vector notation.\n",
    "\n",
    "Using the vector variables `A` and `B` from the last cell, we have that `A - 2B` is"
   ]
  },
  {
   "cell_type": "code",
   "execution_count": null,
   "metadata": {},
   "outputs": [],
   "source": [
    "# Print the components of the vector A - 2B\n",
    "\n",
    "print(A - 2 * B)"
   ]
  },
  {
   "cell_type": "markdown",
   "metadata": {},
   "source": [
    "> **Important**: Note that we did not have to redefine `A` and `B`, since the computer remembered them from a previous cell. This is an important lesson -- your notebooks will keep track of all the variables you define in previous cells (if you don't change them in other cells). In fact, the value of each variable will be from the last cell you ran which defined or changed it, regardless of the order you run the cells. So be careful! These notebooks are intended to be run in order, but if you need to go back, make sure you keep track of what was defined before you run a new cell."
   ]
  },
  {
   "cell_type": "markdown",
   "metadata": {},
   "source": [
    "## Showing vector sums with arrows\n",
    "\n",
    "Recall that the 3d position of the tail of a vector `aVect` in vPython is given by `aVect.pos`. The variable `aVect.axis` describes how to get to the tip of the vector, when starting from the tail. Thus, the 3d position of the tip of the vector is the vector sum `aVect.pos + aVect.axis`.\n",
    "\n",
    "![Finding the location of the tip of an `arrow` object in vPython](../img/INT_AY20_MP1_L05_Fig01-Arrow_attributes_small.png)\n",
    "\n",
    "This is an key conceptual point, so let's write it out mathematically, just to make sure you get the idea. There is a special point called the \"origin\", which has coordinate $(0, 0, 0)$. The tail of the arrow (i.e. the point `aVect.pos`) will have a position vector ${\\vec r}_{tail}$ given relative to the origin; the same thing is true for the tip of the arrow, with position ${\\vec r}_{tip}$. Then the arrow `aVect` itself represents a vector ${\\vec A}$, so that starting from the tail and moving along ${\\vec A}$, you reach the tip. As an equation, this says\n",
    "$$\n",
    "    {\\vec r}_{tail} + {\\vec A} = {\\vec r}_{tip}\n",
    "$$\n",
    "In other words, starting at the origin, moving to the tail, and then moving along the vector ${\\vec A}$, is exactly the same as if you start from the origin and move straight to the arrow's tip. Written another way, the vector ${\\vec A}$ is just the difference between the tip and tail position vectors, or\n",
    "$$\n",
    "    {\\vec A} = {\\vec r}_{tip} - {\\vec r}_{tail}\n",
    "$$\n",
    "We are going to see variations of this equation throughout the year, so I emphasize it now. Note that it is very similar to the definition of displacement.\n",
    "\n",
    "Now back to implementing this in vPython. First, create two vectors by running the cell below."
   ]
  },
  {
   "cell_type": "code",
   "execution_count": null,
   "metadata": {},
   "outputs": [],
   "source": [
    "canvas()\n",
    "\n",
    "# Create two vectors A and B\n",
    "\n",
    "aVect = arrow(axis = vector(2, 2, -1), color = color.green, shaftwidth = 0.1)\n",
    "bVect = arrow(axis = vector(3, -3, 0), color = color.blue, shaftwidth = 0.1)"
   ]
  },
  {
   "cell_type": "markdown",
   "metadata": {},
   "source": [
    "Now we want to add these two vectors together. When we created the vectors, their tails were both at the same location, so we need to move one of the vectors so that its tail is at the tip of the other. Beneath the lines already given in the cell above, type in the code\n",
    "\n",
    "```python\n",
    "    bVect.pos = aVect.pos + aVect.axis\n",
    "```\n",
    "\n",
    "to move the tail of B to the tip of A. This changes `bVect.pos` so that the tail of vector ${\\vec B}$ is moved to the tail of vector ${\\vec A}$, then along the vector ${\\vec A}$ itself until it is at the tip of ${\\vec A}$, as described above. Run the cell again to make sure this looks right.\n",
    "\n",
    "Now we create a third vector ${\\vec R} = {\\vec A} + {\\vec B}$, the vector sum of the previous two vectors. We want the tail of ${\\vec R}$ to be at the tail of ${\\vec A}$, so we define `rVect.pos = aVect.pos`. We also want the tip of ${\\vec R}$ to be at the tip of ${\\vec B}$, so we add the axes of the two vectors ${\\vec A}$ and ${\\vec B}$ -- this moves the tip of ${\\vec R}$ along ${\\vec A}$ and then along ${\\vec B}$. So we want \n",
    "\n",
    "```python\n",
    "    rVect.axis = aVect.axis + bVect.axis\n",
    "```\n",
    "\n",
    "Run the cell below to create ${\\vec R}$ in the canvas you used earlier, and then print out its components."
   ]
  },
  {
   "cell_type": "code",
   "execution_count": null,
   "metadata": {},
   "outputs": [],
   "source": [
    "# Draw the resultant vector R = A + B\n",
    "\n",
    "rVect = arrow(pos = aVect.pos, axis = aVect.axis + bVect.axis, \\\n",
    "              color = color.red, shaftwidth = 0.1)\n",
    "\n",
    "# Print the components of R\n",
    "\n",
    "print(rVect.axis)"
   ]
  },
  {
   "cell_type": "markdown",
   "metadata": {},
   "source": [
    "Note that we could have done it the other way around, so that we move the tail of ${\\vec R}$ to the tail of ${\\vec B}$ and then add the two axes together to move the tip of ${\\vec R}$ to the tip of ${\\vec A}$. The cell below does exactly that; the only difference is that it is the position of `aVect` that is moved, not `bVect`, as you did in the cells above."
   ]
  },
  {
   "cell_type": "code",
   "execution_count": null,
   "metadata": {},
   "outputs": [],
   "source": [
    "canvas()\n",
    "\n",
    "# Create two vectors A and B\n",
    "\n",
    "aVect = arrow(axis = vector(2, 2, -1), color = color.green, shaftwidth = 0.1)\n",
    "bVect = arrow(axis = vector(3, -3, 0), color = color.blue, shaftwidth = 0.1)\n",
    "\n",
    "# Move the tail of A to the tip of B\n",
    "\n",
    "aVect.pos = bVect.pos + bVect.axis\n",
    "\n",
    "# Draw the resultant vector R = A + B\n",
    "\n",
    "rVect = arrow(pos = bVect.pos, axis = aVect.axis + bVect.axis, \\\n",
    "              color = color.red, shaftwidth = 0.1)\n",
    "\n",
    "# Print the components of R\n",
    "\n",
    "print(rVect.axis)"
   ]
  },
  {
   "cell_type": "markdown",
   "metadata": {},
   "source": [
    "In this case, the tails of the blue vector ${\\vec B}$ and the red vector ${\\vec R}$ are at the same place, while the tail of the green vector ${\\vec A}$ is where the tip of the blue vector ${\\vec B}$ is."
   ]
  },
  {
   "cell_type": "markdown",
   "metadata": {},
   "source": [
    "## Practice: Vector difference\n",
    "\n",
    "Using the code in the cell below, you will find the vector *difference* of two vectors, and show it as an arrow in vPython. Specifically, suppose we have that ${\\vec M} + {\\vec N} = {\\vec P}$, but you only know ${\\vec M}$ and ${\\vec P}$. You can then find ${\\vec N}$ as ${\\vec N} = {\\vec P} - {\\vec M}$. In the next cell is the skeleton for vPython code to subtract two vectors, which you will change to find ${\\vec N}$.\n",
    "\n",
    "1. Pick six random numbers to define the components of the vectors ${\\vec M}$ and ${\\vec P}$. Choose at least some of them to be *negative*! These will go in the vectors for the axis attributes `mVect.axis` and `pVect.axis`. If you run the cell at this point, you will have two vectors starting at the same point.\n",
    "1. Your next step is to create a vector ${\\vec N}$ so that the tail of ${\\vec N}$ is at the tip of ${\\vec M}$. You have to do this by defining the position attribute of ${\\vec N}$, that is, by defining the attribute `nVect.pos`. Think about how you might use the attributes `mVect.pos` and `mVect.axis` to do this. Run your code to make sure you have accomplished this goal.\n",
    "1. The vector ${\\vec N}$ has its tail in the correct spot, but not its tip, which should be in the same position as the tip of ${\\vec P}$. Define the attribute `nVect.axis` so that this is true. This attribute will depend on the `axis` attributes of `mVect` and `pVect`.\n",
    "1. Print the vector components of the red vector ${\\vec P}$, and confirm they are what you expect."
   ]
  },
  {
   "cell_type": "code",
   "execution_count": null,
   "metadata": {},
   "outputs": [],
   "source": [
    "canvas()\n",
    "\n",
    "# Fill in the vector components for mVect.axis and nVect.axis\n",
    "\n",
    "mVect = arrow(axis = vector(), color = color.magenta, shaftwidth = 0.1)\n",
    "pVect = arrow(axis = vector(), color = color.white, shaftwidth = 0.1)\n",
    "\n",
    "# Remove the '#' at the beginning of the line below which defines nVect,\n",
    "# and define nVect.pos so that the tail of vector N is at the tip of vector M.\n",
    "# This will create a vector with the incorrect size and direction for nVect.\n",
    "\n",
    "#nVect = arrow(color = color.green, shaftwidth = 0.1)\n",
    "\n",
    "# Remove the '#' at the beginning of the line below which defines nVect.axis,\n",
    "# and define nVect.axis so that the tip of the vector N touches the tip of vector P.\n",
    "\n",
    "#nVect.axis = \n",
    "\n",
    "# Print out the vector components of N.\n",
    "\n",
    "print()"
   ]
  },
  {
   "cell_type": "markdown",
   "metadata": {},
   "source": [
    "## Practice: Adding three vectors\n",
    "\n",
    "Below is the skeleton for vPython code to add three vectors. You will fill in the remaining code to find the vector sum of the three vectors. Here, the starting vectors are ${\\vec F}, {\\vec G}$ and ${\\vec H}$, and you will draw their vector sum ${\\vec R} = {\\vec F} + {\\vec G} + {\\vec H}$ in vPython.\n",
    "\n",
    "1. Pick nine random numbers to define the components of the vectors ${\\vec F}, {\\vec G}$ and ${\\vec H}$. Choose at least some of them to be *negative*! These will go in the vectors for the axis attributes `fVect.axis`, `gVect.axis`, and `hVect.axis`. If you run the cell at this point, you will have three vectors starting at the same point.\n",
    "1. Your next step is to move the tail of ${\\vec G}$ so that it is at the tip of ${\\vec F}$. You have to do this by changing the position of ${\\vec G}$, that is, by defining the attribute `gVect.pos`. As above, you will have to do this in terms of the attributes `fVect.pos` and `fVect.axis`. Run your code to make sure you have accomplished this goal.\n",
    "1. You must do something similar now with moving the tail of ${\\vec H}$ to the tip of ${\\vec G}$. Again, run your code to confirm everything you have done so far.\n",
    "1. Finally, create a fourth vector ${\\vec R} = {\\vec F} + {\\vec G} + {\\vec H}$ by defining an `arrow` called `rVect`. Make it a red vector that starts at the tail of ${\\vec F}$ and ends at the current tip of ${\\vec H}$ (i.e. after it has been moved). Its attribute `rVect.axis` will depend on the attributes of the three individual vectors. Also give `rVect` a shaftwidth of 0.1.\n",
    "1. Print the vector components of the red vector ${\\vec R}$, and confirm they are what you expect."
   ]
  },
  {
   "cell_type": "code",
   "execution_count": null,
   "metadata": {},
   "outputs": [],
   "source": [
    "canvas()\n",
    "\n",
    "# Fill in the vector components for fVect.axis, gVect.axis, and hVect.axis\n",
    "\n",
    "fVect = arrow(axis = vector(), color = color.cyan, shaftwidth = 0.1)\n",
    "gVect = arrow(axis = vector(), color = color.yellow, shaftwidth = 0.1)\n",
    "hVect = arrow(axis = vector(), color = color.orange, shaftwidth = 0.1)\n",
    "\n",
    "# Remove the '#' at the beginning of the line below which defines gVect.pos,\n",
    "# and define gVect.pos so that the tail of vector G is at the tip of vector F.\n",
    "\n",
    "#gVect.pos = \n",
    "    \n",
    "# Remove the '#' at the beginning of the line below which defined hVect.pos,\n",
    "# and define hVect.pos so that the tail of vector H is at the tip of vector G.\n",
    "\n",
    "#hVect.pos = \n",
    "\n",
    "# Define a new vector R. Have it start at the tail of F, and end where the tip\n",
    "# of H is now. Give it a red color, and a shaftwidth of 0.1\n",
    "\n",
    "#rVect = arrow()\n",
    "\n",
    "# Print out the vector components of R.\n",
    "\n",
    "print()"
   ]
  },
  {
   "cell_type": "markdown",
   "metadata": {},
   "source": [
    "# Summary\n",
    "\n",
    "In this lesson, you have learned about vectors, one of the fundamental objects we will use throughout this course to describe both the motion of objects -- such as position, velocity, and acceleration -- and the properties that determine that motion -- for example, momentum, forces, and fields. The technique of graphical addition, either drawing by hand or using vPython to create the arrows can demonstrate the appearance of the scalar multiple of a vector, or of a vector sum. These methods will be put in practice often (starting with the next lesson!), so you should make sure you have a firm grasp of these topics.\n",
    "\n",
    "After this lesson, you should be able to\n",
    "\t\t\n",
    "* Using graphical vector methods, add or subtract vectors\n",
    "* Given the components of a vector,\n",
    "    - write the vector in proper unit vector notation\n",
    "    - multiply the vector by a scalar\n",
    "* Given the components of two or more vectors, find the vector sum of the vectors\n",
    "* Create an arrow in vPython\n",
    "* Show the vector sum of two or more vectors using vPython arrows"
   ]
  }
 ],
 "metadata": {
  "kernelspec": {
   "display_name": "Python 3",
   "language": "python",
   "name": "python3"
  },
  "language_info": {
   "codemirror_mode": {
    "name": "ipython",
    "version": 3
   },
   "file_extension": ".py",
   "mimetype": "text/x-python",
   "name": "python",
   "nbconvert_exporter": "python",
   "pygments_lexer": "ipython3",
   "version": "3.7.1"
  },
  "toc": {
   "base_numbering": 1,
   "nav_menu": {},
   "number_sections": true,
   "sideBar": true,
   "skip_h1_title": false,
   "title_cell": "Table of Contents",
   "title_sidebar": "Contents",
   "toc_cell": false,
   "toc_position": {},
   "toc_section_display": true,
   "toc_window_display": false
  }
 },
 "nbformat": 4,
 "nbformat_minor": 2
}
