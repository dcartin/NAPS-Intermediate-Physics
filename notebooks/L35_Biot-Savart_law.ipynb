{
 "cells": [
  {
   "cell_type": "markdown",
   "id": "affiliated-tract",
   "metadata": {},
   "source": [
    "# Biot-Savart law\n",
    "\n",
    "What we now call \"electricity\" and \"magnetism\" have been familiar to many for over two thousand years. However, for much of that time, they were interesting effects, and not much else; there was no theory behind the existence of electric and magnetic properties. In fact, although some had suspected a relationship between them, nothing definite was known. This began to change in the 18th and 19th centuries, as technology advanced to the point where they could be studied. In particular, with the development of the electric battery by Volta in 1800, a continuous electric current was possible.\n",
    "\n",
    "A bridge between electricity and magnetism was first built by the efforts of the Danish physicist and chemist Hans Christian Oersted, who did the necessary experiments around 1820. In these, he showed that a constant electric current through a wire produced a magnetic field. Again, it is useful to take a moment and think how important this result was. Although electric and magnetic fields have some similarities (as discussed in Lesson 34), this does not necessarily mean they are one and the same phenomenon. However, it was the results of Oersted, and many others in the next few years, who conclusively showed that we should not think of \"electricity\" and \"magnetism\" separately, but instead to put it into \"electromagnetism\".\n",
    "\n",
    "Although we will not get into this further in this course, the unification of electricity and magnetism was an important event in the history of physics. Over the next 175 years or so, the main course of theoretical physics was a similar path of unification, using many mathematical ideas first developed for electromagnetism. The fruits of this are in what is known as the Standard Model of particle physics, joining electromagnetism together with the strong nuclear force (keeping nuclei together) and the weak nuclear force (responsible for radioactive decay). The Standard Model uses the idea of fields as a basic component, and represents our best current knowledge of how fundamental physics works.\n",
    "\n",
    "In this lesson, we will answer a basic question: where do magnetic fields come from? Shortly after Oersted published his experiments, a key part of the answer was found by two physicists, Jean-Baptiste Biot and Felix Savart, building off the idea of the motion of electric charge in a current giving a magnetic field. We will explore their results in this lesson.\n",
    "\n",
    "## Overview\n",
    "\n",
    "Here are the objectives for this lesson:\n",
    "\n",
    "* State the Biot-Savart law\n",
    "* Find the magnetic field at a given distance away from a long, straight wire.\n",
    "* Calculate the magnetic field due to a current of a given shape."
   ]
  },
  {
   "cell_type": "markdown",
   "id": "fifteen-navigation",
   "metadata": {},
   "source": [
    "## The long, straight wire\n",
    "\n",
    "Before we state the Biot-Savart law, let's first talk about what Oersted found in his experiments. Suppose we have a long, straight wire; basically, we are considering a straight wire whose length is much greater than its radius (or thickness). After some confusion about what was happening, Oersted finally realized that the magnetic field around the wire is circular. In other words, we would say that the magnetic field lines are circles, with their center at the wire itself. You can see this in the video given below ([source](https://commons.wikimedia.org/w/index.php?title=File%3A17._%D0%95%D1%81%D1%82%D0%B5%D1%80%D0%B4%D0%BE%D0%B2_%D0%B5%D0%BA%D1%81%D0%BF%D0%B5%D1%80%D0%B8%D0%BC%D0%B5%D0%BD%D1%82.ogv)). When there is no current through the wire, the compass points in the direction of the Earth's magnetic field. However, when the voltage source is turned on, and current flows through the wire, the compass shifts to point in the direction of the much stronger magnetic field of the wire."
   ]
  },
  {
   "cell_type": "code",
   "execution_count": 3,
   "id": "extraordinary-crime",
   "metadata": {
    "tags": [
     "remove-input"
    ]
   },
   "outputs": [
    {
     "data": {
      "text/html": [
       "\n",
       "        <iframe\n",
       "            width=\"600\"\n",
       "            height=\"400\"\n",
       "            src=\"https://commons.wikimedia.org/wiki/File:17._%D0%95%D1%81%D1%82%D0%B5%D1%80%D0%B4%D0%BE%D0%B2_%D0%B5%D0%BA%D1%81%D0%BF%D0%B5%D1%80%D0%B8%D0%BC%D0%B5%D0%BD%D1%82.ogv?embedplayer=yes\"\n",
       "            frameborder=\"0\"\n",
       "            allowfullscreen\n",
       "        ></iframe>\n",
       "        "
      ],
      "text/plain": [
       "<IPython.lib.display.IFrame at 0x1d2815f9490>"
      ]
     },
     "execution_count": 3,
     "metadata": {},
     "output_type": "execute_result"
    }
   ],
   "source": [
    "from IPython.display import IFrame\n",
    "\n",
    "IFrame(src=\"https://commons.wikimedia.org/wiki/File:17._%D0%95%D1%81%D1%82%D0%B5%D1%80%D0%B4%D0%BE%D0%B2_%D0%B5%D0%BA%D1%81%D0%BF%D0%B5%D1%80%D0%B8%D0%BC%D0%B5%D0%BD%D1%82.ogv?embedplayer=yes\", width=\"600\", height=\"400\")"
   ]
  },
  {
   "cell_type": "markdown",
   "id": "black-republican",
   "metadata": {},
   "source": [
    "The magnetic field lines for such a wire look like those shown in the figure below.\n",
    "\n",
    "![Magnetic field lines for a long, straight wire](../img/INT_AY22_L35_Fig01_B_field_long_wire.pdf)\n",
    "\n",
    "Notice the relationship between the direction of the current $I$ through the wire, and the circular magnetic field lines around the wire. This is given by a version of the right-hand rule. Imagine that you are grabbing the wire with your right hand. When you point the thumb of your right hand in the direction of the wire's current, your fingers will naturally curl in the direction of the magnetic field lines. For example, if you see the current moving upward, then with your right thumb pointing upward as well, your fingers will go right to left *behind* the wire, and left to right *in front of* the wire. We will see later in this lesson how to relate this to the right-hand rule we saw in Lesson 34 for the magnetic force.\n",
    "\n",
    "PROBLEMS; AMPERE'S FORCES ON WIRES"
   ]
  },
  {
   "cell_type": "markdown",
   "id": "transparent-drink",
   "metadata": {},
   "source": [
    "## The Biot-Savart law\n",
    "\n",
    "As we saw, Oersted found that the magnetic field lines around a long, straight wire are circles centered on the wire. So how can we extend this to more complicated wires? We will follow a similar path to what we have done with previous fields: build up the complicated cases as a sum of a lot of simple cases. In particular, imagine that we have a small bit of wire; this is represented by the vector $\\Delta {\\vec \\ell}$, where $\\Delta \\ell$ is a small length. Following through this wire is a current $I$. The direction of the vector $\\Delta {\\vec \\ell}$ gives the direction of the (conventional) current.\n",
    "\n",
    "Now, imagine that we want to find the magnetic field vector at a point $P$. To do this, we need the position vector of $P$ relative to the wire. This is given by ${\\vec r}$ -- this vector *starts* at the center of the wire $\\Delta {\\vec \\ell}$, and points *towards* the point $P$. To see this set-up, run the program below. The green cylinder is the wire, with the current shown by the white arrow inside of it. The position vector ${\\vec r}$ is the yellow arrow from the wire to the point $P$ to the left of the screen."
   ]
  },
  {
   "cell_type": "code",
   "execution_count": 4,
   "id": "rolled-puppy",
   "metadata": {
    "tags": [
     "remove-input"
    ]
   },
   "outputs": [
    {
     "data": {
      "text/html": [
       "\n",
       "        <iframe\n",
       "            width=\"100%\"\n",
       "            height=\"600\"\n",
       "            src=\"https://trinket.io/embed/glowscript/75e33686c5?showInstructions=true\"\n",
       "            frameborder=\"0\"\n",
       "            allowfullscreen\n",
       "        ></iframe>\n",
       "        "
      ],
      "text/plain": [
       "<IPython.lib.display.IFrame at 0x1d2815f9460>"
      ]
     },
     "execution_count": 4,
     "metadata": {},
     "output_type": "execute_result"
    }
   ],
   "source": [
    "from IPython.display import IFrame\n",
    "\n",
    "IFrame(src=\"https://trinket.io/embed/glowscript/75e33686c5?showInstructions=true\", width=\"100%\", height=\"600\")"
   ]
  },
  {
   "cell_type": "markdown",
   "id": "according-greece",
   "metadata": {},
   "source": [
    "Now, according to Biot and Savart, the current in the wire will then produce a magnetic field $\\Delta {\\vec B}$ at the point $P$, given by\n",
    "\n",
    "$$\n",
    "    \\Delta {\\vec B} = \\frac{\\mu_0}{4\\pi} \\frac{I \\Delta {\\vec \\ell} \\times {\\hat r}}{r^2}\n",
    "$$\n",
    "\n",
    "There is a lot we have seen before here, but let's break it down, since it is put together differently than the corresponding equations for the gravitational and electric fields. As Oersted saw, the magnetic field size depends on the value of the current, so it is appropriate it appears in the numerator. In the denominator, we also see the usual $r^2$ distance dependence we would expect from an inverse-square law. Finally, we also have a new physical constant, the **vacuum permeability** $\\mu_0$, given by\n",
    "\n",
    "$$\n",
    "    \\mu_0 = 1.25663706212 \\times 10^{−6} \\textrm{ N/m}\n",
    "$$\n",
    "\n",
    "This constant gives the relationship between the sources of a magnetic field, and the size of the field created by that field. A fun fact: this constant used to be defined as *exactly* $4\\pi \\times 10^{-7}$ N/m, but after the SI unit system was redefined in 2019, this is no longer true. However, it is *awfully* close, so I will often pretend that this definition still holds.\n",
    "\n",
    "```{admonition} Problem\n",
    ":class: hint\n",
    "If I use $\\mu_0 = 4\\pi \\times 10^{-7}$ N/m$, what is the error, compared to the actual defined value $\\mu_0$ given above?\n",
    "```\n",
    "\n",
    "```{toggle}\n",
    "*Answer:* The error is given by $\\mu_0/(4\\pi) - 1 = 5.44 \\times 10^{-10}$. Good enough!\n",
    "```\n",
    "\n",
    "However, Oersted also saw that the magnetic field lines were circles. How do we get that from the vector product above? Well, remember that the vector product ${\\vec A} \\times {\\vec B}$ is always perpendicular to the plane defined by the vectors ${\\vec A}$ and ${\\vec B}$. This is what we get here. In the program above, the vector $\\Delta {\\vec \\ell}$ along the wire points in the $+y$ direction. The position vector ${\\vec r}$, from the wire to the point $P$, is in the $-x$ direction, which means that the unit vector ${\\hat r}$ points in the same direction. So, using the right-hand rule with the vector product $\\Delta {\\vec \\ell} \\times {\\hat r}$ give that it points in the $+z$ axis. Notice that this is exactly what I said earlier with the \"right-hand rule\" using currents and the circular magnetic fields! Point your thumb in the direction of the current ($+y$), and your fingers will naturally point towards you on the left side of the wire."
   ]
  },
  {
   "cell_type": "markdown",
   "id": "falling-gambling",
   "metadata": {},
   "source": [
    "## Magnetic field at center of a circular wire\n",
    "\n",
    "Let's now go through our first example of using the Biot-Savart law: finding the magnetic field at the center of a circular wire with a current through it. You might be surprised that we are not finding the field at some point near a long, straight wire, but it turns out the circular loop of wire is actually an easier place to start! The physical situation is shown in the figure below, where the loop has a radius $R$ and a current $I$ flowing through it. We want to find the total magnetic field ${\\vec B}$ at the point $P$, at the center of the circular wire. To do this, we can pretend that the circle is a regular polygon with a large number of sides $N$, and add up the contributions from the current flowing through each of these sides. Then, making $N$ larger and larger will get us closer to the final answer.\n",
    "\n",
    "For each side of our polygon, the length vector ${\\vec L}$ is perpendicular to the radius vector ${\\vec r}$. Thus, if ${\\vec r} = (R \\cos \\theta) {\\hat x} + (R \\sin \\theta) {\\hat y}$, then $\\Delta {\\vec \\ell} = [(\\Delta \\ell) \\sin \\theta] {\\hat x} + [-(\\Delta \\ell) \\cos \\theta] {\\hat y}$. Notice that I have chosen the direction of $\\Delta {\\vec \\ell}$ so that the current (with $I > 0$) flows in the counterclockwise direction, when we look down from the $+z$ axis.\n",
    "\n",
    "```{admonition} Problem\n",
    "Use the scalar product to show that the vectors ${\\vec r} and $\\Delta {\\vec \\ell}$ just given are perpendicular for all angles $\\theta$.\n",
    "```\n",
    "\n",
    "We want to use the unit vector ${\\hat r}$ instead of the position vector ${\\vec r}$, so dividing ${\\vec r}$ by its magnitude $R$, we have ${\\hat r} = (\\cos \\theta) {\\hat x} + (\\sin \\theta) {\\hat y}$. Thus, finding the contribution from a single side with the Biot-Savart law,\n",
    "\n",
    "$$\n",
    "    \\Delta {\\vec B} = \\frac{\\mu_0 I}{4 \\pi R^2} \\biggl\\{ [(\\Delta \\ell) \\sin \\theta] {\\hat x} + [-(\\Delta \\ell) \\cos \\theta] {\\hat y} \\biggr\\} \\times \\biggl\\{ (\\cos \\theta) {\\hat x} + (\\sin \\theta) {\\hat y} \\biggr\\}\n",
    "$$\n",
    "\n",
    "With the trigonometric identity $\\sin^2 \\theta + \\cos^2 \\theta = 1$, this gives\n",
    "\n",
    "$$\n",
    "    \\Delta {\\vec B} = \\biggl( \\frac{\\mu_0 I \\Delta \\ell}{4 \\pi R^2} \\biggr) {\\hat z}\n",
    "$$\n",
    "\n",
    "Finally, let's add up the contributions to get the total magnetic field. As we talked about above, we really want to take the limit with a very large number of sides $N$, so\n",
    "\n",
    "$$\n",
    "    {\\vec B} = \\lim_{N \\to \\infty} \\sum \\Delta {\\vec B}\n",
    "$$\n",
    "\n",
    "So what does this limit mean? Well, if the number of sides increases, then the sum of all the side lengths $\\sum \\Delta \\ell$ is going to approach the circumference $2 \\pi R$ of the circular loop! This means that when we take the limit,\n",
    "\n",
    "$$\n",
    "    {\\vec B} = \\lim_{N \\to \\infty} \\sum \\biggl( \\frac{\\mu_0 I \\Delta \\ell}{4 \\pi R^2} \\biggr) {\\hat z} = \\biggl[ \\frac{\\mu_0 I}{4 \\pi R^2} (2 \\pi R) \\biggr] {\\hat z} = \\biggl( \\frac{\\mu_0 I}{2 R} \\biggr) {\\hat z}\n",
    "$$\n",
    "\n",
    "This gives us our first magnetic field calculation using the Biot-Savart law. Notice that one factor of $R$ has cancelled out, so the field magnitude depends on $1/R$, not $1/R^2$ -- doubling the size of the loop only decreases the magnetic field by one-half, rather than one-fourth, as we might expect from the Biot-Savart law.\n",
    "\n",
    "The vPython program below runs through the same type of calculation, but you can see in more detail how the limiting process gives the correct answer. Specifically, you can choose the number of sides $N > 3$ to use for summing up the individual side contributions to the total magnetic field. Other than that, the calculation is as outlined above. Run the program, and verify that the magnitude of the magnetic field approaches the value you expect, as $N$ gets larger."
   ]
  },
  {
   "cell_type": "code",
   "execution_count": 7,
   "id": "controversial-restoration",
   "metadata": {
    "tags": [
     "remove-input"
    ]
   },
   "outputs": [
    {
     "data": {
      "text/html": [
       "\n",
       "        <iframe\n",
       "            width=\"100%\"\n",
       "            height=\"600\"\n",
       "            src=\"https://trinket.io/embed/glowscript/05dc2858e0?toggleCode=true&showInstructions=true\"\n",
       "            frameborder=\"0\"\n",
       "            allowfullscreen\n",
       "        ></iframe>\n",
       "        "
      ],
      "text/plain": [
       "<IPython.lib.display.IFrame at 0x1d281ae5940>"
      ]
     },
     "execution_count": 7,
     "metadata": {},
     "output_type": "execute_result"
    }
   ],
   "source": [
    "from IPython.display import IFrame\n",
    "\n",
    "IFrame(src=\"https://trinket.io/embed/glowscript/05dc2858e0?toggleCode=true&showInstructions=true\", width=\"100%\", height=\"600\")"
   ]
  },
  {
   "cell_type": "markdown",
   "id": "committed-default",
   "metadata": {},
   "source": [
    "```{admonition} Challenge\n",
    "Regardless of the choices of current $I$ and loop radius $R$, the magnetic field magnitude calculated by the program will always be less than the theoretical value derived above. Why is this?\n",
    "```"
   ]
  },
  {
   "cell_type": "markdown",
   "id": "straight-poster",
   "metadata": {},
   "source": [
    "## Magnetic field due to a long, straight wire\n",
    "\n"
   ]
  },
  {
   "cell_type": "markdown",
   "id": "exposed-benefit",
   "metadata": {},
   "source": [
    "## Summary\n",
    "\n",
    "After this lesson, you should be able to:\n",
    "\n",
    "* Do something."
   ]
  }
 ],
 "metadata": {
  "celltoolbar": "Tags",
  "kernelspec": {
   "display_name": "Python 3",
   "language": "python",
   "name": "python3"
  },
  "language_info": {
   "codemirror_mode": {
    "name": "ipython",
    "version": 3
   },
   "file_extension": ".py",
   "mimetype": "text/x-python",
   "name": "python",
   "nbconvert_exporter": "python",
   "pygments_lexer": "ipython3",
   "version": "3.8.8"
  },
  "toc": {
   "base_numbering": 1,
   "nav_menu": {},
   "number_sections": true,
   "sideBar": true,
   "skip_h1_title": false,
   "title_cell": "Table of Contents",
   "title_sidebar": "Contents",
   "toc_cell": false,
   "toc_position": {},
   "toc_section_display": true,
   "toc_window_display": false
  }
 },
 "nbformat": 4,
 "nbformat_minor": 5
}
