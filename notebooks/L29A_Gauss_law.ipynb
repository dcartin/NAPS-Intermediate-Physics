{
 "cells": [
  {
   "cell_type": "markdown",
   "metadata": {},
   "source": [
    "# Gauss' law\n",
    "\n",
    "## Overview\n",
    "\n",
    "When Michael Faraday first developed the idea that eventually became the electric field, he had in mind physical \"lines of force\" that start and stop at electric charges. Specifically, he thought of a tube beginning at a positive charge, and ending at a negative charge. Although James Clerk Maxwell, and his successors, later formalized this into a more abstract idea, the idea of field lines is a helpful one for various physical situations.\n",
    "\n",
    "One powerful method using field lines is based on the following. As I just described, field lines are pointing away from a positive charge. So, suppose we put this positive charge in a closed box, then all of the field lines that penetrate the surface of the box are pointing outward, away from the box's interior. If we say every electric field line going through the box is positive if it leaves the box, then the net sum of all of the field lines is positive. Similarly, if we replace the positive charge with a negative one, the sum is now negative, since all of the field lines are going into the box and the negative charge.\n",
    "\n",
    "Here are the objectives for this lesson:\n",
    "\n",
    "* Define the concept of a gaussian surface.\n",
    "* State Gauss' law for electrostatics.\n",
    "* Calculate the magnitude of the electric field for a symmetric charge distribution."
   ]
  },
  {
   "cell_type": "markdown",
   "metadata": {},
   "source": [
    "## Electric properties of materials\n",
    "\n",
    "For this lesson, we will divide all materials into two categories, based on their electrical properties. These are known as **conductors** and **insulators**.\n",
    "\n",
    "Conductors:\n",
    "* Charges are allowed to move about more or less freely within the substance\n",
    "* Examples -- most metallic substances\n",
    "\n",
    "Insulators:\n",
    "* Charges are not free to move\n",
    "* Examples -- glass and rubber\n",
    "\n",
    "Because charges are free to move inside a conductor, if an electric field is placed on a conductor, any mobile charges will move around until the electric field is *zero* inside the conductor.\n",
    "\n",
    "![External fields through conductors cause internal charges to rearrange themselves until the external field is cancelled out](../img/INT_AY20_MP3_L06_Fig03-Fields-inside-conductors.png)\n",
    "\n",
    "This zero internal electric field is caused by charge moving to the surface of the conductor. Note that if the conductor has an *excess* charge, that charge will create its own (external) field!"
   ]
  },
  {
   "cell_type": "markdown",
   "metadata": {},
   "source": [
    "## Electric flux\n",
    "\n",
    "Suppose there is a (flat) surface in a plane with some area $A$.\n",
    "\t\n",
    "* The **normal vector** ${\\hat n}$ to this surface is a vector that points perpendicular to the plane of the surface.\n",
    "* The **area vector** ${\\vec A}$ of the surface is a vector ${\\vec A}$ with a magnitude equal to the area of the surface, and whose direction is given by the normal vector.\n",
    "\n",
    "![The normal and area vectors for a square in the $x-y$ plane](../img/INT_AY20_MP3_L06_Fig01-Area-normal-vecs.png)\n",
    "\n",
    "The intuitive idea behind electric flux $\\Phi_E$ is to count how many electric field lines pass through an area. If you think about what this means, we want to see how much of the electric field vector is perpendicular to the surface the field passes through. Thus, the angle between the electric field and the surface will matter. This is why I defined the area vector above! If the electric field is parallel to the area vector, then the field is perpendicular to the surface, and thus \"through\" the surface. However, if the electric field is perpendicular to the area vector, then the field does not go through the surface, but is instead \"along\" the surface. This generates zero electric flux through the surface.\n",
    "\n",
    "To summarize these ideas, we can define the **electric flux** through an surface of area $A$ as the scalar product of the electric field ${\\vec E}$ and the area vector ${\\vec A}$ of the surface.\n",
    "\n",
    "* **Quantity:** electric flux $\\Phi_E$\n",
    "* **Definition:**\n",
    "$$\n",
    "\t\\Phi_E = {\\vec E} \\cdot {\\vec A}\n",
    "$$\n",
    "* **Units:** N m$^2$/C\n",
    "\n",
    "![Maximum and mininum electric flux through a surface $A$](../img/INT_AY20_MP3_L06_Fig02-Max-min-flux.png)\n",
    "\n",
    "Let's work through an example. A large, flat conducting plate is placed in an external electric field ${\\vec E} = (0.500 \\textrm{ N/C}) {\\hat x} + (0.700 \\textrm{ N/C}) {\\hat y}$. A closed surface (indicated by the dashed lines) has $L = 1.20$ m, $H = 6.00$ m, and extends a distance of 75.0 cm in the direction perpendicular to the screen. Exactly half of the surface is inside the plate in the $x$ direction. Find the electric flux through each of the six sides of the surface."
   ]
  },
  {
   "cell_type": "code",
   "execution_count": 4,
   "metadata": {},
   "outputs": [],
   "source": [
    "from vpython import arrow, box, canvas, color, vector"
   ]
  },
  {
   "cell_type": "markdown",
   "metadata": {},
   "source": [
    "If you run the next cell, you will see a three-dimensional representation of the situation in the example problem."
   ]
  },
  {
   "cell_type": "code",
   "execution_count": 21,
   "metadata": {},
   "outputs": [
    {
     "data": {
      "text/html": [
       "<div id=\"glowscript\" class=\"glowscript\"></div>"
      ],
      "text/plain": [
       "<IPython.core.display.HTML object>"
      ]
     },
     "metadata": {},
     "output_type": "display_data"
    },
    {
     "data": {
      "application/javascript": [
       "if (typeof Jupyter !== \"undefined\") { window.__context = { glowscript_container: $(\"#glowscript\").removeAttr(\"id\")};}else{ element.textContent = ' ';}"
      ],
      "text/plain": [
       "<IPython.core.display.Javascript object>"
      ]
     },
     "metadata": {},
     "output_type": "display_data"
    }
   ],
   "source": [
    "canvas()\n",
    "\n",
    "# Parameters for electric field vector arrows\n",
    "\n",
    "yStep = 1\n",
    "zStep = 1\n",
    "\n",
    "# Size of closed surface\n",
    "\n",
    "L = 1.20\n",
    "H = 6.00\n",
    "W = 3.00\n",
    "\n",
    "# Create closed surface\n",
    "\n",
    "surface = box(pos = vector(0, 0, 0), length = L, height = H, width = W, opacity = 0.5)\n",
    "\n",
    "# Create electric field vectors\n",
    "\n",
    "arrowList = []\n",
    "\n",
    "for yyy in range(int(H / yStep)):\n",
    "    for zzz in range(int(W / zStep)):\n",
    "        arrowList = arrowList + [arrow(pos = vector(-1.5, yStep * (H - 2 * yyy), zStep * (W - 2 * zzz)), \\\n",
    "                                       axis = vector(5, 5, 0), shaftwidth = 0.1, color = color.yellow)]\n",
    "        \n",
    "# Center of coordinate system\n",
    "\n",
    "center = box(pos = vector(0, 0, 0), size = vector(0.1, 0.1, 0.1), color = color.red)"
   ]
  },
  {
   "cell_type": "markdown",
   "metadata": {},
   "source": [
    "> **Problem:** A constant electric field of ${\\vec E}$ = (-113 N/C) ${\\hat x}$ + (90.3 N/C) ${\\hat y}$ + (-28.4 N/C) ${\\hat z}$ exists in a particular region. Consider a cubic surface whose center is at the origin, and whose sides are 10.0 cm in length, as shown in the figure. Find the electric flux through each of the six sides of the cubic surface. *Answers:* -0.284 N m$^2$/C (top); 0.284 N m$^2$/C (bottom); 1.13 N m$^2$/C (left); -1.13 N m$^2$/C (right); 0.903 N m$^2$/C (near); 1.13 N m$^2$/C (far)"
   ]
  },
  {
   "cell_type": "markdown",
   "metadata": {},
   "source": [
    "## Gauss' law\n",
    "\n",
    "A **gaussian surface** is a surface with no holes -- i.e. it is a *closed* surface. The point of this is that there are no field lines that can \"escape\" without going somewhere through the gaussian surface.\n",
    "\n",
    "Now let's take our intuition from the beginning of this lesson -- the number of field lines through a closed surface tells us about the total charge inside the surface -- and make it mathematical. This is the content of Gauss' law.\n",
    "\n",
    "> **Gauss' law**: The total charge $Q_{enc}$ inside of a gaussian surface is related to the electric flux $\\Phi_E$ through the surface by\n",
    ">\n",
    "> $$ \\Phi_E = \\frac{Q_{enc}}{\\epsilon_0} $$\n",
    ">\n",
    "> where the constant $\\epsilon_0$ is given by\n",
    ">\n",
    "> $$ \\epsilon_0 = 8.85 \\times 10^{-12} \\textrm{ C}^2/\\textrm{N m}^2$$\n",
    "\n",
    "Note that this constant $\\epsilon_0$ is just another way of expressing the constant $k$ we saw in Lesson 28 (Coulomb's law), since\n",
    "\n",
    "$$ k = \\frac{1}{4 \\pi \\epsilon_0} $$\n",
    "\n"
   ]
  },
  {
   "cell_type": "markdown",
   "metadata": {},
   "source": [
    "## Summary\n",
    "\n",
    "As stated in the introduction of this lesson, the concept of fields is the basis of much of modern physics. We had previously seen the gravitational field. The \"9.81 m/s$^2$\" you have memorized is just the magnitude of the Earth's gravitational field near its surface; however, such fields are present everywhere in the Universe. Now we have a similar idea for the electric field. Because most things do not have a net charge, electric fields are not as ubiquitous as the gravitational variety. But they do play a background role in how electric circuits are able to convey charges around and do useful work. The next few lessons now turn to the ideas of circuitry.\n",
    "\n",
    "After this lesson, you should be able to:\n",
    "\n",
    "* State the direction of the electric field due to a point charge.\n",
    "* Calculate the electric field at a specified point due to a collection of charges.\n",
    "* Interpret the electric field lines of a given situation."
   ]
  }
 ],
 "metadata": {
  "kernelspec": {
   "display_name": "Python 3",
   "language": "python",
   "name": "python3"
  },
  "language_info": {
   "codemirror_mode": {
    "name": "ipython",
    "version": 3
   },
   "file_extension": ".py",
   "mimetype": "text/x-python",
   "name": "python",
   "nbconvert_exporter": "python",
   "pygments_lexer": "ipython3",
   "version": "3.7.1"
  },
  "toc": {
   "base_numbering": 1,
   "nav_menu": {},
   "number_sections": true,
   "sideBar": true,
   "skip_h1_title": false,
   "title_cell": "Table of Contents",
   "title_sidebar": "Contents",
   "toc_cell": false,
   "toc_position": {},
   "toc_section_display": true,
   "toc_window_display": false
  }
 },
 "nbformat": 4,
 "nbformat_minor": 2
}
