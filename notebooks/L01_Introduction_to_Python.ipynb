{
 "cells": [
  {
   "cell_type": "markdown",
   "metadata": {},
   "source": [
    "# Introduction to Python\n",
    "\n",
    "## Overview\n",
    "\n",
    "This year in intermediate physics, you will learn the Python programming language along with many important physics concepts. Python was invented in 1990 by Guido van Rossem, a Dutch computer scientist. Python is a modern, object-oriented language which is easy to learn. All of the instructions you give the computer will be in the Python programming language. These instructions are collectively called **code**.\n",
    "\n",
    "Why are we doing this?\n",
    "\n",
    "* Physics uses tools from many other different areas -- writing, mathematics, and more recently, computer programming. Nowadays, any working scientist, mathematician, or engineer should know at least the basics of writing a computer program.\n",
    "* In Python, we can create simulations that illustrate what is happening in physical situations. This helps to understand aspects of physics that are difficult to see using other methods.\n",
    "* Both physics and computer programming involve thinking logically about a problem, and solving it in a methodical way. In particular, you must understand the physics concepts yourself before you can explain it clearly and precisely to a computer!\n",
    "* An important skill in programming is learning how to *debug* a program -- figuring out where in the program code a mistake has been made, and fixing it. Sometimes this can take a while! A similar skill is very useful in finding the error in a physics problem solution.\n",
    "\n",
    "Why Python?\n",
    "\n",
    "* Python is very common language that is relatively easy to learn, but has lots of add-ons for powerful applications.\n",
    "* There are several physics classes across the country that use Python programs in their class.\n",
    "* We will often use the vPython package, which allows us to easily create 3D visuals.\n",
    "\n",
    "Over the course of the academic year, we will use files such as these, called Jupyter \"notebooks\", where we can combine explanation like a textbook along with the ability to run Python code. This notebook goes through some of the basic concepts and Python commands we will need to study the motion of objects.\n",
    "\n",
    "As you read through this lesson, you should keep in mind the specific objectives I hope you achieve. Every lesson will have such a list, and these lists also appear in the course syllabus. You should read through the objectives carefully first thing -- don't skip it! Below is your checklist for this lesson, the things you should get out of your reading:\n",
    "\n",
    "* Print the value of a numerical variable or a string to the screen using the `print` statement.\n",
    "* Create a Python program within a Jupyter notebook.\n",
    "* Define a variable, and state the rules for Python variable names.\n",
    "* Add a comment to a program.\n",
    "* Update the value of a numerical variable.\n",
    "* Use the mathematical operators `+, -, *, /, %` to calculate the new value of a variable.\n",
    "* Use an `if` statement to check whether a logical condition is true.\n",
    "* Use a `while` loop to implement statements until a logical condition is false.\n",
    "\n",
    "If you don't feel you can do these things, you should work at it -- did you miss an important definition? Try the problems? Maybe playing around with the code cells more, and thinking of different scenarios will help."
   ]
  },
  {
   "cell_type": "markdown",
   "metadata": {},
   "source": [
    "## The `print` command\n",
    "\n",
    "For those learning a new programming language, it is traditional to first learn how to print the statement \"Hello world!\" This is known as a **string**, as opposed to an **integer** such as 5 or a floating point number (or **float**) such as 3.141592654. Together, these are known as **data types**.\n",
    "\n",
    "You will now try this out. Whenever you see a gray rectangle (a **code cell**), such as the one below, you can run Python code, and then see the output. Usually, the code is already there and ready to be run. However, to see this process in action, first select the cell below with your mouse; a green outline should appear around the cell. Type in the words\n",
    "\n",
    "```python\n",
    "    print('Hello world!')\n",
    "```\n",
    "\n",
    "You then need to run the cell to see the output. You can do this in a variety of ways.\n",
    "\n",
    "* On the menu bar at the top of this notebook, you will see a rightward facing arrow touching a vertical line. Clicking on this button when you have a cell selected will run the cell.\n",
    "* If you prefer hotkeys, pressing Shift-Enter will run the cell, then move on to select the next cell. Using Ctrl-Enter will run the cell, but *not* move on to the next cell.\n",
    "\n",
    "After your type in the code from above, trying running the cell below."
   ]
  },
  {
   "cell_type": "code",
   "execution_count": null,
   "metadata": {},
   "outputs": [],
   "source": []
  },
  {
   "cell_type": "markdown",
   "metadata": {},
   "source": [
    "If the computer prints `Hello world!` below the cell, then congratulations -- you've just run a Python command!\n",
    "\n",
    "If you *didn't* try to run this program, try it now! These notebooks are meant to be interactive -- play around with them, try different possibilities, and see what works and what doesn't. One advantage of programming is you can *see* what the consequences are of various choices. What gives you natural looking simulations, and what gives you \"bad physics\"? *You will learn best by trying*.\n",
    "\n",
    "> **A word about cells:** This notebook is made of different kinds of cells. The gray rectangles are *code* cells, while the cell you are reading right down is a *Markdown* cell (named after the typesetting format used). Sometimes you will accidently change the type of cell. To fix this, select the cell, and use the pulldown menu to the right of the double arrow at the top of the screen to change it back to its proper type. Remember, cells like this one should be \"Markdown\", while cells with Python in them should be \"Code\".\n",
    "\n",
    "Note that using double quotes at the beginning and end of the string will also work. Try changing the cell above so it reads\n",
    "\n",
    "```python\n",
    "    print(\"Hello world!\")\n",
    "```\n",
    "\n",
    "and run the cell again. The reason for this is if you need to use single or double quotes inside the string you want to print. An example would be\n",
    "\n",
    "```python\n",
    "    print('Who says \"Hello world!\" anymore?')\n",
    "```\n",
    "\n",
    "However, you can't mix single and double quotes at the beginning and end of the string. If you change the code above to read\n",
    "\n",
    "```python\n",
    "    print('Hello world!\")\n",
    "```\n",
    "\n",
    "you should get an error. Whenever you get an error like this, you can go back and edit the cell so that it works properly.\n",
    "\n",
    "> **Problem:** Try intentionally putting mismatched quotation marks in the code cell above, and run the cell. What happens? Then change the code back to proper format, and run the cell again."
   ]
  },
  {
   "cell_type": "markdown",
   "metadata": {},
   "source": [
    "## Variables\n",
    "\n",
    "Many times we need to store numerical values for use later on in the program, and change these values as the program progresses (e.g. think about the position of a moving object). This is done in programming languages by creating a **variable** and setting it equal to the value desired.\n",
    "\n",
    "A variable is given a name when it is defined, and every time you want to change or modify the variable, you can do so by using that name. The rules for variable names in Python are\n",
    "\n",
    "* The variable name must start with either a letter or the underscore (`_`) character.\n",
    "* Variable names cannot start with a number.\n",
    "* Variable names are case sensitive, so `var`, `Var`, and `VAR` are three separate variable names.\n",
    "* Variable names can only use letters, numbers, and the underscore.\n",
    "\n",
    "Although we will not see it immediately, I also use the convention that constants are given names in all capital letters. These will indicate variables that should not be changed anywhere in the code. So, if I want to define the total time a simulation will run, I may call it `MAX_TIME`. On the other hand, the current time could be another variable, such as `t`, which does change. I also tend to put the definitions of all the variables at the top of the program, so I can find them easily if I need to alter their values.\n",
    "\t\t\n",
    "Here is a Python example, creating the variable `position` and giving it a value of 5. The `print` statement verifies that the variable is set correctly."
   ]
  },
  {
   "cell_type": "code",
   "execution_count": null,
   "metadata": {},
   "outputs": [],
   "source": [
    "position = 5\n",
    "print(position)"
   ]
  },
  {
   "cell_type": "markdown",
   "metadata": {},
   "source": [
    "What happens if we run the statements given below?"
   ]
  },
  {
   "cell_type": "code",
   "execution_count": null,
   "metadata": {},
   "outputs": [],
   "source": [
    "position = 5\n",
    "print(position)\n",
    "position = 7"
   ]
  },
  {
   "cell_type": "markdown",
   "metadata": {},
   "source": [
    "Is the answer what you expected? The computer will run the statements in order, starting from top to bottom, unless the order is changed by other commands.\n",
    " \n",
    "We can also print the name of the variable (as a string) along with the value of the variable. Try running the commands below. Make sure there is a comma outside the string!"
   ]
  },
  {
   "cell_type": "code",
   "execution_count": null,
   "metadata": {},
   "outputs": [],
   "source": [
    "position = 7\n",
    "print('position = ', position)"
   ]
  },
  {
   "cell_type": "markdown",
   "metadata": {},
   "source": [
    "As we get into more complicated programs, using `print` statements can help debug the program, if something doesn't go quite right, or you get error messages."
   ]
  },
  {
   "cell_type": "markdown",
   "metadata": {},
   "source": [
    "## Mathematical operators\n",
    "\n",
    "We can use mathematical operations on variables: the symbols `+, -, *` and `/` stand for addition, subtraction, multiplication, and division. Try running the lines below."
   ]
  },
  {
   "cell_type": "code",
   "execution_count": null,
   "metadata": {},
   "outputs": [],
   "source": [
    "x = 5\n",
    "y = 7\n",
    "print(x * y)"
   ]
  },
  {
   "cell_type": "markdown",
   "metadata": {},
   "source": [
    "> **Problem:** Change the `*` to the other three mathematical operators, and make sure the answer is what you expect.\n",
    "\n",
    "The operator `%` finds the remainder after dividing by a number. Run the two examples below."
   ]
  },
  {
   "cell_type": "code",
   "execution_count": null,
   "metadata": {},
   "outputs": [],
   "source": [
    "print(7 % 2)\n",
    "print(12 % 3)"
   ]
  },
  {
   "cell_type": "markdown",
   "metadata": {},
   "source": [
    "Each line will show the result of the individual print statements on their own line. The first prints 1, since $7 = 3 \\times 2 + 1$, while the second prints 0, since $12 = 4 \\times 3$, with no remainder."
   ]
  },
  {
   "cell_type": "markdown",
   "metadata": {},
   "source": [
    "## Adding comments\n",
    "\n",
    "With longer programs, it helps to add in comments in English that the computer does not try to read as commands. See the example below."
   ]
  },
  {
   "cell_type": "code",
   "execution_count": null,
   "metadata": {},
   "outputs": [],
   "source": [
    "x = 5     # Sets value of the variable 'x'"
   ]
  },
  {
   "cell_type": "markdown",
   "metadata": {},
   "source": [
    "Because the computer does not read the comments as commands, we can do things like the commands below. Is the result of running this what you expect?"
   ]
  },
  {
   "cell_type": "code",
   "execution_count": null,
   "metadata": {},
   "outputs": [],
   "source": [
    "x = 5     # x = 7\n",
    "print(x)"
   ]
  },
  {
   "cell_type": "markdown",
   "metadata": {},
   "source": [
    "Good code features comments, so that if it is read by someone else (or you, a long time in the future!), there is a lot of explanation of how the program works. This becomes more important as your code gets more complicated. You should get into the habit of including comments to both explain the programming code itself, and as notes to understand the variables. For example, one comment may say a particular part of the code is creating the motion of an object in the simulation; another comment may tell the reader that the SI units for the variable `velocity` are m/s."
   ]
  },
  {
   "cell_type": "markdown",
   "metadata": {},
   "source": [
    "## `if` statements\n",
    "\n",
    "Our short-term goal is to learn enough Python programming to simulate the motion of an object, such as a ball; you will do this in Lesson 02 (units and velocity). This means we need to learn two types of new commands: the `while` loop and the `if` statement.\n",
    "\n",
    "An `if` statement will check to see if a certain condition is true. If it is, the next indented lines will be executed. Otherwise, the computer will move to the next line that is **not** indented and continue from there. Consider the code in the cell below. Notice that the colon `:` is important -- it tells the computer the `if` statement is done. Again, everything that is *indented* below the `if` statement will be run if the `if` statement is satisfied."
   ]
  },
  {
   "cell_type": "code",
   "execution_count": null,
   "metadata": {},
   "outputs": [],
   "source": [
    "nextNum = 3\n",
    "if nextNum < 5:      # Is nextNum less than 5?\n",
    "    print('Yes!')"
   ]
  },
  {
   "cell_type": "markdown",
   "metadata": {},
   "source": [
    "Go back to the cell above, and change the definition of `nextNum` to 7, then run the code again. What happens? Sometimes we want to do something special if the `if` statement is `not` true. We can do this using an `else` statement, as seen below. Run the cell below, and see what happens."
   ]
  },
  {
   "cell_type": "code",
   "execution_count": null,
   "metadata": {},
   "outputs": [],
   "source": [
    "nextNum = 7\n",
    "if nextNum > 5:\n",
    "    print('nextNum is greater than 5')          # nextNum is larger than 5\n",
    "else:\n",
    "    print('nextNum is not greater than 5')      # nextNum is not larger than 5"
   ]
  },
  {
   "cell_type": "markdown",
   "metadata": {},
   "source": [
    "> **Problem:** Change the definition of `nextNum` to 3, and run the code again. What if `nextNum` is changed to 5? Is the result what you expect?\n",
    "\n",
    "There are other tests we can do between two numbers:\n",
    "\n",
    "| Symbol | Definition            |\n",
    "|--------|-----------------------|\n",
    "| >      | greater than          |\n",
    "| >=     | greater than or equal |\n",
    "| <      | less than             |\n",
    "| <=     | less than or equal    |\n",
    "| ==     | equal to              |\n",
    "| !=     | not equal to          |\n",
    "\n",
    "Note that there is a difference between setting the value of a variable, and comparing two variables. For example,\n",
    "\n",
    "```python\n",
    "    z = 3\n",
    "```\n",
    "\n",
    "sets the variable `z` to an integer value of 3 (**defining** the variable), while\n",
    "\n",
    "```python\n",
    "    if z == 3 then:\n",
    "        print('Yes!')\n",
    "```\n",
    "\n",
    "checks to see if the variable `z` is equal to 3 (**testing** the variable). This may be a little confusing, but hopefully you will learn the difference after some practice.\n",
    "\n",
    "To look at using these testing operations, see the code in the next cell."
   ]
  },
  {
   "cell_type": "code",
   "execution_count": null,
   "metadata": {},
   "outputs": [],
   "source": [
    "x = 5\n",
    "y = 4\n",
    "if x <= 4:\n",
    "    print('x is less than or equal to y')\n",
    "else:\n",
    "    print('x is greater than y')"
   ]
  },
  {
   "cell_type": "markdown",
   "metadata": {},
   "source": [
    "> **Problem:** Change the definition of the variable `y` so that $y = 7$. What result do you get when you run the cell?\n",
    "\n",
    "> **Problem:** Change the `if` statement so that it says `if x <= y:` and run the cell. How well does the code work if you change `y` to other numbers?\n",
    "\n",
    "Writing Python statments like this -- where the `if` statement checks other variables, rather than numbers -- can make the code easier to modify if necessary. Going back to constants, I could use an `if` statement to see if the current time `t` is greater than or equal to the constant `MAX_TIME` I set as the maximum time for the simulation."
   ]
  },
  {
   "cell_type": "markdown",
   "metadata": {},
   "source": [
    "## `while` loops\n",
    "\n",
    "The `while` loop will execute a series of commands as long as a certain condition is true. For example, the code below will (1) print the value of the variable `nextNum`, and then (2) add one to `nextNum`. However, once `nextNum` is *not* less than 5, the loop will stop, and the program will move on to the next line if there is one. Since there isn't one here, the computer stops."
   ]
  },
  {
   "cell_type": "code",
   "execution_count": null,
   "metadata": {},
   "outputs": [],
   "source": [
    "nextNum = 0\n",
    "while nextNum < 5:\n",
    "    print(nextNum)\n",
    "    nextNum = nextNum + 1      # Increase the value of nextNum by one"
   ]
  },
  {
   "cell_type": "markdown",
   "metadata": {},
   "source": [
    "Again, note that the colon and indentations are important! The computer needs a way to know what statements are inside the `while` loop.\n",
    "\n",
    "Below are some changes you can make to the code in the cell above; try different combinations, run the code, and see what happens!\n",
    "\n",
    "* Switch the order of the two commands inside the `while` loop, so that the statement `nextNum = nextNum + 1` comes first.\n",
    "* Change the `while` statement so that there is a different number than 5.\n",
    "* Change `nextNum = nextNum + ` so that it adds a different number than 1.\n",
    "* Remove the `print` statement from inside the `while` loop, and put it after the loop. Note this means that it is **not** indented, and **after** the statement `nextNum = nextNum + 1`. Note that you can use this to print out only the **last** number, rather than all of the numbers, if you wish.\n",
    "\n",
    "## What the equals sign means\n",
    "\n",
    "If you are new to programming, the statement `nextNum = nextNum + 1` may look very odd indeed. This does **not** mean something like $x = x + 1$.\n",
    "\n",
    "In a Python program (and in many other computer languages), the equal sign means 'assign a value to this variable'. So the statement `nextNum = nextNum + 1` really means: (1) Find the location in memory where the variable `nextNum` is stored. (2) Read in this value. (3) Add one to this value. (4) Store the result back in the location in memory where `nextNum` is stored.\n",
    "\n",
    "## Practice: Powers of numbers\n",
    "\n",
    "Now we are going to put together what you have learned about Python by trying the following practice problems. Suppose we want to find all the powers of two, i.e. repeatedly multiply the number 2 by itself a given number of times. This can be done by the code in the cell below, which finds all powers of two less than 100."
   ]
  },
  {
   "cell_type": "code",
   "execution_count": null,
   "metadata": {},
   "outputs": [],
   "source": [
    "nextNum = 1                   # 2^0 = 1, so 1 is the zeroth power of 2.\n",
    "while nextNum < 100:\n",
    "    print(nextNum)            # Print the current power of two.\n",
    "    nextNum = nextNum * 2     # Each time through the while loop finds\n",
    "                              #  the next largest power of 2."
   ]
  },
  {
   "cell_type": "markdown",
   "metadata": {},
   "source": [
    "This code is repeated below, so you have a fresh copy. Use the cell below to answer the following questions.\n",
    "\n",
    "> **Problem:** What is the largest power of two less than 10 million? Note that 10 million (=$10^7$) can be written in Python as `1e7`. \n",
    "\n",
    "> **Problem:** Alter your program so that it now finds powers of *three*. What is the largest power of three less than 100 milion?"
   ]
  },
  {
   "cell_type": "code",
   "execution_count": null,
   "metadata": {},
   "outputs": [],
   "source": [
    "nextNum = 1\n",
    "while nextNum < 100:\n",
    "    print(nextNum)\n",
    "    nextNum = nextNum * 2"
   ]
  },
  {
   "cell_type": "markdown",
   "metadata": {},
   "source": [
    "## Practice: The hailstone sequence\n",
    "\n",
    "Suppose you give me an integer number greater than one. I will do one of two things to it:\n",
    "\n",
    "1. If the number is even, I will divide it by two.\n",
    "1. If the number is odd, I will multiply it by three, and then add one\n",
    "\n",
    "I will then repeat the procedure above with the new number I obtained. The *Collatz conjecture* states that, if I keep doing this process for **any** starting number, I will eventually get the number 1! This conjecture has now been checked up to $87 \\times 2^{60}$, but so far there is no mathematical proof that it is true for **all** integers.\n",
    "\n",
    "You will now write a Python program that finds the hailstone sequence for any starting integer greater than zero. You will start with the incomplete code in the cell below, and write in the needed statements to finish the program. Do this by working through the following steps:\n",
    "\n",
    "1. Input your favorite number as `number` at the start of the code.\n",
    "1. The `while` statement should only be done if the number is not equal to one. Remove the `#` symbols and complete the `while` statement so that it checks if `number` does not equal one.\n",
    "1. Next, there is an `if` statement, to see if the number is even or not. Remember that an even number has no remainder when divided by 2. Also, the **test** of equality in an `if` is not the same as **defining** a variable -- look back at the table in the section on `if` statements to pick the right one. Use these facts to complete the `if` statement properly.\n",
    "1. To keep things pretty, we want to keep our variable `number` as an integer, rather than a `float` such as 1.618033989... To do this, instead of using the 'ordinary' division symbol `/`, we use the 'floor' division symbol `//`. This latter symbol finds how many times the divisor goes into the original number, discarding the remainder. For example, `17 // 5 = 3`, since $17 = 5 \\times 3 + 2$.\n",
    "1. The final step happens when the number is not even, and the computer looks to the <code>else</code> statement. Change the mathematical operator there to multiply `number` by 3, and then add 1.\n",
    "\n",
    "Once your code is complete and runs without errors, see how many numbers you get in your sequence from your starting number. How long can you make the sequence?"
   ]
  },
  {
   "cell_type": "code",
   "execution_count": null,
   "metadata": {},
   "outputs": [],
   "source": [
    "# The hailstone sequence for the Collatz conjecture\n",
    "\n",
    "number = ##                          # Define starting number\n",
    "print(number)                        # Print starting number\n",
    "\n",
    "while number ####:                   # Check that number is not equal to one\n",
    "    \n",
    "    if number ########:              # Is the number even?\n",
    "        number = number // 2         # The '//' operation is so that the new\n",
    "                                     # number is an integer, not floating point number\n",
    "    else:\n",
    "        number = ##############      # For an odd number, multiply by 3 and add 1\n",
    "        \n",
    "    print(number)                    # Print resulting number"
   ]
  },
  {
   "cell_type": "markdown",
   "metadata": {},
   "source": [
    "When you are done with these practice problems, click on the 'File' menu at the top of the screen, and select 'Close and Halt' to close this notebook. After that, click on the 'Quit' button at the top right of the main Jupyter page to close Jupyter.\n",
    "\n",
    "## Summary\n",
    "\n",
    "This lesson covers a lot of the Python ideas and commands we will use all year. In particular, it covers variables, mathematical operations, `while` and `if` statements, and logical tests. You should review this lesson every once in a while, to make sure you haven't forgotten anything, or if you need a reminder of how a particular command works. Note that this is a rather simplified version of Python -- there are many other commands that we will not use in this class. However, it does give you a basic familiarity with the language. If you are interested in learning more, there are *many* resources on-line, since Python is a very popular language. Two particular sites I find nice are [w3schools.com](https://www.w3schools.com/python/) and [Easy Python Docs](http://easypythondocs.com/); just realize they feature the *entire* language!\n",
    "\n",
    "After this lesson, you should be able to:\n",
    "\t\n",
    "* Create and save a Python program in a Jupyter notebook\n",
    "* Create numerical variables, and print the values of these variables\n",
    "* Use mathematical operators to change the value of a variable\n",
    "* Use an `if` statement to make a logical test\n",
    "* Create a `while` loop"
   ]
  }
 ],
 "metadata": {
  "kernelspec": {
   "display_name": "Python 3",
   "language": "python",
   "name": "python3"
  },
  "language_info": {
   "codemirror_mode": {
    "name": "ipython",
    "version": 3
   },
   "file_extension": ".py",
   "mimetype": "text/x-python",
   "name": "python",
   "nbconvert_exporter": "python",
   "pygments_lexer": "ipython3",
   "version": "3.7.1"
  },
  "toc": {
   "base_numbering": 1,
   "nav_menu": {},
   "number_sections": true,
   "sideBar": true,
   "skip_h1_title": false,
   "title_cell": "Table of Contents",
   "title_sidebar": "Contents",
   "toc_cell": false,
   "toc_position": {},
   "toc_section_display": true,
   "toc_window_display": false
  }
 },
 "nbformat": 4,
 "nbformat_minor": 2
}
