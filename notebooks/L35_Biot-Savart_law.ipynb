{
 "cells": [
  {
   "cell_type": "markdown",
   "id": "civilian-resolution",
   "metadata": {},
   "source": [
    "# Biot-Savart law\n",
    "\n",
    "## Overview\n",
    "\n",
    "Here are the objectives for this lesson:"
   ]
  },
  {
   "cell_type": "markdown",
   "id": "round-sequence",
   "metadata": {},
   "source": [
    "## Biot-Savart law\n",
    "\n",
    "$$\n",
    "    \\Delta {\\vec B} = \\frac{I \\Delta {\\vec \\ell} \\times {\\hat r}}{r^2}\n",
    "$$"
   ]
  },
  {
   "cell_type": "code",
   "execution_count": null,
   "id": "maritime-punch",
   "metadata": {},
   "outputs": [],
   "source": [
    "from vpython import arrow, canvas, color, cos, cross, cylinder, mag, norm, pi, sin, vector"
   ]
  },
  {
   "cell_type": "code",
   "execution_count": null,
   "id": "continuous-permission",
   "metadata": {},
   "outputs": [],
   "source": [
    "def createWire(I, L, numSegments):\n",
    "    '''\n",
    "    Create a wire centered at the origin, with\n",
    "    a total length given along the x axis, and\n",
    "    made of numSegment total pieces. This wire\n",
    "    will be stored in a list as a series of\n",
    "    cylinder objects.\n",
    "    '''\n",
    "    \n",
    "    # Parameters\n",
    "    \n",
    "    segLength = L / numSegments      # Length of each wire segment\n",
    "    \n",
    "    # Create list of cylinders representing wire\n",
    "    \n",
    "    segList = []\n",
    "    \n",
    "    for iii in range(numSegments):\n",
    "        segList = segList + [cylinder(pos = vector(-0.5 * L + iii * segLength, 0, 0), \\\n",
    "                                     axis = vector(segLength, 0, 0), radius = 0.05, \\\n",
    "                                     current = I, color = color.green)]\n",
    "        \n",
    "    return segList"
   ]
  },
  {
   "cell_type": "code",
   "execution_count": null,
   "id": "planned-notice",
   "metadata": {},
   "outputs": [],
   "source": [
    "def calcMagField(segList, numPoints, R):\n",
    "    '''\n",
    "    Given a wire made of segments, with given\n",
    "    current through the wire, calculate the\n",
    "    magnetic field at a circle of observation\n",
    "    points in the y-z plane.\n",
    "    '''\n",
    "    \n",
    "    # Physical parameters\n",
    "    \n",
    "    mu = 0.5                     # mu / 2 pi (Tm / A)\n",
    "    \n",
    "    # Create list of observation points, sum\n",
    "    # the magnetic field contributions at each\n",
    "    # point from all the wire segments\n",
    "    \n",
    "    fieldArrowList = []\n",
    "    \n",
    "    for iii in range(numPoints):\n",
    "        \n",
    "        # Find location of next observation point\n",
    "        \n",
    "        Q = 2 * pi * iii / numPoints\n",
    "        obsPoint = vector(0, R * cos(Q), R * sin(Q))\n",
    "        \n",
    "        # Initialize magnetic field vector\n",
    "        \n",
    "        magField = vector(0, 0, 0)\n",
    "        \n",
    "        # Sum up contributions from each wire segment\n",
    "        \n",
    "        for segment in segList:\n",
    "            rVec = obsPoint - segment.pos\n",
    "            r = mag(rVec)\n",
    "            \n",
    "            magField = magField + mu * segment.current * cross(segment.axis, rVec) / r ** 3\n",
    "            \n",
    "        # Show final magnetic field vector at observation point\n",
    "        \n",
    "        fieldArrowList = fieldArrowList + [arrow(pos = obsPoint, axis = magField, color = color.blue)]\n",
    "        \n",
    "    print(fieldArrowList[0].axis, 0.5 * mu * segList[0].current / R)"
   ]
  },
  {
   "cell_type": "code",
   "execution_count": null,
   "id": "usual-shield",
   "metadata": {},
   "outputs": [],
   "source": [
    "canvas()\n",
    "\n",
    "N = 25\n",
    "wire = createWire(1, 100, N)\n",
    "\n",
    "for iii in range(5):\n",
    "    calcMagField(wire, 10 + 5 * iii, 0.75 + 0.2 * iii)"
   ]
  },
  {
   "cell_type": "markdown",
   "id": "exposed-benefit",
   "metadata": {},
   "source": [
    "## Summary\n",
    "\n",
    "After this lesson, you should be able to:\n",
    "\n",
    "* Do something."
   ]
  }
 ],
 "metadata": {
  "kernelspec": {
   "display_name": "Python 3",
   "language": "python",
   "name": "python3"
  },
  "language_info": {
   "codemirror_mode": {
    "name": "ipython",
    "version": 3
   },
   "file_extension": ".py",
   "mimetype": "text/x-python",
   "name": "python",
   "nbconvert_exporter": "python",
   "pygments_lexer": "ipython3",
   "version": "3.7.1"
  },
  "toc": {
   "base_numbering": 1,
   "nav_menu": {},
   "number_sections": true,
   "sideBar": true,
   "skip_h1_title": false,
   "title_cell": "Table of Contents",
   "title_sidebar": "Contents",
   "toc_cell": false,
   "toc_position": {},
   "toc_section_display": true,
   "toc_window_display": false
  }
 },
 "nbformat": 4,
 "nbformat_minor": 5
}
