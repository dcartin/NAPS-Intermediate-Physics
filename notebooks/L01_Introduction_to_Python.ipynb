{
 "cells": [
  {
   "cell_type": "markdown",
   "metadata": {},
   "source": [
    "# Introduction to Python\n",
    "\n",
    "## Overview\n",
    "\n",
    "In this lesson, you will learn the Python programming language. You will use this in subsequent lessons to explore some of the foundations of physics. Python was invented in 1990 by Guido van Rossem, a Dutch computer scientist. Python is a modern, object-oriented language which is easy to learn. All of the instructions you give the computer will be in the Python programming language. These instructions are collectively called **code**.\n",
    "\n",
    "Why are we doing this?\n",
    "\n",
    "* Physics uses tools from many other different areas -- writing, mathematics, and more recently, computer programming. Nowadays, any working scientist, mathematician, or engineer should know at least the basics of writing a computer program.\n",
    "* In Python, we can create simulations that illustrate what is happening in physical situations. This helps to understand aspects of physics that are difficult to see using other methods.\n",
    "* Both physics and computer programming involve thinking logically about a problem, and solving it in a methodical way. In particular, you must understand the physics concepts yourself before you can explain it clearly and precisely to a computer!\n",
    "* An important skill in programming is learning how to *debug* a program -- figuring out where in the program code a mistake has been made, and fixing it. Sometimes this can take a while! A similar skill is very useful in finding the error in a physics problem solution.\n",
    "\n",
    "Why Python?\n",
    "\n",
    "* Python is very common language that is relatively easy to learn, but has lots of add-ons for powerful applications.\n",
    "* There are several physics classes across the country that use Python programs in their class.\n",
    "* We will often use the vPython package, which allows us to easily create 3D visuals.\n",
    "\n",
    "As you progress through the various lessons, you will use files such as these, called Jupyter \"notebooks\", where we can combine explanation like a textbook along with the ability to run Python code. This notebook goes through some of the basic concepts and Python commands we will need to study the motion of objects.\n",
    "\n",
    "> **Trying the code:** The *only* way to learn anything in life is to try it yourself. Watching another person do something does not teach you anything; you have to do it yourself.\n",
    ">\n",
    "> With this in mind, these lessons are written specifically so that you can work through them interactively when you are using the online version at [https://dcartin.github.io/](https://dcartin.github.io/). One way to do this easily is to click on the \"rocket\" icon at the top of the page, and select \"Binder\". This creates an interactive version of the lesson (be patient -- sometimes it takes a few minutes to run!) Specifically, you can type in Python code into the gray code cells, and then run it. You will immediately see the computer's output.\n",
    ">\n",
    "> Another way to run the code is to go to [https://www.glowscript.org/](https://www.glowscript.org/), and set up your own account. Here, you can write and store the code you write for this class. This is a nice way to have a permanent archive of your work that is accessible from any computer. You might want to use a personal email address to set this up, however, since it is not easy to change this on Glowscript.org.\n",
    "\n",
    "As you read through this lesson, you should keep in mind the specific objectives I hope you achieve. Every lesson will have such a list, and these lists also appear in the course syllabus. You should read through the objectives carefully first thing -- don't skip it! Below is your checklist for this lesson, the things you should get out of your reading:\n",
    "\n",
    "* Print the value of a numerical variable or a string to the screen using the `print` statement.\n",
    "* Create a Python program within a Jupyter notebook.\n",
    "* Define a variable, and state the rules for Python variable names.\n",
    "* Add a comment to a program.\n",
    "* Update the value of a numerical variable.\n",
    "* Use the mathematical operators `+, -, *, /, %` to calculate the new value of a variable.`m\n",
    "* Use an `if` statement to check whether a logical condition is true.\n",
    "* Use a `while` loop to implement statements until a logical condition is false.\n",
    "* Create a list of values.\n",
    "* Select a specific value from an existing list.\n",
    "* Create a function with specified arguments that returns a desired quantity.\n",
    "\n",
    "If you don't feel you can do these things, you should work at it -- did you miss an important definition? Try the problems? Maybe playing around with the code cells more, and thinking of different scenarios will help."
   ]
  },
  {
   "cell_type": "markdown",
   "metadata": {},
   "source": [
    "## The `print` command\n",
    "\n",
    "For those learning a new programming language, it is traditional to first learn how to print the statement \"Hello world!\" This is known as a **string**, as opposed to an **integer** such as 5 or a floating point number (or **float**) such as 3.141592654. Together, these are known as **data types**.\n",
    "\n",
    "You can try this out if you are running this notebook using Binder, as described above. Whenever you see a gray rectangle (a **code cell**), such as the one below, you can run Python code, and then see the output. Usually, the code is already there and ready to be run. However, to see this process in action, first select the cell below with your mouse. If you are running an interactive version of the lesson on Binder, a green outline should appear around the cell. Type in the words\n",
    "\n",
    "```python\n",
    "    print('Hello world!')\n",
    "```\n",
    "\n",
    "You then need to run the cell to see the output. You can do this in a variety of ways.\n",
    "\n",
    "* On the menu bar at the top of this notebook, you will see a rightward facing arrow. Clicking on this button when you have a cell selected will run the cell.\n",
    "* If you prefer hotkeys, pressing Shift-Enter will run the cell, then move on to select the next cell. Using Ctrl-Enter will run the cell, but *not* move on to the next cell.\n",
    "\n",
    "After your type in the code from above, trying running the cell below."
   ]
  },
  {
   "cell_type": "code",
   "execution_count": null,
   "metadata": {},
   "outputs": [],
   "source": []
  },
  {
   "cell_type": "markdown",
   "metadata": {},
   "source": [
    "If the computer prints `Hello world!` below the cell, then congratulations -- you've just run a Python command!\n",
    "\n",
    "If you *didn't* try to run this program, try it now! These notebooks are meant to be interactive -- play around with them, try different possibilities, and see what works and what doesn't. One advantage of programming is you can *see* what the consequences are of various choices. What gives you natural looking simulations, and what gives you \"bad physics\"? *You will learn best by trying*.\n",
    "\n",
    "> **A word about cells:** If you are running this code using Binder, then you will notice that some parts look different han others. These are different kinds of **cells**. The gray rectangles are *code* cells, while the cell you are reading right down is a *Markdown* cell (named after the typesetting format used). Sometimes you will accidently change the type of cell. To fix this, select the cell, and use the pulldown menu to the right of the double arrow at the top of the screen to change it back to its proper type. Remember, cells like this one should be \"Markdown\", while cells with Python in them should be \"Code\".\n",
    "\n",
    "Note that using double quotes at the beginning and end of the string will also work. Try changing the cell above so it reads\n",
    "\n",
    "```python\n",
    "    print(\"Hello world!\")\n",
    "```\n",
    "\n",
    "and run the cell again. The reason for this is if you need to use single or double quotes inside the string you want to print. An example would be\n",
    "\n",
    "```python\n",
    "    print('Who says \"Hello world!\" anymore?')\n",
    "```\n",
    "\n",
    "However, you can't mix single and double quotes at the beginning and end of the string. If you change the code above to read\n",
    "\n",
    "```python\n",
    "    print('Hello world!\")\n",
    "```\n",
    "\n",
    "you should get an error. Whenever you get an error like this, you can go back and edit the cell so that it works properly.\n",
    "\n",
    "> **Problem:** Try intentionally putting mismatched quotation marks in the code cell above, and run the cell. What happens? Then change the code back to proper format, and run the cell again."
   ]
  },
  {
   "cell_type": "markdown",
   "metadata": {},
   "source": [
    "## Variables and mathematical operators\n",
    "\n",
    "Many times we need to store numerical values for use later on in the program, and change these values as the program progresses (e.g. think about the position of a moving object). This is done in programming languages by creating a **variable** and setting it equal to the value desired.\n",
    "\n",
    "A variable is given a name when it is defined, and every time you want to change or modify the variable, you can do so by using that name. The rules for variable names in Python are\n",
    "\n",
    "* The variable name must start with either a letter or the underscore (`_`) character. However, it is probably not a good idea to start with the underscore, since variable names like these are usually reserved for important things that run Python!\n",
    "* Variable names cannot start with a number.\n",
    "* Variable names are case sensitive, so `var`, `Var`, and `VAR` are three separate variable names.\n",
    "* Variable names can only use letters, numbers, and the underscore.\n",
    "\n",
    "I also use the convention that constants are given names in all capital letters. These will indicate variables that should not be changed anywhere in the code. So, if I want to define the total time a simulation will run, I may call it `MAX_TIME`. On the other hand, the current time could be another variable, such as `t`, which does change. I also tend to put the definitions of all the variables at the top of the program, so I can find them easily if I need to alter their values.\n",
    "\t\t\n",
    "Here is a Python example, creating the variable `position` and giving it a value of 5. The `print` statement verifies that the variable is set correctly."
   ]
  },
  {
   "cell_type": "code",
   "execution_count": null,
   "metadata": {},
   "outputs": [],
   "source": [
    "position = 5\n",
    "print(position)"
   ]
  },
  {
   "cell_type": "markdown",
   "metadata": {},
   "source": [
    "What happens if we run the statements given below?"
   ]
  },
  {
   "cell_type": "code",
   "execution_count": null,
   "metadata": {},
   "outputs": [],
   "source": [
    "position = 5\n",
    "print(position)\n",
    "position = 7"
   ]
  },
  {
   "cell_type": "markdown",
   "metadata": {},
   "source": [
    "Is the answer what you expected? The computer will run the statements in order, starting from top to bottom, unless the order is changed by other commands.\n",
    " \n",
    "We can also print the name of the variable (as a string) along with the value of the variable. Try running the commands below. Make sure there is a comma outside the string!"
   ]
  },
  {
   "cell_type": "code",
   "execution_count": null,
   "metadata": {},
   "outputs": [],
   "source": [
    "position = 7\n",
    "print('position = ', position)"
   ]
  },
  {
   "cell_type": "markdown",
   "metadata": {},
   "source": [
    "As we get into more complicated programs, using `print` statements can help debug the program, if something doesn't go quite right, or you get error messages.\n",
    "\n",
    "Now that we have seen we can store numerical values in variables, we can now use mathematical operations on these variables. Below is a list of the common ones.\n",
    "\n",
    "| Operation      | Python symbol |\n",
    "|----------------|---------------|\n",
    "| addition       | +             |\n",
    "| subtraction    | -             |\n",
    "| multiplication | *             |\n",
    "| division       | \\             |\n",
    "| exponentiation | **            |\n",
    "\n",
    "Note that `^` is *not* a symbol for exponentiation in Python! Thus, if you want to find `2 * 2 * 2`, then in Python it is `2 ** 3` and *not* `2 ^ 3`. As an example of a mathematical operation, try running the lines below."
   ]
  },
  {
   "cell_type": "code",
   "execution_count": null,
   "metadata": {},
   "outputs": [],
   "source": [
    "x = 5\n",
    "y = 7\n",
    "print(x * y)"
   ]
  },
  {
   "cell_type": "markdown",
   "metadata": {},
   "source": [
    "> **Problem:** Change the `*` to the other three mathematical operators, and make sure the answer is what you expect.\n",
    "\n",
    "This is as good of a time as any to introduce **comments** in Python. With longer programs, it helps to add in comments in English that the computer does not try to read as commands. For example, with the code\n",
    "\n",
    "```python\n",
    "x = 5     # Sets value of the variable 'x'\n",
    "```\n",
    "\n",
    "the computer will not read anything beyond the \"`#`\" symbol. Good code features comments, so that if it is read by someone else (or you, a long time in the future!), there is a lot of explanation of how the program works. This becomes more important as your code gets more complicated. You should get into the habit of including comments to both explain the programming code itself, and as notes to understand the variables. For example, one comment may say a particular part of the code is creating the motion of an object in the simulation; another comment may tell the reader that the SI units for the variable `velocity` are m/s.\n",
    "\n",
    "> **Problem:** What is the result of running the following code?\n",
    "> ```python\n",
    "x = 5     # x = 7\n",
    "print(x)\n",
    "```"
   ]
  },
  {
   "cell_type": "markdown",
   "metadata": {},
   "source": [
    "## `if` statements\n",
    "\n",
    "Our short-term goal is to learn enough Python programming to simulate the motion of an object, such as a ball; you will do this in Lesson 02 (units and velocity). Suppose we want to check whether the ball has hit the ground or a wall. In Python, this requires the use of an `if` statment. This will check to see if a certain condition is true. If it is, the next indented lines will be executed. Otherwise, the computer will move to the next line that is **not** indented and continue from there. Consider the code in the cell below. Notice that the colon `:` is important -- it tells the computer the `if` statement is done. Again, everything that is *indented* below the `if` statement will be run if the `if` statement is satisfied."
   ]
  },
  {
   "cell_type": "code",
   "execution_count": null,
   "metadata": {},
   "outputs": [],
   "source": [
    "nextNum = 3\n",
    "if nextNum < 5:      # Is nextNum less than 5?\n",
    "    print('Yes!')"
   ]
  },
  {
   "cell_type": "markdown",
   "metadata": {},
   "source": [
    "> **Problem:** In the cell above, change the definition of `nextNum` to 7, then run the code again. What happens?\n",
    "\n",
    "Sometimes we want to do something special if the `if` statement is *not* true. We can do this using an `else` statement, as seen below. Run the cell below, and see what happens."
   ]
  },
  {
   "cell_type": "code",
   "execution_count": null,
   "metadata": {},
   "outputs": [],
   "source": [
    "nextNum = 7\n",
    "if nextNum > 5:\n",
    "    print('nextNum is greater than 5')          # nextNum is larger than 5\n",
    "else:\n",
    "    print('nextNum is not greater than 5')      # nextNum is not larger than 5"
   ]
  },
  {
   "cell_type": "markdown",
   "metadata": {},
   "source": [
    "> **Problem:** Change the definition of `nextNum` to 3, and run the code again. What if `nextNum` is changed to 5? Is the result what you expect?\n",
    "\n",
    "There are other tests we can do between two numbers:\n",
    "\n",
    "| Symbol | Definition            |\n",
    "|--------|-----------------------|\n",
    "| >      | greater than          |\n",
    "| >=     | greater than or equal |\n",
    "| <      | less than             |\n",
    "| <=     | less than or equal    |\n",
    "| ==     | equal to              |\n",
    "| !=     | not equal to          |\n",
    "\n",
    "Note that there is a difference between setting the value of a variable, and comparing two variables. For example,\n",
    "\n",
    "```python\n",
    "    z = 3\n",
    "```\n",
    "\n",
    "sets the variable `z` to an integer value of 3 (*defining* the variable), while\n",
    "\n",
    "```python\n",
    "    if z == 3 then:\n",
    "        print('Yes!')\n",
    "```\n",
    "\n",
    "checks to see if the variable `z` is equal to 3 (*testing* the variable). Thus, a single equals sign defines a variable, while a double equals sign checks to see whether something is true. This may be a little confusing, but hopefully you will learn the difference after some practice.\n",
    "\n",
    "To look at using these testing operations, see the code in the next cell."
   ]
  },
  {
   "cell_type": "code",
   "execution_count": null,
   "metadata": {},
   "outputs": [],
   "source": [
    "x = 5\n",
    "y = 4\n",
    "if x <= 4:\n",
    "    print('x is less than or equal to y')\n",
    "else:\n",
    "    print('x is greater than y')"
   ]
  },
  {
   "cell_type": "markdown",
   "metadata": {},
   "source": [
    "> **Problem:** Change the definition of the variable `y` so that $y = 7$. What result do you get when you run the cell?\n",
    "\n",
    "> **Problem:** Change the `if` statement so that it says `if x <= y:` and run the cell. How well does the code work if you change `y` to other numbers?\n",
    "\n",
    "Writing Python statments like this -- where the `if` statement checks other variables, rather than numbers -- can make the code easier to modify if necessary. Going back to constants, I could use an `if` statement to see if the current time `t` is greater than or equal to the constant `MAX_TIME` I set as the maximum time for the simulation."
   ]
  },
  {
   "cell_type": "markdown",
   "metadata": {},
   "source": [
    "## Loops and lists\n",
    "\n",
    "When writing programs to simulate the motion of objects, we will frequently need to tell the computer to do the same operation repeatedly. For example, suppose we want to show the motion of a falling object. This will involve finding the changes in position and velocity over and over, as time progresses. Thus, we need to *loop* over the same commands. There are two ways to do this in Python: the `while` loop and the `for` loop.\n",
    "\n",
    "The `while` loop will execute a series of commands as long as a certain condition is true. This will be very helpful when we are not sure when we want to stop the loop. Suppose we wanted to look at the motion of a projectile launched at some angle, but we included air resistance. How long does it take to reach the ground? It is not easy to tell without running the program! However, we can easily tell the computer to stop the loop when the projectile reaches the ground. This is an example of a condition we use with a `while` loop.\n",
    "\n",
    "The code cell below shows a `while` loop, where the code will (1) print the value of the variable `nextNum`, and then (2) add one to `nextNum`. However, once `nextNum` is *not* less than 5, the loop will stop. This means that 4 is the last number printed. The program will then move on to the next line if there is one. Since there isn't one here, the computer stops."
   ]
  },
  {
   "cell_type": "code",
   "execution_count": null,
   "metadata": {},
   "outputs": [],
   "source": [
    "nextNum = 0\n",
    "while nextNum < 5:\n",
    "    print(nextNum)\n",
    "    nextNum = nextNum + 1      # Increase the value of nextNum by one"
   ]
  },
  {
   "cell_type": "markdown",
   "metadata": {},
   "source": [
    "Just like the `if` statement, the colon and indentations are important! The computer needs a way to know what statements are inside the `while` loop.\n",
    "\n",
    "> **Problem:** Try experimenting with the code above. Here are some things you can try:\n",
    ">\n",
    "> * Switch the order of the two commands inside the `while` loop, so that the statement `nextNum = nextNum + 1` comes first.\n",
    "> * Change the `while` statement so that there is a different number than 5.\n",
    "> * Change `nextNum = nextNum + ` so that it adds a different number than 1.\n",
    "> * Remove the `print` statement from inside the `while` loop, and put it after the loop. Note this means that it is **not** indented, and **after** the statement `nextNum = nextNum + 1`. Note that you can use this to print out only the **last** number, rather than all of the numbers, if you wish.\n",
    "\n",
    "If you are new to programming, the statement `nextNum = nextNum + 1` may look very odd indeed. This does *not* mean something like $x = x + 1$.\n",
    "\n",
    "In a Python program (and in many other computer languages), the equal sign means 'assign a value to this variable'. So the statement `nextNum = nextNum + 1` really means: (1) Find the location in memory where the variable `nextNum` is stored. (2) Read in this value. (3) Add one to this value. (4) Store the result back in the location in memory where `nextNum` is stored.\n",
    "\n",
    "In Python, there is a shorthand way of writing code such as `nextNum = nextNum + 1`. This is given by `nextNum += 1`. You can read the symbol `+=` to say \"read in the quantity to the left, add to it the quantity to the right, and put that back in the location of the original variable\". Writing it like this saves some room in the code, so try to use it if you can! There are other versions for subtraction, multiplication, and division.\n",
    "\n",
    "> **Problem:** What would your computer print out if you ran the code shown below?\n",
    ">\n",
    "> ```python\n",
    "x = 5\n",
    "x -= 3\n",
    "print(x)\n",
    ">```\n",
    "\n",
    "Now let's come back to loops. A `for` loop is a similar idea, but in this case, we have a definite idea of how many steps we are taking. Let's look at some examples of how this would work. Suppose we want to add up the integers from 0 to 5. We would do this by finding $0 + 1 + 2 + 3 + 4 + 5$. Notice that we counted over *six* numbers total -- this will be important in a second. A possible way to do this in Python is to use the code in the cell below."
   ]
  },
  {
   "cell_type": "code",
   "execution_count": null,
   "metadata": {},
   "outputs": [],
   "source": [
    "total = 0                   # Variable to store sum of integers\n",
    "\n",
    "for iii in range(6):\n",
    "    total += iii            # Add iii to variable total\n",
    "    \n",
    "print(total)"
   ]
  },
  {
   "cell_type": "markdown",
   "metadata": {},
   "source": [
    "If you run the code, you should get the result of 15. The `for` loop ran over the range of the first *six* integers, starting from zero. This is why it is `range(6)`, rather than `range(5)`, since the range is over six numbers. Unfortunately, the fact that Python starts with zero can be a little confusing sometimes; it has its advantages as well, but watch out that you don't make a mistake!\n",
    "\n",
    "> **Problem:** Change the code above so that the sum is over the first 1500 integers, starting from 0. What is the value of the sum? *Answer:* 1,124,250\n",
    "\n",
    "Another way to use a `for` loop is to use it with a **list**. A Python list is simply a collection of values, where the order is important. A list is defined by using square brackets, such as"
   ]
  },
  {
   "cell_type": "code",
   "execution_count": null,
   "metadata": {},
   "outputs": [],
   "source": [
    "myList = [4, 3.14, \"I love my list\", -7]"
   ]
  },
  {
   "cell_type": "markdown",
   "metadata": {},
   "source": [
    "This list has four elements, and as you can see, it can store all kinds of values in the same list. You can access the list by giving the index. Remember that Python starts at zero! So, for example, `myList[0]` takes the list `myList` and sees what is at index 0 (i.e. the first value in the list). Thus, if you run"
   ]
  },
  {
   "cell_type": "code",
   "execution_count": null,
   "metadata": {},
   "outputs": [],
   "source": [
    "print(myList[0])"
   ]
  },
  {
   "cell_type": "markdown",
   "metadata": {},
   "source": [
    "the computer will print out 4. However, if you try"
   ]
  },
  {
   "cell_type": "code",
   "execution_count": null,
   "metadata": {},
   "outputs": [],
   "source": [
    "print(myList[4])"
   ]
  },
  {
   "cell_type": "markdown",
   "metadata": {},
   "source": [
    "you will get an error, since the indices of the list run from 0 to 3 (four entries total). The last entry in the list would be `myList[3]` instead.\n",
    "\n",
    "You can create a list either by just typing it in, as we did with `myList` above, or by creating it from scratch. Let's use a `for` loop like we did above to do this. The code below will create a list of the first six integers. It does this by first telling the computer that `intList` will be a list. Remember to do this! The computer doesn't know that `intList` is a list until you tell it; it could be a string, or an integer, or anything else. Then, we add values to the *end* of the list using the `+=` operator. Notice that what are adding `[iii]` to the list -- the square brackets match up with the fact `intList` is a list. You can see this when the list is printed out at the end."
   ]
  },
  {
   "cell_type": "code",
   "execution_count": null,
   "metadata": {},
   "outputs": [],
   "source": [
    "intList = []\n",
    "\n",
    "for iii in range(6):\n",
    "    intList += [iii]\n",
    "    \n",
    "print(intList)"
   ]
  },
  {
   "cell_type": "markdown",
   "metadata": {},
   "source": [
    "Now, we introduced lists as another way of using a `for` loop. We can create a list as we did above, and then use a second `for` loop to print out the results. Thus, instead of using the `print` statement, we could have used"
   ]
  },
  {
   "cell_type": "code",
   "execution_count": null,
   "metadata": {},
   "outputs": [],
   "source": [
    "intList = []\n",
    "\n",
    "for iii in range(6):\n",
    "    intList += [iii]\n",
    "    \n",
    "for jjj in intList:\n",
    "    print(jjj)"
   ]
  },
  {
   "cell_type": "markdown",
   "metadata": {},
   "source": [
    "The second `for` loop now prints out the values in `intList`, only one at a time. Thus, you have now seen two different ways to set up a `for` loop: either using the `range()` over a fixed number of integers, or by using the values of a list."
   ]
  },
  {
   "cell_type": "markdown",
   "metadata": {},
   "source": [
    "## Procedures and functions\n",
    "\n",
    "We have now gone through essentially all of the Python commands you will use for this course. In Lesson 02, we will introduce some special commands that help us create simulations, with the vPython module. However, before we get to that, there is one last aspect of Python programming to learn. This is not a new command, but instead is a different way of packaging what we have already done.\n",
    "\n",
    "As programs become longer and more complicated, it can be difficult to understand what the program is actually doing. Thus, what programmers will do is take pieces of code, and \"call\" these pieces in the main program when they need them. In other words, the steps that the program is to execute are divided into smaller bits, which are easier to understand and fix if something goes wrong. These pieces are known as **procedures** and **functions**. There is a slight difference between the two, which I will explain later, but they basically do the same thing.\n",
    "\n",
    "Let's start with a simple example. Suppose you wanted to find the sum of the multiples of some number, up to a maximum value. To make it definite, let's say you want the sum of the first `MAX_NUM_MULTIPLES` of a number `NUMBER`. You could create a program with variables `MAX_NUM_MULTIPLES` and `NUMBER`. I put these variable names in capital letters, because they are not going to be changed in the program. This would look something like"
   ]
  },
  {
   "cell_type": "code",
   "execution_count": null,
   "metadata": {},
   "outputs": [],
   "source": [
    "NUMBER = 7                     # Number to find the multiples of\n",
    "total = 0                      # Sum of all the multiples of NUMBER\n",
    "    \n",
    "numMultiples = 0               # Keep track of the number of multiples summed so far\n",
    "MAX_NUM_MULTIPLES = 5          # Maximum number of multiples to sum\n",
    "    \n",
    "while numMultiples < MAX_NUM_MULTIPLES:\n",
    "    numMultiples = numMultiples + 1\n",
    "    total = total + numMultiples * NUMBER\n",
    "        \n",
    "print(total)                   # Print sum"
   ]
  },
  {
   "cell_type": "markdown",
   "metadata": {},
   "source": [
    "Let's walk through this code, to make sure you understand what it does. First, we define `NUMBER` to be the number we are finding the multiples of, then `total` will be the variable where we store our values as the program runs. We count the number of times we have added a multiple to the sum as the variable `numMultiples`, and set the maximum number of such additions as `MAX_NUM_MULTIPLES`. Inside the `while` loop, we increase the number of multiples by one everytime we add a multiple of `NUMBER` to `total`. When we have gone over the number of multiples we want, we quit the `while` loop, and print out the final answer. Since this sum is $7 + 14 + 21 + 28 + 35$, then the answer is 105.\n",
    "\n",
    "The example code would then give you the sum of the first five multiples of 7. Now, suppose you want to calculate this number repeatedly in your program. You could copy the code over and over, but that is a pain. Instead, we create a procedure `firstFiveMultOfSeven()`, which every time we run it, it goes through the same code and prints out the result. The `def` command tells Python to create the function with our given name. By the way, I will often put parentheses after the name of a procedure or function when I describe it, so you know it is not a variable.\n",
    "\n",
    "If you run the cell below, nothing will apparently happen, but the computer now knows what to do when you ask it to use this procedure. Again, notice the format, with the colon and indenting."
   ]
  },
  {
   "cell_type": "code",
   "execution_count": null,
   "metadata": {},
   "outputs": [],
   "source": [
    "def firstFiveMultOfSeven():\n",
    "    NUMBER = 7                     # Number to find the multiples of\n",
    "    total = 0                      # Sum of all the multiples of NUMBER\n",
    "    \n",
    "    numMultiples = 0               # Keep track of the number of multiples summed so far\n",
    "    MAX_NUM_MULTIPLES = 5          # Maximum number of multiples to sum\n",
    "    \n",
    "    while numMultiples < MAX_NUM_MULTIPLES:\n",
    "\n",
    "        numMultiples = numMultiples + 1\n",
    "        total = total + numMultiples * NUMBER\n",
    "        \n",
    "    print(total)                   # Print sum"
   ]
  },
  {
   "cell_type": "markdown",
   "metadata": {},
   "source": [
    "Then, once you run the cell above, you can call on the procedure anytime you want. Run the cell below now to see it in action."
   ]
  },
  {
   "cell_type": "code",
   "execution_count": null,
   "metadata": {},
   "outputs": [],
   "source": [
    "firstFiveMultOfSeven()"
   ]
  },
  {
   "cell_type": "markdown",
   "metadata": {},
   "source": [
    "However, if I want the first eight multiples of 15, I'd have to go back to the code, and change both the variables `NUMBER` and `MAX_NUM_MULTIPLES`. Now, for this case, that's not really *too* hard, but hopefully you can imagine with more complicated code, this becomes a hassle. Indeed, suppose you are write a program, and want to improve how the program works. Having that piece of the algorithm in its own procedure makes it much easier to change, if you need to.\n",
    "\n",
    "So, let's create a procedure that prints out the first `MAX_NUM_MULTIPLES` of `NUMBER`. To do this, we decide to call it `multipleSum()`, and use the `def` command to create this procedure. This is done in the cell below. The code in the procedure `multipleSum()` is very similar to what was given above. The only difference comes from since `multipleSum()` takes two **arguments**, namely the values `NUMBER` and `MAX_NUM_MULTIPLES`, so these do not have to be defined *inside* the procedure. Every time we call this procedure, we can specify the values of these variables, without having to change any code! At the end, it prints out the result `total`."
   ]
  },
  {
   "cell_type": "code",
   "execution_count": null,
   "metadata": {},
   "outputs": [],
   "source": [
    "def multipleSum(NUMBER, MAX_NUM_MULTIPLES):\n",
    "    \n",
    "    total = 0\n",
    "    numMultiples = 0\n",
    "    \n",
    "    while numMultiples < MAX_NUM_MULTIPLES:\n",
    "        numMultiples = numMultiples + 1\n",
    "        total = total + numMultiples * NUMBER\n",
    "        \n",
    "    print(total)"
   ]
  },
  {
   "cell_type": "markdown",
   "metadata": {},
   "source": [
    "If you haven't already, run the cell above, then run the cell below. This *calls* the procedure `multipleSum()`. The arguments are set in the same order as they are written in the cell above, so this means we are assigning `NUMBER = 7` and `MAX_NUM_MULTIPLES = 5`. When you run the cell below, it will print the sum of the first five multiples of 7."
   ]
  },
  {
   "cell_type": "code",
   "execution_count": null,
   "metadata": {},
   "outputs": [],
   "source": [
    "multipleSum(7, 5)"
   ]
  },
  {
   "cell_type": "markdown",
   "metadata": {},
   "source": [
    "> **Problem:** Use `multipleSum()` to find the first eight multiples of 15.\n",
    "\n",
    "So a procedure executes some code, which can be called on later (and mulitple times!) by the main program. A function is slightly different, in that it **returns** information to the main program. Specifically, suppose instead of printing the first `MAX_NUM_MULTIPLES` of `NUMBER`, we want to use this information to define another variable, say `result`. We couldn't do that with the procedure above. This is a case where we want to write a **function**. The crucial change with a function is that there is a command `return` that \"passes\" the computed value `total`, and can be used later.\n",
    "\n",
    "As an example, we could define a function `add()` that adds together two numbers `num1` and `num2`, as follows.\n",
    "```python\n",
    "    def add(num1, num2):\n",
    "        return num1 + num2\n",
    "```\n",
    "The `return` statement means that the result of this function is similar to how a variable is defined. If you write `add(firstNum, secondNum)`, then the computer will associate a value `firstNum + secondNum` to it. Then this could be used in another place in the program:\n",
    "```python\n",
    "    thirdNum = add(firstNum, secondNum)\n",
    "```\n",
    "Notice the variable names when the function (or procedure) is *used* do not have to be the same as those in the code for the function itself, but they do have to be in the same, matching order!\n",
    "\n",
    "> **Problem:** Change the procedure `multipleSum()` in the cell above so that it returns the value `total`."
   ]
  },
  {
   "cell_type": "markdown",
   "metadata": {},
   "source": [
    "## Example: Calculating square roots\n",
    "\n",
    "Now I will go through an example that brings together a lot of what is covered in the lesson. By the end, we will have a function that calculates the square root of a given positive number. The method used here is known as \"Heron's method\", after the 1st century AD Greek mathematician Hero of Alexandria. It is also known as \"the Babylonian method\", since it is believed (but not proven) that the ancient Babylonians were also aware of this method. Although there are now more sophisticated means of finding roots, this will give you some idea of how your calculator gets the number!\n",
    "\n",
    "> **Can't the computer find this?** You may wonder why we just can't ask the computer to do this calculation. Well, first, it's good to know what your computer is actually doing! Plus this is good practice for applying the methods of this lesson. Finally, there is a way to find the square root, but it is not automatically included in Python. Instead, it is part of the `math` module of Python. I will introduce modules in Lesson 02.\n",
    "\n",
    "Here is the basic idea. Suppose we want to know the square root of the number $c$. Thus, we are trying to solve the equation $x^2 - c = 0$. We can make a guess $g$ for what the square root is; for example, we can guess that the square root of two is $g = 1$. Obviously, this is wrong, so there is some error $\\epsilon$ that our guess is off by. This means that we have $(g + \\epsilon)^2 = c$. Let's solve this equation for $\\epsilon$; if we expand it out, we have\n",
    "\n",
    "$$\n",
    "    g^2 + 2g \\epsilon + \\epsilon^2 = c \\Rightarrow \\epsilon = \\frac{c - g^2}{2g + \\epsilon}\n",
    "$$\n",
    "\n",
    "Now, let's use the fact that (hopefully) our error $\\epsilon$ is smaller than $2g$, so we approximate the above equation by\n",
    "\n",
    "$$\n",
    "    \\epsilon \\simeq \\frac{c - g^2}{2g}\n",
    "$$\n",
    "\n",
    "Note that the symbol \"$\\simeq$\" means \"approximately equal to\". This means our new guess $g'$ for the square root of $c$ is\n",
    "\n",
    "$$\n",
    "    g' = g + \\epsilon = g + \\frac{c - g^2}{2g} = \\frac{g^2 + c}{2g} = \\frac{g + c/g}{2}\n",
    "$$\n",
    "\n",
    "We can then use this new guess $g'$, and find *its* error away from the real value. Repeating this process over and over gets our guess closer to the actual value. Notice that our new guess $g'$ is simply the average of our original guess $g$, and the number $c$ we are trying to find the square root of divided by $g$. One of these numbers will be *greater* than the real root, while the other will be *smaller*. This is why the average of the two will get us closer to the actual root.\n",
    "\n",
    "The code below shows how to find $\\sqrt{2}$. Notice that it only takes a few steps to get a really good value!"
   ]
  },
  {
   "cell_type": "code",
   "execution_count": null,
   "metadata": {},
   "outputs": [],
   "source": [
    "NUMBER = 2                     # Find the square root of this number\n",
    "guess = 1                      # Starting guess for the root\n",
    "NUM_STEPS = 5                  # Number of steps to carry out method\n",
    "\n",
    "for iii in range(NUM_STEPS):\n",
    "    \n",
    "    # Print out latest guess, then calculate next guess\n",
    "    \n",
    "    print('Step', iii,':', guess)         \n",
    "    guess = (guess + NUMBER / guess) / 2\n",
    "    \n",
    "print('Last step:', guess)     # Final value of method"
   ]
  },
  {
   "cell_type": "markdown",
   "metadata": {},
   "source": [
    "Obviously, this is great for printing out $\\sqrt{2}$, but suppose we want to use it to define a variable? Or find the square root of another number? Then we need to write a function for this. This is done in the next code cell, where a function `squareRoot()` is defined, with two arguments `NUMBER` and `NUM_STEPS`. These are the two constant values from the previous cell, so it is natural they are what we input when using the function.\n",
    "\n",
    "A few notes about this function. First, I removed the print statements, but you can always put them back if you want to see how the method is progressing. I also have included what is known as a **docstring** (short for **documentation string**) at the beginning of the function, in between the triple single quotes (you can also use double quotes, if you wish). This provides a place for the programmer to document their code for other users. These are read in Python like a comment, but without having to put a \"`#`\" at the beginning of every line. This is good practice, to explain to anyone reading the code what it is trying to do, and how.\n",
    "\n",
    "Finally, notice that I have assigned a value to `NUM_STEPS`. What does this mean? This is a default value for the number of steps of the function. Run this cell now, then we can come back to this point."
   ]
  },
  {
   "cell_type": "code",
   "execution_count": null,
   "metadata": {},
   "outputs": [],
   "source": [
    "def squareRoot(NUMBER, NUM_STEPS = 5):\n",
    "    '''\n",
    "    Find the square root of a number using Heron's method\n",
    "    '''\n",
    "    \n",
    "    guess = 1        # Starting guess for the root\n",
    "\n",
    "    for iii in range(NUM_STEPS):\n",
    "        guess = (guess + NUMBER / guess) / 2\n",
    "    \n",
    "    return guess     # Final value of method"
   ]
  },
  {
   "cell_type": "markdown",
   "metadata": {},
   "source": [
    "By the way, notice that we cannot use the `+=` operator for `guess` inside the `for` loop, since we are *not* simply adding a number to `guess`, but we are doing something more complicated.\n",
    "\n",
    "Now, run the next cell, and confirm that the square root of two hasn't changed."
   ]
  },
  {
   "cell_type": "code",
   "execution_count": null,
   "metadata": {},
   "outputs": [],
   "source": [
    "squareRoot(2, 7)"
   ]
  },
  {
   "cell_type": "markdown",
   "metadata": {},
   "source": [
    "For the above, I put the two arguments `NUMBER` and `NUM_STEPS` as 2 and 7, respectively. But what if I don't care how many steps the method takes? This is why I put a default value. If I only put one argument, then Python will assign its value to `NUMBER`, and automatically take `NUM_STEPS` to be 5. You can see this by running the next cell."
   ]
  },
  {
   "cell_type": "code",
   "execution_count": null,
   "metadata": {},
   "outputs": [],
   "source": [
    "squareRoot(2)"
   ]
  },
  {
   "cell_type": "markdown",
   "metadata": {},
   "source": [
    "This uses five steps to find $\\sqrt{2}$, since we did not specify `NUM_STEPS`.\n",
    "\n",
    "> **Problem:** Find the square root of your favorite number. How many steps does it take to match your calculator's answer?\n",
    "\n",
    "You may have caught it already, but there are several issues with this method, as written in our function. The first question is how do we deal with negative numbers? It's probably good policy to just not deal with those! So, go back to the original function, and add the following `if` statement just before the definition of `guess`:\n",
    "\n",
    "```python\n",
    "if NUMBER <= 0:\n",
    "    print('We only find the square roots of positive numbers.')\n",
    "    return 0\n",
    "```\n",
    "\n",
    "This will print a warning, then return the value 0.\n",
    "\n",
    "The second issue is that our original guess is really bad! We can do much better than that. One way to improve our guess is to start a variable `guess` with value 1, and see if squaring this number gives a value greater than `NUMBER`. If not, we can increase `guess` by one, and see if its square is greater than `NUMBER`. Eventually, it will be, so we use this value as the start for Heron's method. Notice we don't care if we go over the value of `NUMBER`, since the method uses `NUMBER / guess` (which will be lower than the number we want the root of) in the average to find the next guess. To implement this, *after* the definition of `guess`, but *before* the `for` loop, type in the code\n",
    "\n",
    "```python\n",
    "while guess ** 2 < NUMBER:\n",
    "    guess += 1\n",
    "```\n",
    "\n",
    "Now run the improved procedure with different values of `NUMBER`, and see how it does. You should get much better results than before."
   ]
  },
  {
   "cell_type": "markdown",
   "metadata": {},
   "source": [
    "## Summary\n",
    "\n",
    "This lesson covers a lot of the Python ideas and commands you will use in other lessons. In particular, it covers variables, mathematical operations, `while` and `if` statements, lists, logical tests, and functions and procedures. It may seem like a lot, but with practice, you will get used to it all. You should review this lesson every once in a while, to make sure you haven't forgotten anything, or if you need a reminder of how a particular command works. Note that this is a rather simplified version of Python -- there are many other commands that we will not use in these lessons. However, it does give you a basic familiarity with the language. If you are interested in learning more, there are *many* resources on-line, since Python is a very popular language. Two particular sites I find nice are [w3schools.com](https://www.w3schools.com/python/) and [Easy Python Docs](http://easypythondocs.com/); just realize they feature the *entire* language!\n",
    "\n",
    "After this lesson, you should be able to:\n",
    "\t\n",
    "* Create and save a Python program in a Jupyter notebook\n",
    "* Create numerical variables, and print the values of these variables\n",
    "* Use mathematical operators to change the value of a variable\n",
    "* Use an `if` statement to make a logical test\n",
    "* Create a `while` or `for` loop\n",
    "* Create a list\n",
    "* Create a function with arguments"
   ]
  }
 ],
 "metadata": {
  "kernelspec": {
   "display_name": "Python 3",
   "language": "python",
   "name": "python3"
  },
  "language_info": {
   "codemirror_mode": {
    "name": "ipython",
    "version": 3
   },
   "file_extension": ".py",
   "mimetype": "text/x-python",
   "name": "python",
   "nbconvert_exporter": "python",
   "pygments_lexer": "ipython3",
   "version": "3.8.8"
  },
  "toc": {
   "base_numbering": 1,
   "nav_menu": {},
   "number_sections": true,
   "sideBar": true,
   "skip_h1_title": false,
   "title_cell": "Table of Contents",
   "title_sidebar": "Contents",
   "toc_cell": false,
   "toc_position": {},
   "toc_section_display": true,
   "toc_window_display": false
  }
 },
 "nbformat": 4,
 "nbformat_minor": 2
}
